{
  "nbformat": 4,
  "nbformat_minor": 0,
  "metadata": {
    "colab": {
      "name": "Copy of hackaton.ipynb",
      "provenance": [],
      "collapsed_sections": [],
      "toc_visible": true
    },
    "kernelspec": {
      "name": "python3",
      "display_name": "Python 3"
    },
    "accelerator": "GPU"
  },
  "cells": [
    {
      "cell_type": "code",
      "metadata": {
        "id": "kpmSbtrCklRB",
        "colab_type": "code",
        "outputId": "b74737a2-7648-405b-d3fa-f6e3b7f7f739",
        "colab": {
          "base_uri": "https://localhost:8080/",
          "height": 121
        }
      },
      "source": [
        "from google.colab import drive\n",
        "drive.mount('/content/drive')"
      ],
      "execution_count": 1,
      "outputs": [
        {
          "output_type": "stream",
          "text": [
            "Go to this URL in a browser: https://accounts.google.com/o/oauth2/auth?client_id=947318989803-6bn6qk8qdgf4n4g3pfee6491hc0brc4i.apps.googleusercontent.com&redirect_uri=urn%3aietf%3awg%3aoauth%3a2.0%3aoob&response_type=code&scope=email%20https%3a%2f%2fwww.googleapis.com%2fauth%2fdocs.test%20https%3a%2f%2fwww.googleapis.com%2fauth%2fdrive%20https%3a%2f%2fwww.googleapis.com%2fauth%2fdrive.photos.readonly%20https%3a%2f%2fwww.googleapis.com%2fauth%2fpeopleapi.readonly\n",
            "\n",
            "Enter your authorization code:\n",
            "··········\n",
            "Mounted at /content/drive\n"
          ],
          "name": "stdout"
        }
      ]
    },
    {
      "cell_type": "code",
      "metadata": {
        "id": "lNLhWWCxYfLf",
        "colab_type": "code",
        "colab": {}
      },
      "source": [
        "import re\n",
        "import pandas as pd\n",
        "from tqdm import tqdm\n",
        "from sklearn.feature_extraction.text import TfidfVectorizer\n",
        "from sklearn.linear_model import LogisticRegression\n",
        "from sklearn.model_selection import train_test_split\n",
        "from sklearn.metrics import f1_score\n",
        "import scipy\n",
        "import matplotlib.pyplot as plt\n",
        "import numpy as np\n",
        "import logging\n",
        "import multiprocessing\n",
        "import gensim\n",
        "from gensim.models import Word2Vec\n",
        "from sklearn.decomposition import PCA"
      ],
      "execution_count": 0,
      "outputs": []
    },
    {
      "cell_type": "code",
      "metadata": {
        "id": "z8IzA7Rx-VzU",
        "colab_type": "code",
        "colab": {}
      },
      "source": [
        "from tensorflow.keras.preprocessing.text import Tokenizer\n",
        "from tensorflow.keras.preprocessing.sequence import pad_sequences\n",
        "from tensorflow.keras.layers import Dense, Input, LSTM, Embedding, Dropout, Activation, Conv1D\n",
        "from tensorflow.keras import Sequential\n",
        "from tensorflow.keras.layers import Bidirectional, GlobalMaxPooling1D, GlobalMaxPool1D, MaxPooling1D, Flatten, concatenate\n",
        "from tensorflow.keras.models import Model\n",
        "from tensorflow.keras import initializers, regularizers, constraints, optimizers, layers\n",
        "from tensorflow.keras.callbacks import CSVLogger, ModelCheckpoint, EarlyStopping\n",
        "\n",
        "from sklearn.preprocessing import LabelEncoder\n",
        "\n",
        "from tensorflow.keras.utils import to_categorical\n",
        "from tensorflow.keras import backend as K"
      ],
      "execution_count": 0,
      "outputs": []
    },
    {
      "cell_type": "markdown",
      "metadata": {
        "id": "Oc94smEhjbA_",
        "colab_type": "text"
      },
      "source": [
        "# Download data"
      ]
    },
    {
      "cell_type": "code",
      "metadata": {
        "id": "75potnAshWU4",
        "colab_type": "code",
        "colab": {}
      },
      "source": [
        "data_path = '/content/drive/My Drive/Colab Notebooks/Hackathon/'\n",
        "wili_data_path = data_path + 'wili-2018/'\n",
        "\n",
        "x_train_path = wili_data_path + 'x_train.txt'\n",
        "x_test_path = wili_data_path + 'x_test.txt'\n",
        "y_train_path = wili_data_path + 'y_train.txt'\n",
        "y_test_path = wili_data_path + 'y_test.txt'\n",
        "labels_path = wili_data_path + 'labels.csv'"
      ],
      "execution_count": 0,
      "outputs": []
    },
    {
      "cell_type": "code",
      "metadata": {
        "id": "Vt7kVtUgYRi8",
        "colab_type": "code",
        "colab": {}
      },
      "source": [
        "# convert title of language in class\n",
        "with open(y_train_path) as f:\n",
        "    mylist = f.read().splitlines() \n",
        "languages = list(set(mylist))\n",
        "language_to_class = dict()\n",
        "class_to_language = dict()\n",
        "for i in range(len(languages)):\n",
        "    language_to_class[languages[i]] = i\n",
        "    class_to_language[i] = languages[i]"
      ],
      "execution_count": 0,
      "outputs": []
    },
    {
      "cell_type": "code",
      "metadata": {
        "id": "UDFr3-rKmDdv",
        "colab_type": "code",
        "outputId": "7035dee3-d081-4e84-b802-690c5247cc86",
        "colab": {
          "base_uri": "https://localhost:8080/",
          "height": 50
        }
      },
      "source": [
        "print(list(language_to_class.items())[:5])\n",
        "len(languages)"
      ],
      "execution_count": 8,
      "outputs": [
        {
          "output_type": "stream",
          "text": [
            "[('nep', 0), ('est', 1), ('vie', 2), ('pam', 3), ('csb', 4)]\n"
          ],
          "name": "stdout"
        },
        {
          "output_type": "execute_result",
          "data": {
            "text/plain": [
              "235"
            ]
          },
          "metadata": {
            "tags": []
          },
          "execution_count": 8
        }
      ]
    },
    {
      "cell_type": "code",
      "metadata": {
        "id": "YBqkjck1Yc7q",
        "colab_type": "code",
        "colab": {}
      },
      "source": [
        "def read_data():\n",
        "    with open(x_train_path) as f:\n",
        "        mylist = f.read().splitlines() \n",
        "    x_train = pd.DataFrame(mylist, columns=[\"sent\"])\n",
        "    with open(x_test_path) as f:\n",
        "        mylist = f.read().splitlines() \n",
        "    x_test = pd.DataFrame(mylist, columns=[\"sent\"])\n",
        "\n",
        "    with open(y_train_path) as f:\n",
        "        mylist = f.read().splitlines() \n",
        "    y_train = []\n",
        "    for lan in mylist:\n",
        "        y_train.append(language_to_class[lan])\n",
        "    y_train = pd.DataFrame(y_train)\n",
        "    with open(y_test_path) as f:\n",
        "        mylist = f.read().splitlines()\n",
        "\n",
        "    y_test = []\n",
        "    for lan in mylist:\n",
        "        y_test.append(language_to_class[lan])\n",
        "    y_test = pd.DataFrame(y_test)\n",
        "    \n",
        "    return (x_train, y_train), (x_test, y_test)"
      ],
      "execution_count": 0,
      "outputs": []
    },
    {
      "cell_type": "code",
      "metadata": {
        "id": "lRo0Wf1lZXsE",
        "colab_type": "code",
        "colab": {}
      },
      "source": [
        "(x_train, y_train), (x_test, y_test) = read_data()"
      ],
      "execution_count": 0,
      "outputs": []
    },
    {
      "cell_type": "code",
      "metadata": {
        "id": "zhKRW6V8hhIc",
        "colab_type": "code",
        "colab": {
          "base_uri": "https://localhost:8080/",
          "height": 252
        },
        "outputId": "79671fc3-0a48-4641-f285-5e5050bb4f3e"
      },
      "source": [
        "print(x_train.head())\n",
        "print(y_train.head())\n",
        "\n",
        "print(x_train.shape)\n",
        "print(x_test.shape)"
      ],
      "execution_count": 11,
      "outputs": [
        {
          "output_type": "stream",
          "text": [
            "                                                sent\n",
            "0  Klement Gottwaldi surnukeha palsameeriti ning ...\n",
            "1  Sebes, Joseph; Pereira Thomas (1961) (på eng)....\n",
            "2  भारतीय स्वातन्त्र्य आन्दोलन राष्ट्रीय एवम क्षे...\n",
            "3  Après lo cort periòde d'establiment a Basilèa,...\n",
            "4  ถนนเจริญกรุง (อักษรโรมัน: Thanon Charoen Krung...\n",
            "     0\n",
            "0    1\n",
            "1  140\n",
            "2  170\n",
            "3  210\n",
            "4   28\n",
            "(117500, 1)\n",
            "(117500, 1)\n"
          ],
          "name": "stdout"
        }
      ]
    },
    {
      "cell_type": "code",
      "metadata": {
        "id": "9zcUciRigFYu",
        "colab_type": "code",
        "outputId": "7e5114aa-18b1-4d4a-fdae-f0040bc9c413",
        "colab": {
          "base_uri": "https://localhost:8080/",
          "height": 265
        }
      },
      "source": [
        "lens = x_train.sent.str.split(' ').str.len().values\n",
        "plt.hist(lens, bins=np.linspace(0,1000,20), facecolor='blue', alpha=0.9)\n",
        "plt.show()"
      ],
      "execution_count": 12,
      "outputs": [
        {
          "output_type": "display_data",
          "data": {
            "image/png": "[encoded data removed]",
            "text/plain": [
              "<Figure size 432x288 with 1 Axes>"
            ]
          },
          "metadata": {
            "tags": [],
            "needs_background": "light"
          }
        }
      ]
    },
    {
      "cell_type": "markdown",
      "metadata": {
        "id": "4xdCSiHnhlX1",
        "colab_type": "text"
      },
      "source": [
        "# Experiment on small dataset"
      ]
    },
    {
      "cell_type": "code",
      "metadata": {
        "id": "sFTqOQmChknq",
        "colab_type": "code",
        "colab": {}
      },
      "source": [
        "# small_dataset = pd.read_csv(data_path + 'kaggle_dataset/dataset.csv')\n",
        "# small_dataset"
      ],
      "execution_count": 0,
      "outputs": []
    },
    {
      "cell_type": "code",
      "metadata": {
        "id": "LwtWy38ehtGO",
        "colab_type": "code",
        "colab": {}
      },
      "source": [
        "# X=small_dataset['Text']\n",
        "# y=small_dataset['language']\n",
        "\n",
        "# X_train, X_test, y_train, y_test = train_test_split(X, y, test_size=0.2, random_state=42)\n",
        "\n",
        "# print(len(X_train))\n",
        "# print(len(X_test))\n",
        "# print(len(y_train))\n",
        "# print(len(y_test))"
      ],
      "execution_count": 0,
      "outputs": []
    },
    {
      "cell_type": "markdown",
      "metadata": {
        "id": "XNoYz_IwjeY_",
        "colab_type": "text"
      },
      "source": [
        "# Embedding **data**"
      ]
    },
    {
      "cell_type": "code",
      "metadata": {
        "id": "bEr8pklSjQLP",
        "colab_type": "code",
        "colab": {}
      },
      "source": [
        "filter_out = '!\"#$%&()*+,-./:;<=>?@[\\\\]^_`{|}~\\t\\n1234567890'\n",
        "tokenizer = Tokenizer(filters=filter_out, lower=True)\n",
        "tokenizer.fit_on_texts(x_train.sent)"
      ],
      "execution_count": 0,
      "outputs": []
    },
    {
      "cell_type": "markdown",
      "metadata": {
        "id": "a5jxVwDcftcn",
        "colab_type": "text"
      },
      "source": [
        "Выбираю какое количество слов оставить. Если оставлять все, то будет 1500000, что слишком много. Можно поменять `count` и оно покажет сколько слов встречается больше, чем `count` раз"
      ]
    },
    {
      "cell_type": "code",
      "metadata": {
        "id": "4xKQt34TAG2-",
        "colab_type": "code",
        "outputId": "08a62b36-dffa-47b5-c2c0-2a87459e411a",
        "colab": {
          "base_uri": "https://localhost:8080/",
          "height": 34
        }
      },
      "source": [
        "# try different values of `count`\n",
        "# show how many words are presenting more than `count` times\n",
        "count = 10\n",
        "frequent_words = [w for w,c in tokenizer.word_counts.items() if c > count]\n",
        "len(frequent_words)"
      ],
      "execution_count": 32,
      "outputs": [
        {
          "output_type": "execute_result",
          "data": {
            "text/plain": [
              "64157"
            ]
          },
          "metadata": {
            "tags": []
          },
          "execution_count": 32
        }
      ]
    },
    {
      "cell_type": "code",
      "metadata": {
        "id": "QJacuBHhHEng",
        "colab_type": "code",
        "colab": {}
      },
      "source": [
        "embed_size = 300 # how big is each word vector\n",
        "max_features = len(frequent_words) # how many unique words to use (i.e num rows in embedding vector)\n",
        "maxlen = 200 # max number of words in a question to use\n",
        "\n",
        "## Tokenize the sentences\n",
        "tokenizer = Tokenizer(num_words=max_features, filters=filter_out, lower=True)\n",
        "\n",
        "def prepare_data():\n",
        "    x_tr, x_val, y_tr, y_val = train_test_split(x_train, y_train, test_size=0.1, random_state=1, stratify=y_train.values)\n",
        "   \n",
        "    tokenizer.fit_on_texts(x_tr.sent)\n",
        "\n",
        "    train_X = tokenizer.texts_to_sequences(x_tr.sent)\n",
        "    val_X = tokenizer.texts_to_sequences(x_val.sent)\n",
        "\n",
        "    ## Pad the sentences \n",
        "    train_X = pad_sequences(train_X, maxlen=maxlen)\n",
        "    val_X = pad_sequences(val_X, maxlen=maxlen)\n",
        "\n",
        "    return (train_X, y_tr), (val_X, y_val)\n",
        "    "
      ],
      "execution_count": 0,
      "outputs": []
    },
    {
      "cell_type": "code",
      "metadata": {
        "id": "qW1oK9wfHEnm",
        "colab_type": "code",
        "colab": {}
      },
      "source": [
        "(train_X, train_Y), (val_X, val_Y) = prepare_data()"
      ],
      "execution_count": 0,
      "outputs": []
    },
    {
      "cell_type": "markdown",
      "metadata": {
        "id": "HxyyqzKsgF9K",
        "colab_type": "text"
      },
      "source": [
        "Проверила, что в тренировочном и валидационном датасетах встречаются все классы. Балансировка регулируется вот этим параметром: stratify=y_train.values"
      ]
    },
    {
      "cell_type": "code",
      "metadata": {
        "id": "R1iJF7cyU5iK",
        "colab_type": "code",
        "outputId": "7d7f6d81-b54f-49ba-8f75-be2a63878fc0",
        "colab": {
          "base_uri": "https://localhost:8080/",
          "height": 34
        }
      },
      "source": [
        "len(set(val_Y.values.reshape(1, -1)[0]))"
      ],
      "execution_count": 35,
      "outputs": [
        {
          "output_type": "execute_result",
          "data": {
            "text/plain": [
              "235"
            ]
          },
          "metadata": {
            "tags": []
          },
          "execution_count": 35
        }
      ]
    },
    {
      "cell_type": "code",
      "metadata": {
        "id": "aPITYtR8UqNx",
        "colab_type": "code",
        "outputId": "e75bf9df-59b9-403f-e6fc-f0f3d2d2dfe6",
        "colab": {
          "base_uri": "https://localhost:8080/",
          "height": 34
        }
      },
      "source": [
        "len(set(train_Y.values.reshape(1, -1)[0]))"
      ],
      "execution_count": 0,
      "outputs": [
        {
          "output_type": "execute_result",
          "data": {
            "text/plain": [
              "235"
            ]
          },
          "metadata": {
            "tags": []
          },
          "execution_count": 22
        }
      ]
    },
    {
      "cell_type": "markdown",
      "metadata": {
        "id": "TYuurOSQgYUl",
        "colab_type": "text"
      },
      "source": [
        "Ниже меняю представление векторов ответов из [1, 23, 10,...] в вектор длины 235 и с 1 на месте соответсвующего языка"
      ]
    },
    {
      "cell_type": "code",
      "metadata": {
        "id": "b0iIyf4bIXg_",
        "colab_type": "code",
        "outputId": "a4cc6780-ace0-4eb1-e0c3-8cd92cbea560",
        "colab": {
          "base_uri": "https://localhost:8080/",
          "height": 104
        }
      },
      "source": [
        "lb = LabelEncoder()\n",
        "y = lb.fit_transform(train_Y.values)\n",
        "dummy_y_train = to_categorical(y)\n",
        "print(len(dummy_y_train))\n",
        "print(len(dummy_y_train[0]))"
      ],
      "execution_count": 59,
      "outputs": [
        {
          "output_type": "stream",
          "text": [
            "105750\n",
            "235\n"
          ],
          "name": "stdout"
        },
        {
          "output_type": "stream",
          "text": [
            "/usr/local/lib/python3.6/dist-packages/sklearn/preprocessing/_label.py:251: DataConversionWarning: A column-vector y was passed when a 1d array was expected. Please change the shape of y to (n_samples, ), for example using ravel().\n",
            "  y = column_or_1d(y, warn=True)\n"
          ],
          "name": "stderr"
        }
      ]
    },
    {
      "cell_type": "code",
      "metadata": {
        "id": "vCBYAruyIxUm",
        "colab_type": "code",
        "outputId": "c2be0cca-a62c-4d6a-ae80-6bb062466b4a",
        "colab": {
          "base_uri": "https://localhost:8080/",
          "height": 70
        }
      },
      "source": [
        "y = lb.fit_transform(val_Y.values)\n",
        "dummy_y_val = to_categorical(y)"
      ],
      "execution_count": 60,
      "outputs": [
        {
          "output_type": "stream",
          "text": [
            "/usr/local/lib/python3.6/dist-packages/sklearn/preprocessing/_label.py:251: DataConversionWarning: A column-vector y was passed when a 1d array was expected. Please change the shape of y to (n_samples, ), for example using ravel().\n",
            "  y = column_or_1d(y, warn=True)\n"
          ],
          "name": "stderr"
        }
      ]
    },
    {
      "cell_type": "markdown",
      "metadata": {
        "id": "MeXXgZJ6miyl",
        "colab_type": "text"
      },
      "source": [
        "# Metrics"
      ]
    },
    {
      "cell_type": "code",
      "metadata": {
        "id": "vp4rfHfplm6O",
        "colab_type": "code",
        "colab": {}
      },
      "source": [
        "def f1(y_true, y_pred): #taken from old keras source code\n",
        "    true_positives = K.sum(K.round(K.clip(y_true * y_pred, 0, 1)))\n",
        "    possible_positives = K.sum(K.round(K.clip(y_true, 0, 1)))\n",
        "    predicted_positives = K.sum(K.round(K.clip(y_pred, 0, 1)))\n",
        "    precision = true_positives / (predicted_positives + K.epsilon())\n",
        "    recall = true_positives / (possible_positives + K.epsilon())\n",
        "    f1_val = 2*(precision*recall)/(precision+recall+K.epsilon())\n",
        "    return f1_val"
      ],
      "execution_count": 0,
      "outputs": []
    },
    {
      "cell_type": "code",
      "metadata": {
        "id": "Dzi3zyNsmNIR",
        "colab_type": "code",
        "colab": {}
      },
      "source": [
        "def recall(y_true, y_pred): #taken from old keras source code\n",
        "    true_positives = K.sum(K.round(K.clip(y_true * y_pred, 0, 1)))\n",
        "    possible_positives = K.sum(K.round(K.clip(y_true, 0, 1)))\n",
        "    predicted_positives = K.sum(K.round(K.clip(y_pred, 0, 1)))\n",
        "    return true_positives / (possible_positives + K.epsilon())"
      ],
      "execution_count": 0,
      "outputs": []
    },
    {
      "cell_type": "code",
      "metadata": {
        "id": "JX13CaozmRhy",
        "colab_type": "code",
        "colab": {}
      },
      "source": [
        "def precision(y_true, y_pred): #taken from old keras source code\n",
        "    true_positives = K.sum(K.round(K.clip(y_true * y_pred, 0, 1)))\n",
        "    possible_positives = K.sum(K.round(K.clip(y_true, 0, 1)))\n",
        "    predicted_positives = K.sum(K.round(K.clip(y_pred, 0, 1)))\n",
        "    return true_positives / (predicted_positives + K.epsilon())"
      ],
      "execution_count": 0,
      "outputs": []
    },
    {
      "cell_type": "markdown",
      "metadata": {
        "id": "VtGH8P89gTXf",
        "colab_type": "text"
      },
      "source": [
        "#CNN"
      ]
    },
    {
      "cell_type": "code",
      "metadata": {
        "id": "vdsE9d9SjdsW",
        "colab_type": "code",
        "outputId": "11b64422-eda0-47e7-de1e-c9d87979a78a",
        "colab": {
          "base_uri": "https://localhost:8080/",
          "height": 487
        }
      },
      "source": [
        "cnn_model = Sequential()\n",
        "cnn_model.add(Embedding(max_features, embed_size,input_shape=(maxlen,)))\n",
        "cnn_model.add(Conv1D(256, 5, activation='relu', input_shape=(embed_size,)))\n",
        "cnn_model.add(MaxPooling1D(5))\n",
        "cnn_model.add(Dropout(0.2))\n",
        "cnn_model.add(Conv1D(256, 5, activation='relu'))\n",
        "cnn_model.add(MaxPooling1D(5))\n",
        "cnn_model.add(Flatten())\n",
        "cnn_model.add(Dense(512, activation=\"relu\"))\n",
        "cnn_model.add(Dropout(0.2))\n",
        "cnn_model.add(Dense(len(languages), activation='softmax'))\n",
        "cnn_model.summary()"
      ],
      "execution_count": 49,
      "outputs": [
        {
          "output_type": "stream",
          "text": [
            "Model: \"sequential_1\"\n",
            "_________________________________________________________________\n",
            "Layer (type)                 Output Shape              Param #   \n",
            "=================================================================\n",
            "embedding_1 (Embedding)      (None, 200, 300)          19247100  \n",
            "_________________________________________________________________\n",
            "conv1d_2 (Conv1D)            (None, 196, 256)          384256    \n",
            "_________________________________________________________________\n",
            "max_pooling1d_2 (MaxPooling1 (None, 39, 256)           0         \n",
            "_________________________________________________________________\n",
            "dropout_2 (Dropout)          (None, 39, 256)           0         \n",
            "_________________________________________________________________\n",
            "conv1d_3 (Conv1D)            (None, 35, 256)           327936    \n",
            "_________________________________________________________________\n",
            "max_pooling1d_3 (MaxPooling1 (None, 7, 256)            0         \n",
            "_________________________________________________________________\n",
            "flatten_1 (Flatten)          (None, 1792)              0         \n",
            "_________________________________________________________________\n",
            "dense_2 (Dense)              (None, 528)               946704    \n",
            "_________________________________________________________________\n",
            "dropout_3 (Dropout)          (None, 528)               0         \n",
            "_________________________________________________________________\n",
            "dense_3 (Dense)              (None, 235)               124315    \n",
            "=================================================================\n",
            "Total params: 21,030,311\n",
            "Trainable params: 21,030,311\n",
            "Non-trainable params: 0\n",
            "_________________________________________________________________\n"
          ],
          "name": "stdout"
        }
      ]
    },
    {
      "cell_type": "code",
      "metadata": {
        "id": "Sndko3XlZ806",
        "colab_type": "code",
        "colab": {}
      },
      "source": [
        "cnn_model.compile(loss='categorical_crossentropy', optimizer='adam', metrics=['accuracy', f1, recall, precision])"
      ],
      "execution_count": 0,
      "outputs": []
    },
    {
      "cell_type": "code",
      "metadata": {
        "id": "Aa9rf4_Oq6nX",
        "colab_type": "code",
        "colab": {}
      },
      "source": [
        "cnn_cp_path = data_path+'model_cnn.hdf5'\n",
        "cnn_cp=ModelCheckpoint(cnn_cp_path, monitor='val_f1',save_best_only=True)"
      ],
      "execution_count": 0,
      "outputs": []
    },
    {
      "cell_type": "code",
      "metadata": {
        "id": "LIhz76oFHo_c",
        "colab_type": "code",
        "outputId": "7f4612ee-3dd1-4f84-b2a9-d50b6ee3c118",
        "colab": {
          "base_uri": "https://localhost:8080/",
          "height": 222
        }
      },
      "source": [
        "cnn_model.fit(train_X, dummy_y_train, batch_size=512, epochs=5, \n",
        "              validation_data=(val_X, dummy_y_val),\n",
        "              callbacks = [cnn_cp])"
      ],
      "execution_count": 62,
      "outputs": [
        {
          "output_type": "stream",
          "text": [
            "Epoch 1/5\n",
            "207/207 [==============================] - 87s 418ms/step - loss: 3.2681 - accuracy: 0.3020 - f1: 0.2766 - recall: 0.2162 - precision: 0.6018 - val_loss: 0.7261 - val_accuracy: 0.8397 - val_f1: 0.8468 - val_recall: 0.7590 - val_precision: 0.9581\n",
            "Epoch 2/5\n",
            "207/207 [==============================] - 86s 414ms/step - loss: 0.5337 - accuracy: 0.8660 - f1: 0.8820 - recall: 0.8239 - precision: 0.9495 - val_loss: 0.4821 - val_accuracy: 0.8918 - val_f1: 0.9104 - val_recall: 0.8615 - val_precision: 0.9651\n",
            "Epoch 3/5\n",
            "207/207 [==============================] - 85s 413ms/step - loss: 0.2602 - accuracy: 0.9291 - f1: 0.9427 - recall: 0.9112 - precision: 0.9765 - val_loss: 0.4964 - val_accuracy: 0.8921 - val_f1: 0.9114 - val_recall: 0.8736 - val_precision: 0.9528\n",
            "Epoch 4/5\n",
            "207/207 [==============================] - 86s 413ms/step - loss: 0.1830 - accuracy: 0.9478 - f1: 0.9589 - recall: 0.9353 - precision: 0.9838 - val_loss: 0.5692 - val_accuracy: 0.8871 - val_f1: 0.9085 - val_recall: 0.8762 - val_precision: 0.9434\n",
            "Epoch 5/5\n",
            "207/207 [==============================] - 85s 411ms/step - loss: 0.1536 - accuracy: 0.9551 - f1: 0.9655 - recall: 0.9454 - precision: 0.9866 - val_loss: 0.6166 - val_accuracy: 0.8894 - val_f1: 0.9087 - val_recall: 0.8790 - val_precision: 0.9407\n"
          ],
          "name": "stdout"
        },
        {
          "output_type": "execute_result",
          "data": {
            "text/plain": [
              "<tensorflow.python.keras.callbacks.History at 0x7fbd7b5dda58>"
            ]
          },
          "metadata": {
            "tags": []
          },
          "execution_count": 62
        }
      ]
    },
    {
      "cell_type": "markdown",
      "metadata": {
        "id": "e-T-4MO1ZR_S",
        "colab_type": "text"
      },
      "source": [
        "#RNN"
      ]
    },
    {
      "cell_type": "code",
      "metadata": {
        "id": "7ch0GFZ-ZSzb",
        "colab_type": "code",
        "outputId": "8915e7d5-17a0-4664-e176-16330d433c79",
        "colab": {
          "base_uri": "https://localhost:8080/",
          "height": 454
        }
      },
      "source": [
        "rnn_model = Sequential()\n",
        "rnn_model.add(Embedding(max_features, embed_size))\n",
        "rnn_model.add(Bidirectional(LSTM(256, return_sequences=True, activation='tanh',input_dim=embed_size)))\n",
        "rnn_model.add(Dropout(0.2))\n",
        "rnn_model.add(Bidirectional(LSTM(256, return_sequences=True, activation='tanh')))\n",
        "rnn_model.add(GlobalMaxPool1D())\n",
        "rnn_model.add(Dropout(0.2))\n",
        "rnn_model.add(Dense(512, activation=\"relu\"))\n",
        "rnn_model.add(Dropout(0.2))\n",
        "rnn_model.add(Dense(len(languages), activation='softmax'))\n",
        "rnn_model.summary()"
      ],
      "execution_count": 63,
      "outputs": [
        {
          "output_type": "stream",
          "text": [
            "Model: \"sequential_2\"\n",
            "_________________________________________________________________\n",
            "Layer (type)                 Output Shape              Param #   \n",
            "=================================================================\n",
            "embedding_2 (Embedding)      (None, None, 300)         19247100  \n",
            "_________________________________________________________________\n",
            "bidirectional (Bidirectional (None, None, 512)         1140736   \n",
            "_________________________________________________________________\n",
            "dropout_4 (Dropout)          (None, None, 512)         0         \n",
            "_________________________________________________________________\n",
            "bidirectional_1 (Bidirection (None, None, 512)         1574912   \n",
            "_________________________________________________________________\n",
            "global_max_pooling1d (Global (None, 512)               0         \n",
            "_________________________________________________________________\n",
            "dropout_5 (Dropout)          (None, 512)               0         \n",
            "_________________________________________________________________\n",
            "dense_4 (Dense)              (None, 512)               262656    \n",
            "_________________________________________________________________\n",
            "dropout_6 (Dropout)          (None, 512)               0         \n",
            "_________________________________________________________________\n",
            "dense_5 (Dense)              (None, 235)               120555    \n",
            "=================================================================\n",
            "Total params: 22,345,959\n",
            "Trainable params: 22,345,959\n",
            "Non-trainable params: 0\n",
            "_________________________________________________________________\n"
          ],
          "name": "stdout"
        }
      ]
    },
    {
      "cell_type": "code",
      "metadata": {
        "id": "C1W3XFHXZiVR",
        "colab_type": "code",
        "colab": {}
      },
      "source": [
        "rnn_model.compile(loss='categorical_crossentropy', optimizer='adam', metrics=['accuracy', f1, recall, precision])"
      ],
      "execution_count": 0,
      "outputs": []
    },
    {
      "cell_type": "code",
      "metadata": {
        "id": "tPtLB7kUrGgE",
        "colab_type": "code",
        "colab": {}
      },
      "source": [
        "rnn_cp_path = data_path + 'model_rnn.hdf5'\n",
        "rnn_cp=ModelCheckpoint(rnn_cp_path,monitor='val_f1',save_best_only=True)"
      ],
      "execution_count": 0,
      "outputs": []
    },
    {
      "cell_type": "code",
      "metadata": {
        "id": "2qK-tgijZk7L",
        "colab_type": "code",
        "outputId": "2bce9dfc-fe71-42a1-964e-f89701f3486b",
        "colab": {
          "base_uri": "https://localhost:8080/",
          "height": 154
        }
      },
      "source": [
        "rnn_model.fit(train_X, dummy_y_train, batch_size=512, epochs=3, \n",
        "              validation_data=(val_X, dummy_y_val), callbacks = [rnn_cp])"
      ],
      "execution_count": 66,
      "outputs": [
        {
          "output_type": "stream",
          "text": [
            "Epoch 1/3\n",
            "207/207 [==============================] - 321s 2s/step - loss: 2.5891 - accuracy: 0.4243 - f1: 0.3768 - recall: 0.3188 - precision: 0.5763 - val_loss: 0.5165 - val_accuracy: 0.8675 - val_f1: 0.8854 - val_recall: 0.8305 - val_precision: 0.9481\n",
            "Epoch 2/3\n",
            "207/207 [==============================] - 317s 2s/step - loss: 0.4045 - accuracy: 0.8951 - f1: 0.9097 - recall: 0.8678 - precision: 0.9561 - val_loss: 0.3988 - val_accuracy: 0.8985 - val_f1: 0.9145 - val_recall: 0.8762 - val_precision: 0.9565\n",
            "Epoch 3/3\n",
            "207/207 [==============================] - 317s 2s/step - loss: 0.2285 - accuracy: 0.9368 - f1: 0.9492 - recall: 0.9225 - precision: 0.9775 - val_loss: 0.3939 - val_accuracy: 0.9061 - val_f1: 0.9226 - val_recall: 0.8887 - val_precision: 0.9592\n"
          ],
          "name": "stdout"
        },
        {
          "output_type": "execute_result",
          "data": {
            "text/plain": [
              "<tensorflow.python.keras.callbacks.History at 0x7fbd892680b8>"
            ]
          },
          "metadata": {
            "tags": []
          },
          "execution_count": 66
        }
      ]
    },
    {
      "cell_type": "markdown",
      "metadata": {
        "id": "dCeuUze_qnC2",
        "colab_type": "text"
      },
      "source": [
        "# Results"
      ]
    },
    {
      "cell_type": "code",
      "metadata": {
        "id": "3jS0Tq-Cqb4t",
        "colab_type": "code",
        "colab": {}
      },
      "source": [
        "x_test['sc'] = y_test"
      ],
      "execution_count": 0,
      "outputs": []
    },
    {
      "cell_type": "code",
      "metadata": {
        "id": "wowtwiinqwm0",
        "colab_type": "code",
        "colab": {}
      },
      "source": [
        "# Be careful! Tokenizer and maxlen is taken from train dataset from 1st part\n",
        "def convert(x):\n",
        "    train_X = tokenizer.texts_to_sequences(x.sent)\n",
        "    ## Pad the sentences \n",
        "    train_X = pad_sequences(train_X, maxlen=maxlen)\n",
        "    return train_X"
      ],
      "execution_count": 0,
      "outputs": []
    },
    {
      "cell_type": "code",
      "metadata": {
        "id": "WvOMHL7Nx_eO",
        "colab_type": "code",
        "colab": {}
      },
      "source": [
        "def metr(y_true, y_pred): #taken from old keras source code\n",
        "    true_positives = K.sum(K.round(K.clip(y_true * y_pred, 0, 1)))\n",
        "    possible_positives = K.sum(K.round(K.clip(y_true, 0, 1)))\n",
        "    predicted_positives = K.sum(K.round(K.clip(y_pred, 0, 1)))\n",
        "    precision = true_positives / (predicted_positives + K.epsilon())\n",
        "    recall = true_positives / (possible_positives + K.epsilon())\n",
        "    f1_val = 2*(precision*recall)/(precision+recall+K.epsilon())\n",
        "    return precision, recall, f1_val"
      ],
      "execution_count": 0,
      "outputs": []
    },
    {
      "cell_type": "markdown",
      "metadata": {
        "id": "-OwT-3obvsIo",
        "colab_type": "text"
      },
      "source": [
        "# Test"
      ]
    },
    {
      "cell_type": "code",
      "metadata": {
        "id": "P006Z5Sgzeal",
        "colab_type": "code",
        "colab": {
          "base_uri": "https://localhost:8080/",
          "height": 1000
        },
        "outputId": "4a1fd396-78c3-42e1-c59e-5f1b29bf8c92"
      },
      "source": [
        "ps = []\n",
        "rs = []\n",
        "fs = []\n",
        "for lan in range(len(languages)):\n",
        "    x_t = x_test[x_test['sc'] == lan]\n",
        "    x = convert(x_t)\n",
        "    y = np.zeros((x.shape[0], len(languages)))\n",
        "    y[:, lan] = 1\n",
        "    y = y.astype('float32')\n",
        "    y_pred = cnn_model.predict(x)\n",
        "    p, r, f = metr(y, y_pred)\n",
        "    ps.append(p.numpy())\n",
        "    rs.append(r.numpy())\n",
        "    fs.append(f.numpy())\n",
        "    print(\"language: \", class_to_language[lan], \"precision: \", p.numpy(), \"recall: \", r.numpy(), \"f1: \", f.numpy())"
      ],
      "execution_count": 88,
      "outputs": [
        {
          "output_type": "stream",
          "text": [
            "language:  nep precision:  0.90123457 recall:  0.876 f1:  0.88843805\n",
            "language:  est precision:  0.8597701 recall:  0.748 f1:  0.79999995\n",
            "language:  vie precision:  0.98993963 recall:  0.984 f1:  0.9869609\n",
            "language:  pam precision:  0.9605809 recall:  0.926 f1:  0.9429734\n",
            "language:  csb precision:  0.9122449 recall:  0.894 f1:  0.9030303\n",
            "language:  gle precision:  0.9816701 recall:  0.964 f1:  0.9727547\n",
            "language:  ava precision:  0.8496732 recall:  0.78 f1:  0.8133471\n",
            "language:  fra precision:  0.80131006 recall:  0.734 f1:  0.7661795\n",
            "language:  zh-yue precision:  0.47887325 recall:  0.068 f1:  0.1190893\n",
            "language:  msa precision:  0.8178054 recall:  0.79 f1:  0.80366224\n",
            "language:  ext precision:  0.9414226 recall:  0.9 f1:  0.92024535\n",
            "language:  bre precision:  0.9757576 recall:  0.966 f1:  0.97085416\n",
            "language:  lad precision:  0.89979124 recall:  0.862 f1:  0.88049024\n",
            "language:  snd precision:  0.99597585 recall:  0.99 f1:  0.9929789\n",
            "language:  sin precision:  0.9627329 recall:  0.93 f1:  0.9460834\n",
            "language:  kok precision:  0.90618336 recall:  0.85 f1:  0.8771929\n",
            "language:  spa precision:  0.74832964 recall:  0.672 f1:  0.7081138\n",
            "language:  kab precision:  0.9460581 recall:  0.912 f1:  0.9287169\n",
            "language:  ron precision:  0.9587629 recall:  0.93 f1:  0.94416237\n",
            "language:  deu precision:  0.87004405 recall:  0.79 f1:  0.8280922\n",
            "language:  kin precision:  0.95247936 recall:  0.922 f1:  0.9369919\n",
            "language:  pol precision:  0.975052 recall:  0.938 f1:  0.95616716\n",
            "language:  udm precision:  0.9601677 recall:  0.916 f1:  0.9375639\n",
            "language:  lim precision:  0.95740366 recall:  0.944 f1:  0.9506545\n",
            "language:  glv precision:  0.9717172 recall:  0.962 f1:  0.96683407\n",
            "language:  por precision:  0.8886555 recall:  0.846 f1:  0.8668032\n",
            "language:  hun precision:  0.97131145 recall:  0.948 f1:  0.9595141\n",
            "language:  cym precision:  0.97987926 recall:  0.974 f1:  0.97693074\n",
            "language:  tha precision:  0.9530686 recall:  0.528 f1:  0.6795366\n",
            "language:  new precision:  0.9778672 recall:  0.972 f1:  0.9749247\n",
            "language:  zho precision:  0.34375 recall:  0.022 f1:  0.04135337\n",
            "language:  tcy precision:  0.97330594 recall:  0.948 f1:  0.9604863\n",
            "language:  heb precision:  0.9836401 recall:  0.962 f1:  0.97269964\n",
            "language:  gag precision:  0.8972746 recall:  0.856 f1:  0.8761514\n",
            "language:  tet precision:  0.9392713 recall:  0.928 f1:  0.93360156\n",
            "language:  lug precision:  0.9525773 recall:  0.924 f1:  0.93807095\n",
            "language:  kan precision:  0.96025103 recall:  0.918 f1:  0.9386502\n",
            "language:  nno precision:  0.90123457 recall:  0.876 f1:  0.88843805\n",
            "language:  san precision:  0.97540987 recall:  0.952 f1:  0.9635627\n",
            "language:  mdf precision:  0.9352818 recall:  0.896 f1:  0.9152195\n",
            "language:  roh precision:  0.9459459 recall:  0.91 f1:  0.9276248\n",
            "language:  slv precision:  0.9426752 recall:  0.888 f1:  0.9145211\n",
            "language:  nap precision:  0.9425051 recall:  0.918 f1:  0.93009114\n",
            "language:  ori precision:  0.98971194 recall:  0.962 f1:  0.9756592\n",
            "language:  rup precision:  0.875803 recall:  0.818 f1:  0.84591514\n",
            "language:  oss precision:  0.9756098 recall:  0.96 f1:  0.96774185\n",
            "language:  tgk precision:  0.9776423 recall:  0.962 f1:  0.96975803\n",
            "language:  mrj precision:  0.97352344 recall:  0.956 f1:  0.96468204\n",
            "language:  lmo precision:  0.84199584 recall:  0.81 f1:  0.82568794\n",
            "language:  hat precision:  0.979716 recall:  0.966 f1:  0.97280955\n",
            "language:  que precision:  0.9450317 recall:  0.894 f1:  0.91880774\n",
            "language:  hbs precision:  0.6473214 recall:  0.58 f1:  0.61181426\n",
            "language:  pus precision:  0.9734694 recall:  0.954 f1:  0.9636363\n",
            "language:  fur precision:  0.92339545 recall:  0.892 f1:  0.90742624\n",
            "language:  amh precision:  0.9837067 recall:  0.966 f1:  0.9747729\n",
            "language:  cos precision:  0.94639176 recall:  0.918 f1:  0.93197966\n",
            "language:  nan precision:  1.0 recall:  0.998 f1:  0.99899894\n",
            "language:  diq precision:  0.9546392 recall:  0.926 f1:  0.94010144\n",
            "language:  jpn precision:  0.8405797 recall:  0.116 f1:  0.20386639\n",
            "language:  map-bms precision:  0.8530021 recall:  0.824 f1:  0.8382502\n",
            "language:  xho precision:  0.9330544 recall:  0.892 f1:  0.9120654\n",
            "language:  bho precision:  0.9670782 recall:  0.94 f1:  0.9533468\n",
            "language:  stq precision:  0.965587 recall:  0.954 f1:  0.95975846\n",
            "language:  jav precision:  0.9288618 recall:  0.914 f1:  0.92137086\n",
            "language:  xmf precision:  0.98329854 recall:  0.942 f1:  0.9622063\n",
            "language:  scn precision:  0.97183096 recall:  0.966 f1:  0.96890664\n",
            "language:  vec precision:  0.92339545 recall:  0.892 f1:  0.90742624\n",
            "language:  dty precision:  0.7321063 recall:  0.716 f1:  0.7239636\n",
            "language:  pfl precision:  0.84504133 recall:  0.818 f1:  0.8313008\n",
            "language:  lit precision:  0.9364035 recall:  0.854 f1:  0.89330536\n",
            "language:  koi precision:  0.8867521 recall:  0.83 f1:  0.85743797\n",
            "language:  urd precision:  0.9959432 recall:  0.982 f1:  0.98892236\n",
            "language:  nrm precision:  0.95501024 recall:  0.934 f1:  0.9443883\n",
            "language:  sco precision:  0.9006211 recall:  0.87 f1:  0.88504577\n",
            "language:  sme precision:  0.95454544 recall:  0.882 f1:  0.9168399\n",
            "language:  hye precision:  0.99383986 recall:  0.968 f1:  0.98074967\n",
            "language:  nav precision:  1.0 recall:  0.998 f1:  0.99899894\n",
            "language:  olo precision:  0.95680344 recall:  0.886 f1:  0.92004144\n",
            "language:  kur precision:  0.96734697 recall:  0.948 f1:  0.95757574\n",
            "language:  cdo precision:  0.99364406 recall:  0.938 f1:  0.9650205\n",
            "language:  bel precision:  0.7257732 recall:  0.704 f1:  0.7147208\n",
            "language:  eng precision:  0.89081883 recall:  0.718 f1:  0.7951273\n",
            "language:  ara precision:  0.97363085 recall:  0.96 f1:  0.9667673\n",
            "language:  vls precision:  0.9381443 recall:  0.91 f1:  0.92385787\n",
            "language:  roa-tara precision:  0.9613035 recall:  0.944 f1:  0.95257306\n",
            "language:  mri precision:  0.993988 recall:  0.992 f1:  0.99299294\n",
            "language:  frp precision:  0.9189189 recall:  0.884 f1:  0.90112126\n",
            "language:  aym precision:  0.94045174 recall:  0.916 f1:  0.9280648\n",
            "language:  ast precision:  0.8947368 recall:  0.816 f1:  0.8535564\n",
            "language:  kaa precision:  0.93360996 recall:  0.9 f1:  0.9164969\n",
            "language:  mar precision:  0.96025103 recall:  0.918 f1:  0.9386502\n",
            "language:  hrv precision:  0.5 recall:  0.462 f1:  0.48024943\n",
            "language:  bar precision:  0.8742004 recall:  0.82 f1:  0.8462331\n",
            "language:  mhr precision:  0.95501024 recall:  0.934 f1:  0.9443883\n",
            "language:  mal precision:  0.975 recall:  0.858 f1:  0.9127659\n",
            "language:  epo precision:  0.96066254 recall:  0.928 f1:  0.9440487\n",
            "language:  bod precision:  0.97530866 recall:  0.158 f1:  0.2719449\n",
            "language:  uzb precision:  0.9489796 recall:  0.93 f1:  0.9393939\n",
            "language:  hsb precision:  0.9665272 recall:  0.924 f1:  0.94478524\n",
            "language:  eus precision:  0.97325104 recall:  0.946 f1:  0.959432\n",
            "language:  tat precision:  0.93775934 recall:  0.904 f1:  0.9205702\n",
            "language:  wln precision:  0.98163265 recall:  0.962 f1:  0.9717172\n",
            "language:  tsn precision:  0.9653768 recall:  0.948 f1:  0.9566094\n",
            "language:  war precision:  0.996 recall:  0.996 f1:  0.99599993\n",
            "language:  lzh precision:  0.0 recall:  0.0 f1:  0.0\n",
            "language:  egl precision:  0.93660533 recall:  0.916 f1:  0.926188\n",
            "language:  swa precision:  0.95679015 recall:  0.93 f1:  0.9432048\n",
            "language:  nds-nl precision:  0.9018405 recall:  0.882 f1:  0.8918098\n",
            "language:  arg precision:  0.8953975 recall:  0.856 f1:  0.8752555\n",
            "language:  bul precision:  0.95625 recall:  0.918 f1:  0.9367346\n",
            "language:  pan precision:  0.9979716 recall:  0.984 f1:  0.99093646\n",
            "language:  lat precision:  0.94725275 recall:  0.862 f1:  0.9026177\n",
            "language:  lez precision:  0.94409937 recall:  0.912 f1:  0.92777205\n",
            "language:  ukr precision:  0.9240506 recall:  0.876 f1:  0.8993839\n",
            "language:  vro precision:  0.9373695 recall:  0.898 f1:  0.91726243\n",
            "language:  slk precision:  0.9378882 recall:  0.906 f1:  0.9216683\n",
            "language:  isl precision:  0.9757576 recall:  0.966 f1:  0.97085416\n",
            "language:  tur precision:  0.8898305 recall:  0.84 f1:  0.8641975\n",
            "language:  kir precision:  0.9756098 recall:  0.96 f1:  0.96774185\n",
            "language:  afr precision:  0.96957403 recall:  0.956 f1:  0.96273905\n",
            "language:  nob precision:  0.89938396 recall:  0.876 f1:  0.8875379\n",
            "language:  sah precision:  0.96487606 recall:  0.934 f1:  0.949187\n",
            "language:  che precision:  0.9777778 recall:  0.968 f1:  0.9728642\n",
            "language:  tel precision:  0.9663158 recall:  0.918 f1:  0.9415384\n",
            "language:  sna precision:  0.94600433 recall:  0.876 f1:  0.90965724\n",
            "language:  bjn precision:  0.954918 recall:  0.932 f1:  0.94331974\n",
            "language:  kat precision:  0.9853557 recall:  0.942 f1:  0.96319014\n",
            "language:  yor precision:  0.9227468 recall:  0.86 f1:  0.8902691\n",
            "language:  hak precision:  0.95188284 recall:  0.91 f1:  0.9304702\n",
            "language:  vol precision:  0.9898167 recall:  0.972 f1:  0.9808274\n",
            "language:  glg precision:  0.88631576 recall:  0.842 f1:  0.86358964\n",
            "language:  div precision:  1.0 recall:  0.97 f1:  0.98477155\n",
            "language:  som precision:  0.95218295 recall:  0.916 f1:  0.93374103\n",
            "language:  lav precision:  0.96218485 recall:  0.916 f1:  0.93852454\n",
            "language:  ksh precision:  0.91463417 recall:  0.9 f1:  0.90725803\n",
            "language:  ltg precision:  0.9456067 recall:  0.904 f1:  0.9243353\n",
            "language:  ckb precision:  0.99597585 recall:  0.99 f1:  0.9929789\n",
            "language:  kaz precision:  0.94813275 recall:  0.914 f1:  0.9307534\n",
            "language:  hif precision:  0.9392034 recall:  0.896 f1:  0.9170931\n",
            "language:  grn precision:  0.95501024 recall:  0.934 f1:  0.9443883\n",
            "language:  swe precision:  0.9717742 recall:  0.964 f1:  0.9678714\n",
            "language:  asm precision:  0.97148675 recall:  0.954 f1:  0.9626639\n",
            "language:  ibo precision:  0.92484343 recall:  0.886 f1:  0.90500504\n",
            "language:  yid precision:  0.9859155 recall:  0.98 f1:  0.98294884\n",
            "language:  guj precision:  0.97938144 recall:  0.95 f1:  0.964467\n",
            "language:  srd precision:  0.9259259 recall:  0.9 f1:  0.91277885\n",
            "language:  khm precision:  0.80737704 recall:  0.394 f1:  0.52956986\n",
            "language:  tyv precision:  0.98556703 recall:  0.956 f1:  0.97055835\n",
            "language:  jam precision:  0.97565925 recall:  0.962 f1:  0.9687814\n",
            "language:  uig precision:  0.98128897 recall:  0.944 f1:  0.9622833\n",
            "language:  pag precision:  0.88612837 recall:  0.856 f1:  0.87080365\n",
            "language:  ton precision:  0.99597585 recall:  0.99 f1:  0.9929789\n",
            "language:  aze precision:  0.9670103 recall:  0.938 f1:  0.9522842\n",
            "language:  mlg precision:  0.994 recall:  0.994 f1:  0.99399996\n",
            "language:  tuk precision:  0.96303904 recall:  0.938 f1:  0.9503545\n",
            "language:  pap precision:  0.927686 recall:  0.898 f1:  0.9126016\n",
            "language:  kom precision:  0.88322717 recall:  0.832 f1:  0.8568486\n",
            "language:  min precision:  0.992 recall:  0.992 f1:  0.9919999\n",
            "language:  vep precision:  0.97649574 recall:  0.914 f1:  0.94421476\n",
            "language:  ind precision:  0.87708336 recall:  0.842 f1:  0.8591836\n",
            "language:  mlt precision:  0.99196786 recall:  0.988 f1:  0.98997986\n",
            "language:  lij precision:  0.9409283 recall:  0.892 f1:  0.915811\n",
            "language:  wuu precision:  0.0 recall:  0.0 f1:  0.0\n",
            "language:  crh precision:  0.9246862 recall:  0.884 f1:  0.90388536\n",
            "language:  mon precision:  0.9593496 recall:  0.944 f1:  0.95161283\n",
            "language:  azb precision:  0.9777328 recall:  0.966 f1:  0.97183096\n",
            "language:  fry precision:  0.97125256 recall:  0.946 f1:  0.9584599\n",
            "language:  chv precision:  0.97077245 recall:  0.93 f1:  0.94994885\n",
            "language:  chr precision:  0.9878296 recall:  0.974 f1:  0.98086596\n",
            "language:  ido precision:  0.96480334 recall:  0.932 f1:  0.9481179\n",
            "language:  mai precision:  0.94715446 recall:  0.932 f1:  0.93951607\n",
            "language:  cat precision:  0.96694213 recall:  0.936 f1:  0.95121944\n",
            "language:  lrc precision:  0.92168677 recall:  0.918 f1:  0.9198396\n",
            "language:  rue precision:  0.9051724 recall:  0.84 f1:  0.87136924\n",
            "language:  cbk precision:  0.7653277 recall:  0.724 f1:  0.7440904\n",
            "language:  ile precision:  0.9631236 recall:  0.888 f1:  0.9240374\n",
            "language:  ben precision:  0.970276 recall:  0.914 f1:  0.9412976\n",
            "language:  cor precision:  0.9714286 recall:  0.952 f1:  0.96161616\n",
            "language:  nci precision:  0.9198312 recall:  0.872 f1:  0.8952771\n",
            "language:  lao precision:  0.9102564 recall:  0.568 f1:  0.6995073\n",
            "language:  sun precision:  0.9570552 recall:  0.936 f1:  0.9464105\n",
            "language:  rus precision:  0.8512035 recall:  0.778 f1:  0.8129571\n",
            "language:  ell precision:  0.98790324 recall:  0.98 f1:  0.9839357\n",
            "language:  jbo precision:  0.99196786 recall:  0.988 f1:  0.98997986\n",
            "language:  kbd precision:  0.9876033 recall:  0.956 f1:  0.9715446\n",
            "language:  orm precision:  0.975 recall:  0.936 f1:  0.955102\n",
            "language:  zea precision:  0.85858583 recall:  0.85 f1:  0.8542713\n",
            "language:  fas precision:  0.94939274 recall:  0.938 f1:  0.9436619\n",
            "language:  nds precision:  0.91493773 recall:  0.882 f1:  0.898167\n",
            "language:  myv precision:  0.9079229 recall:  0.848 f1:  0.87693894\n",
            "language:  bcl precision:  0.9799197 recall:  0.976 f1:  0.9779558\n",
            "language:  fin precision:  0.9255319 recall:  0.87 f1:  0.89690715\n",
            "language:  szl precision:  0.9634146 recall:  0.948 f1:  0.95564514\n",
            "language:  lin precision:  0.9459459 recall:  0.91 f1:  0.9276248\n",
            "language:  tgl precision:  0.9878049 recall:  0.972 f1:  0.97983867\n",
            "language:  hau precision:  0.9635627 recall:  0.952 f1:  0.9577464\n",
            "language:  mya precision:  0.97952217 recall:  0.574 f1:  0.7238335\n",
            "language:  srn precision:  0.97946614 recall:  0.954 f1:  0.96656525\n",
            "language:  hin precision:  0.95714283 recall:  0.938 f1:  0.94747466\n",
            "language:  fao precision:  0.9632653 recall:  0.944 f1:  0.95353526\n",
            "language:  tam precision:  0.984375 recall:  0.882 f1:  0.93037975\n",
            "language:  ace precision:  0.98582995 recall:  0.974 f1:  0.9798792\n",
            "language:  wol precision:  0.96443516 recall:  0.922 f1:  0.9427402\n",
            "language:  ces precision:  0.9305263 recall:  0.884 f1:  0.90666664\n",
            "language:  sgs precision:  0.9682875 recall:  0.916 f1:  0.94141823\n",
            "language:  ceb precision:  0.98995984 recall:  0.986 f1:  0.9879759\n",
            "language:  bpy precision:  0.98991936 recall:  0.982 f1:  0.98594373\n",
            "language:  ltz precision:  0.9459459 recall:  0.91 f1:  0.9276248\n",
            "language:  dan precision:  0.9130435 recall:  0.882 f1:  0.89725333\n",
            "language:  ang precision:  0.94736844 recall:  0.9 f1:  0.9230768\n",
            "language:  oci precision:  0.85021096 recall:  0.806 f1:  0.82751536\n",
            "language:  dsb precision:  0.9458333 recall:  0.908 f1:  0.92653054\n",
            "language:  arz precision:  0.91902834 recall:  0.908 f1:  0.9134808\n",
            "language:  sqi precision:  0.9652352 recall:  0.944 f1:  0.95449936\n",
            "language:  krc precision:  0.9506173 recall:  0.924 f1:  0.9371196\n",
            "language:  mwl precision:  0.960334 recall:  0.92 f1:  0.9397344\n",
            "language:  mkd precision:  0.9672131 recall:  0.944 f1:  0.9554655\n",
            "language:  ita precision:  0.90295357 recall:  0.856 f1:  0.87885004\n",
            "language:  ina precision:  0.9378882 recall:  0.906 f1:  0.9216683\n",
            "language:  pdc precision:  0.88396627 recall:  0.838 f1:  0.86036956\n",
            "language:  be-tarask precision:  0.81041664 recall:  0.778 f1:  0.7938775\n",
            "language:  ilo precision:  0.9775051 recall:  0.956 f1:  0.9666329\n",
            "language:  pcd precision:  0.7311111 recall:  0.658 f1:  0.69263154\n",
            "language:  bak precision:  0.9755102 recall:  0.956 f1:  0.9656564\n",
            "language:  pnb precision:  0.98995984 recall:  0.986 f1:  0.9879759\n",
            "language:  bos precision:  0.57641923 recall:  0.528 f1:  0.5511482\n",
            "language:  nso precision:  0.97363085 recall:  0.96 f1:  0.9667673\n",
            "language:  bxr precision:  0.94214875 recall:  0.912 f1:  0.92682916\n",
            "language:  gla precision:  0.9816701 recall:  0.964 f1:  0.9727547\n",
            "language:  als precision:  0.93514645 recall:  0.894 f1:  0.9141104\n",
            "language:  glk precision:  0.9085366 recall:  0.894 f1:  0.9012096\n",
            "language:  mzn precision:  0.93509126 recall:  0.922 f1:  0.92849946\n",
            "language:  srp precision:  0.9411765 recall:  0.896 f1:  0.9180327\n",
            "language:  nld precision:  0.89117044 recall:  0.868 f1:  0.87943256\n",
            "language:  kor precision:  0.9979592 recall:  0.978 f1:  0.98787874\n"
          ],
          "name": "stdout"
        }
      ]
    },
    {
      "cell_type": "code",
      "metadata": {
        "id": "-jFoYvQVzg0C",
        "colab_type": "code",
        "colab": {}
      },
      "source": [
        "metrics = pd.DataFrame(\n",
        "    {'precision': ps,\n",
        "     'recall': rs,\n",
        "     'f1': fs\n",
        "    })"
      ],
      "execution_count": 0,
      "outputs": []
    },
    {
      "cell_type": "code",
      "metadata": {
        "id": "vXV6tZ4Dzh4L",
        "colab_type": "code",
        "colab": {}
      },
      "source": [
        "metrics = metrics.rename(class_to_language, axis='index')"
      ],
      "execution_count": 0,
      "outputs": []
    },
    {
      "cell_type": "code",
      "metadata": {
        "id": "3DIQwh8Z0Gq8",
        "colab_type": "code",
        "colab": {
          "base_uri": "https://localhost:8080/",
          "height": 118
        },
        "outputId": "50f1c557-5140-4524-acc4-11e884bc0087"
      },
      "source": [
        "print(metrics.head())"
      ],
      "execution_count": 80,
      "outputs": [
        {
          "output_type": "stream",
          "text": [
            "     precision  recall        f1\n",
            "nep   0.918750   0.882  0.900000\n",
            "est   0.917778   0.826  0.869474\n",
            "vie   0.993976   0.990  0.991984\n",
            "pam   0.956701   0.928  0.942132\n",
            "csb   0.955375   0.942  0.948640\n"
          ],
          "name": "stdout"
        }
      ]
    },
    {
      "cell_type": "code",
      "metadata": {
        "id": "ZWbgAWK40LZ5",
        "colab_type": "code",
        "colab": {
          "base_uri": "https://localhost:8080/",
          "height": 402
        },
        "outputId": "01163b72-b99c-45f3-f5ce-43617664b7f1"
      },
      "source": [
        "metrics[metrics.f1 < 0.7]"
      ],
      "execution_count": 85,
      "outputs": [
        {
          "output_type": "execute_result",
          "data": {
            "text/html": [
              "<div>\n",
              "<style scoped>\n",
              "    .dataframe tbody tr th:only-of-type {\n",
              "        vertical-align: middle;\n",
              "    }\n",
              "\n",
              "    .dataframe tbody tr th {\n",
              "        vertical-align: top;\n",
              "    }\n",
              "\n",
              "    .dataframe thead th {\n",
              "        text-align: right;\n",
              "    }\n",
              "</style>\n",
              "<table border=\"1\" class=\"dataframe\">\n",
              "  <thead>\n",
              "    <tr style=\"text-align: right;\">\n",
              "      <th></th>\n",
              "      <th>precision</th>\n",
              "      <th>recall</th>\n",
              "      <th>f1</th>\n",
              "    </tr>\n",
              "  </thead>\n",
              "  <tbody>\n",
              "    <tr>\n",
              "      <th>zh-yue</th>\n",
              "      <td>0.436620</td>\n",
              "      <td>0.062</td>\n",
              "      <td>0.108581</td>\n",
              "    </tr>\n",
              "    <tr>\n",
              "      <th>tha</th>\n",
              "      <td>0.967273</td>\n",
              "      <td>0.532</td>\n",
              "      <td>0.686452</td>\n",
              "    </tr>\n",
              "    <tr>\n",
              "      <th>zho</th>\n",
              "      <td>0.475000</td>\n",
              "      <td>0.038</td>\n",
              "      <td>0.070370</td>\n",
              "    </tr>\n",
              "    <tr>\n",
              "      <th>hbs</th>\n",
              "      <td>0.561674</td>\n",
              "      <td>0.510</td>\n",
              "      <td>0.534591</td>\n",
              "    </tr>\n",
              "    <tr>\n",
              "      <th>jpn</th>\n",
              "      <td>0.837838</td>\n",
              "      <td>0.124</td>\n",
              "      <td>0.216028</td>\n",
              "    </tr>\n",
              "    <tr>\n",
              "      <th>hrv</th>\n",
              "      <td>0.663793</td>\n",
              "      <td>0.616</td>\n",
              "      <td>0.639004</td>\n",
              "    </tr>\n",
              "    <tr>\n",
              "      <th>bod</th>\n",
              "      <td>0.963855</td>\n",
              "      <td>0.160</td>\n",
              "      <td>0.274442</td>\n",
              "    </tr>\n",
              "    <tr>\n",
              "      <th>lzh</th>\n",
              "      <td>0.000000</td>\n",
              "      <td>0.000</td>\n",
              "      <td>0.000000</td>\n",
              "    </tr>\n",
              "    <tr>\n",
              "      <th>khm</th>\n",
              "      <td>0.887029</td>\n",
              "      <td>0.424</td>\n",
              "      <td>0.573748</td>\n",
              "    </tr>\n",
              "    <tr>\n",
              "      <th>wuu</th>\n",
              "      <td>0.363636</td>\n",
              "      <td>0.032</td>\n",
              "      <td>0.058824</td>\n",
              "    </tr>\n",
              "    <tr>\n",
              "      <th>lao</th>\n",
              "      <td>0.898734</td>\n",
              "      <td>0.568</td>\n",
              "      <td>0.696078</td>\n",
              "    </tr>\n",
              "    <tr>\n",
              "      <th>bos</th>\n",
              "      <td>0.465169</td>\n",
              "      <td>0.414</td>\n",
              "      <td>0.438095</td>\n",
              "    </tr>\n",
              "  </tbody>\n",
              "</table>\n",
              "</div>"
            ],
            "text/plain": [
              "        precision  recall        f1\n",
              "zh-yue   0.436620   0.062  0.108581\n",
              "tha      0.967273   0.532  0.686452\n",
              "zho      0.475000   0.038  0.070370\n",
              "hbs      0.561674   0.510  0.534591\n",
              "jpn      0.837838   0.124  0.216028\n",
              "hrv      0.663793   0.616  0.639004\n",
              "bod      0.963855   0.160  0.274442\n",
              "lzh      0.000000   0.000  0.000000\n",
              "khm      0.887029   0.424  0.573748\n",
              "wuu      0.363636   0.032  0.058824\n",
              "lao      0.898734   0.568  0.696078\n",
              "bos      0.465169   0.414  0.438095"
            ]
          },
          "metadata": {
            "tags": []
          },
          "execution_count": 85
        }
      ]
    },
    {
      "cell_type": "markdown",
      "metadata": {
        "id": "AzRaMdfGz-Mc",
        "colab_type": "text"
      },
      "source": [
        "# Problems for jpn, lzh, zho, wuu (все метрики = 0)"
      ]
    },
    {
      "cell_type": "code",
      "metadata": {
        "id": "mDSVuvvD0bz0",
        "colab_type": "code",
        "colab": {}
      },
      "source": [
        "x_train['sc'] = y_train"
      ],
      "execution_count": 0,
      "outputs": []
    },
    {
      "cell_type": "markdown",
      "metadata": {
        "id": "4vvcGGNY0g2q",
        "colab_type": "text"
      },
      "source": [
        "### jpg"
      ]
    },
    {
      "cell_type": "code",
      "metadata": {
        "id": "uBA6frpf0E_H",
        "colab_type": "code",
        "outputId": "ebd57c88-233a-4ec6-febd-5e4a9cac059b",
        "colab": {
          "base_uri": "https://localhost:8080/",
          "height": 34
        }
      },
      "source": [
        "language_to_class['jpn']"
      ],
      "execution_count": 72,
      "outputs": [
        {
          "output_type": "execute_result",
          "data": {
            "text/plain": [
              "58"
            ]
          },
          "metadata": {
            "tags": []
          },
          "execution_count": 72
        }
      ]
    },
    {
      "cell_type": "code",
      "metadata": {
        "id": "T7T4-zSe0VbD",
        "colab_type": "code",
        "outputId": "515091f1-b03f-47fc-a30d-ba3000c8ee09",
        "colab": {
          "base_uri": "https://localhost:8080/",
          "height": 402
        }
      },
      "source": [
        "x_train[x_train['sc'] == 132]"
      ],
      "execution_count": 73,
      "outputs": [
        {
          "output_type": "execute_result",
          "data": {
            "text/html": [
              "<div>\n",
              "<style scoped>\n",
              "    .dataframe tbody tr th:only-of-type {\n",
              "        vertical-align: middle;\n",
              "    }\n",
              "\n",
              "    .dataframe tbody tr th {\n",
              "        vertical-align: top;\n",
              "    }\n",
              "\n",
              "    .dataframe thead th {\n",
              "        text-align: right;\n",
              "    }\n",
              "</style>\n",
              "<table border=\"1\" class=\"dataframe\">\n",
              "  <thead>\n",
              "    <tr style=\"text-align: right;\">\n",
              "      <th></th>\n",
              "      <th>sent</th>\n",
              "      <th>sc</th>\n",
              "    </tr>\n",
              "  </thead>\n",
              "  <tbody>\n",
              "    <tr>\n",
              "      <th>238</th>\n",
              "      <td>Lo' (Ingiriis: Cattle) waa xoolo gurijoog ah o...</td>\n",
              "      <td>132</td>\n",
              "    </tr>\n",
              "    <tr>\n",
              "      <th>370</th>\n",
              "      <td>Maxayeelay qofkasta oo wadanka ushaqeeya/uadee...</td>\n",
              "      <td>132</td>\n",
              "    </tr>\n",
              "    <tr>\n",
              "      <th>552</th>\n",
              "      <td>tiu - kan, kaa; (ti- 'indikvorto' - fakufiiqe ...</td>\n",
              "      <td>132</td>\n",
              "    </tr>\n",
              "    <tr>\n",
              "      <th>912</th>\n",
              "      <td>Saldanada Warsengali waxaa la aasaasay dhamaad...</td>\n",
              "      <td>132</td>\n",
              "    </tr>\n",
              "    <tr>\n",
              "      <th>1550</th>\n",
              "      <td>traduk/i - turjumid; traduko, tradukado, tradu...</td>\n",
              "      <td>132</td>\n",
              "    </tr>\n",
              "    <tr>\n",
              "      <th>...</th>\n",
              "      <td>...</td>\n",
              "      <td>...</td>\n",
              "    </tr>\n",
              "    <tr>\n",
              "      <th>116314</th>\n",
              "      <td>Xanuunkaas markuu qofka dareemo waxa uu u baah...</td>\n",
              "      <td>132</td>\n",
              "    </tr>\n",
              "    <tr>\n",
              "      <th>116323</th>\n",
              "      <td>Xanuunkaan badanaa dilaa ma ahan, laakiin qofk...</td>\n",
              "      <td>132</td>\n",
              "    </tr>\n",
              "    <tr>\n",
              "      <th>116471</th>\n",
              "      <td>Waxa uu gudoomiye loogu doortay heshiisiinta b...</td>\n",
              "      <td>132</td>\n",
              "    </tr>\n",
              "    <tr>\n",
              "      <th>116496</th>\n",
              "      <td>Quraan, Qur'aan, Quraanka Kariimka (carabi: ﺍﻟ...</td>\n",
              "      <td>132</td>\n",
              "    </tr>\n",
              "    <tr>\n",
              "      <th>117066</th>\n",
              "      <td>Beesha Gabtaanle waa beel lagu Amaano hufnaan ...</td>\n",
              "      <td>132</td>\n",
              "    </tr>\n",
              "  </tbody>\n",
              "</table>\n",
              "<p>500 rows × 2 columns</p>\n",
              "</div>"
            ],
            "text/plain": [
              "                                                     sent   sc\n",
              "238     Lo' (Ingiriis: Cattle) waa xoolo gurijoog ah o...  132\n",
              "370     Maxayeelay qofkasta oo wadanka ushaqeeya/uadee...  132\n",
              "552     tiu - kan, kaa; (ti- 'indikvorto' - fakufiiqe ...  132\n",
              "912     Saldanada Warsengali waxaa la aasaasay dhamaad...  132\n",
              "1550    traduk/i - turjumid; traduko, tradukado, tradu...  132\n",
              "...                                                   ...  ...\n",
              "116314  Xanuunkaas markuu qofka dareemo waxa uu u baah...  132\n",
              "116323  Xanuunkaan badanaa dilaa ma ahan, laakiin qofk...  132\n",
              "116471  Waxa uu gudoomiye loogu doortay heshiisiinta b...  132\n",
              "116496  Quraan, Qur'aan, Quraanka Kariimka (carabi: ﺍﻟ...  132\n",
              "117066  Beesha Gabtaanle waa beel lagu Amaano hufnaan ...  132\n",
              "\n",
              "[500 rows x 2 columns]"
            ]
          },
          "metadata": {
            "tags": []
          },
          "execution_count": 73
        }
      ]
    },
    {
      "cell_type": "markdown",
      "metadata": {
        "id": "vbIFFcqi0o5P",
        "colab_type": "text"
      },
      "source": [
        "### lzh"
      ]
    },
    {
      "cell_type": "code",
      "metadata": {
        "colab_type": "code",
        "outputId": "c3fce20a-0e95-4cf5-834d-054d19beca99",
        "id": "U1kH3KhO0q52",
        "colab": {
          "base_uri": "https://localhost:8080/",
          "height": 34
        }
      },
      "source": [
        "language_to_class['lzh']"
      ],
      "execution_count": 0,
      "outputs": [
        {
          "output_type": "execute_result",
          "data": {
            "text/plain": [
              "32"
            ]
          },
          "metadata": {
            "tags": []
          },
          "execution_count": 158
        }
      ]
    },
    {
      "cell_type": "code",
      "metadata": {
        "colab_type": "code",
        "outputId": "63ad3f16-2f38-4d08-fb03-e50c87ef40f1",
        "id": "b0klk0yi0q5_",
        "colab": {
          "base_uri": "https://localhost:8080/",
          "height": 419
        }
      },
      "source": [
        "x_train[x_train['sc'] == 32]"
      ],
      "execution_count": 0,
      "outputs": [
        {
          "output_type": "execute_result",
          "data": {
            "text/html": [
              "<div>\n",
              "<style scoped>\n",
              "    .dataframe tbody tr th:only-of-type {\n",
              "        vertical-align: middle;\n",
              "    }\n",
              "\n",
              "    .dataframe tbody tr th {\n",
              "        vertical-align: top;\n",
              "    }\n",
              "\n",
              "    .dataframe thead th {\n",
              "        text-align: right;\n",
              "    }\n",
              "</style>\n",
              "<table border=\"1\" class=\"dataframe\">\n",
              "  <thead>\n",
              "    <tr style=\"text-align: right;\">\n",
              "      <th></th>\n",
              "      <th>sent</th>\n",
              "      <th>sc</th>\n",
              "    </tr>\n",
              "  </thead>\n",
              "  <tbody>\n",
              "    <tr>\n",
              "      <th>336</th>\n",
              "      <td>武漢市，亦稱以漢，乃中華鄂省之會，亦為七大都市於中華之中原也。方八千四百六十七公里，於西元二...</td>\n",
              "      <td>32</td>\n",
              "    </tr>\n",
              "    <tr>\n",
              "      <th>420</th>\n",
              "      <td>按黃帝為法，數有十等。及其用也，乃有三焉。十等者，謂「億、兆、京、垓、秭、壤、溝、澗、正、載...</td>\n",
              "      <td>32</td>\n",
              "    </tr>\n",
              "    <tr>\n",
              "      <th>1254</th>\n",
              "      <td>范蠡浮海出齊，變姓名，自謂鴟夷子皮，耕於海畔，苦身戮力，父子治產。居無幾何，致產數千萬。齊人...</td>\n",
              "      <td>32</td>\n",
              "    </tr>\n",
              "    <tr>\n",
              "      <th>1414</th>\n",
              "      <td>周迪據臨川反，詔昭達便道征之。迪敗走，徵為護軍將軍，改封邵武縣侯。四年，陳寶應納迪，共寇臨川...</td>\n",
              "      <td>32</td>\n",
              "    </tr>\n",
              "    <tr>\n",
              "      <th>1549</th>\n",
              "      <td>喇克達長子敬德，康熙十一年(一六七二年)封三等奉恩將軍，四十七年(一七零八年)卒。敬德次子班...</td>\n",
              "      <td>32</td>\n",
              "    </tr>\n",
              "    <tr>\n",
              "      <th>...</th>\n",
              "      <td>...</td>\n",
              "      <td>...</td>\n",
              "    </tr>\n",
              "    <tr>\n",
              "      <th>116047</th>\n",
              "      <td>士族者，或曰門第、衣冠、世族、門閥、勢族、世家、巨室。蓋謂世居要位之高門也，世族所居不同，中...</td>\n",
              "      <td>32</td>\n",
              "    </tr>\n",
              "    <tr>\n",
              "      <th>116419</th>\n",
              "      <td>淳化二年秋七月，李繼遷請降，以爲銀州觀察使，賜姓名趙保吉。繼捧至夏州數月，即言繼遷悔過歸款，...</td>\n",
              "      <td>32</td>\n",
              "    </tr>\n",
              "    <tr>\n",
              "      <th>116596</th>\n",
              "      <td>孟嘗君怨秦，將以齊為韓、魏攻楚，因與韓、魏攻秦，而借兵食於西周。蘇代為西周謂曰：「君以齊為韓...</td>\n",
              "      <td>32</td>\n",
              "    </tr>\n",
              "    <tr>\n",
              "      <th>116749</th>\n",
              "      <td>陳敏之亂，弘以侃為江夏太守，加鷹揚將軍。侃備威儀，迎母官舍，鄉裡榮之。敏遣其弟恢來寇武昌，侃...</td>\n",
              "      <td>32</td>\n",
              "    </tr>\n",
              "    <tr>\n",
              "      <th>117497</th>\n",
              "      <td>同年，太后崩。絳侯周勃、陳平諸臣共謀誅呂。朱虛侯章已殺呂產，文帝使人持節勞章。朱虛侯欲奪節信...</td>\n",
              "      <td>32</td>\n",
              "    </tr>\n",
              "  </tbody>\n",
              "</table>\n",
              "<p>500 rows × 2 columns</p>\n",
              "</div>"
            ],
            "text/plain": [
              "                                                     sent  sc\n",
              "336     武漢市，亦稱以漢，乃中華鄂省之會，亦為七大都市於中華之中原也。方八千四百六十七公里，於西元二...  32\n",
              "420     按黃帝為法，數有十等。及其用也，乃有三焉。十等者，謂「億、兆、京、垓、秭、壤、溝、澗、正、載...  32\n",
              "1254    范蠡浮海出齊，變姓名，自謂鴟夷子皮，耕於海畔，苦身戮力，父子治產。居無幾何，致產數千萬。齊人...  32\n",
              "1414    周迪據臨川反，詔昭達便道征之。迪敗走，徵為護軍將軍，改封邵武縣侯。四年，陳寶應納迪，共寇臨川...  32\n",
              "1549    喇克達長子敬德，康熙十一年(一六七二年)封三等奉恩將軍，四十七年(一七零八年)卒。敬德次子班...  32\n",
              "...                                                   ...  ..\n",
              "116047  士族者，或曰門第、衣冠、世族、門閥、勢族、世家、巨室。蓋謂世居要位之高門也，世族所居不同，中...  32\n",
              "116419  淳化二年秋七月，李繼遷請降，以爲銀州觀察使，賜姓名趙保吉。繼捧至夏州數月，即言繼遷悔過歸款，...  32\n",
              "116596  孟嘗君怨秦，將以齊為韓、魏攻楚，因與韓、魏攻秦，而借兵食於西周。蘇代為西周謂曰：「君以齊為韓...  32\n",
              "116749  陳敏之亂，弘以侃為江夏太守，加鷹揚將軍。侃備威儀，迎母官舍，鄉裡榮之。敏遣其弟恢來寇武昌，侃...  32\n",
              "117497  同年，太后崩。絳侯周勃、陳平諸臣共謀誅呂。朱虛侯章已殺呂產，文帝使人持節勞章。朱虛侯欲奪節信...  32\n",
              "\n",
              "[500 rows x 2 columns]"
            ]
          },
          "metadata": {
            "tags": []
          },
          "execution_count": 159
        }
      ]
    },
    {
      "cell_type": "markdown",
      "metadata": {
        "id": "fzuCquw70yxi",
        "colab_type": "text"
      },
      "source": [
        "### zho"
      ]
    },
    {
      "cell_type": "code",
      "metadata": {
        "colab_type": "code",
        "outputId": "3f0bea67-624e-4761-a90b-a9598cb43e67",
        "id": "7FZEG0Y90xq5",
        "colab": {
          "base_uri": "https://localhost:8080/",
          "height": 34
        }
      },
      "source": [
        "language_to_class['zho']"
      ],
      "execution_count": 0,
      "outputs": [
        {
          "output_type": "execute_result",
          "data": {
            "text/plain": [
              "173"
            ]
          },
          "metadata": {
            "tags": []
          },
          "execution_count": 160
        }
      ]
    },
    {
      "cell_type": "code",
      "metadata": {
        "colab_type": "code",
        "outputId": "2aa94a19-39df-4dbb-f3cd-b57359398701",
        "id": "a1fcWwry0xq-",
        "colab": {
          "base_uri": "https://localhost:8080/",
          "height": 419
        }
      },
      "source": [
        "x_train[x_train['sc'] == 173]"
      ],
      "execution_count": 0,
      "outputs": [
        {
          "output_type": "execute_result",
          "data": {
            "text/html": [
              "<div>\n",
              "<style scoped>\n",
              "    .dataframe tbody tr th:only-of-type {\n",
              "        vertical-align: middle;\n",
              "    }\n",
              "\n",
              "    .dataframe tbody tr th {\n",
              "        vertical-align: top;\n",
              "    }\n",
              "\n",
              "    .dataframe thead th {\n",
              "        text-align: right;\n",
              "    }\n",
              "</style>\n",
              "<table border=\"1\" class=\"dataframe\">\n",
              "  <thead>\n",
              "    <tr style=\"text-align: right;\">\n",
              "      <th></th>\n",
              "      <th>sent</th>\n",
              "      <th>sc</th>\n",
              "    </tr>\n",
              "  </thead>\n",
              "  <tbody>\n",
              "    <tr>\n",
              "      <th>67</th>\n",
              "      <td>胡赛尼本人和小说的主人公阿米尔一样，都是出生在阿富汗首都喀布尔，少年时代便离开了这个国家。胡...</td>\n",
              "      <td>173</td>\n",
              "    </tr>\n",
              "    <tr>\n",
              "      <th>1042</th>\n",
              "      <td>2017年1月7日，參與了「SNH48第三屆年度金曲大賞BEST 50」。2月15日，出演由...</td>\n",
              "      <td>173</td>\n",
              "    </tr>\n",
              "    <tr>\n",
              "      <th>1127</th>\n",
              "      <td>在他们出发之前，罗伯特·菲茨罗伊送给了达尔文一卷查尔斯·赖尔所著《地质学原理》（在南美他得到...</td>\n",
              "      <td>173</td>\n",
              "    </tr>\n",
              "    <tr>\n",
              "      <th>1438</th>\n",
              "      <td>系列的第一款作品《薩爾達傳說》（ゼルダの伝説）在1986年2月21日於日本發行，之後在198...</td>\n",
              "      <td>173</td>\n",
              "    </tr>\n",
              "    <tr>\n",
              "      <th>2379</th>\n",
              "      <td>历史上的柔远驿是为了给琉球贡使及随员提供食宿之所，同时它也成为中琉间商业和文化交流的枢纽。琉...</td>\n",
              "      <td>173</td>\n",
              "    </tr>\n",
              "    <tr>\n",
              "      <th>...</th>\n",
              "      <td>...</td>\n",
              "      <td>...</td>\n",
              "    </tr>\n",
              "    <tr>\n",
              "      <th>116280</th>\n",
              "      <td>赛里木湖属于封闭型的断陷湖，是地壳下沉形成洼地，由四周的高山雪水历百万年慢慢汇聚而成。如今主...</td>\n",
              "      <td>173</td>\n",
              "    </tr>\n",
              "    <tr>\n",
              "      <th>116626</th>\n",
              "      <td>约瑟夫·维萨里奥诺维奇·泽·朱加什维利生于俄罗斯帝国哥里，毕业于梯弗里斯神学院。成为马克思主...</td>\n",
              "      <td>173</td>\n",
              "    </tr>\n",
              "    <tr>\n",
              "      <th>116788</th>\n",
              "      <td>和印度其他地方一样，板球也是孟买最为流行的一项运动。板球比赛通常在遍布全市的操场上进行。后院...</td>\n",
              "      <td>173</td>\n",
              "    </tr>\n",
              "    <tr>\n",
              "      <th>117051</th>\n",
              "      <td>1994年，邓斯特还与薇诺娜·瑞德和克萊兒·丹妮絲一起出演了同名原著改编的电影《小妇人》，该...</td>\n",
              "      <td>173</td>\n",
              "    </tr>\n",
              "    <tr>\n",
              "      <th>117412</th>\n",
              "      <td>4月8日首度訪泰，在新聞發布會現場超過200名記者爭相採訪，泰國主要的7頻道及報章雜誌等均大...</td>\n",
              "      <td>173</td>\n",
              "    </tr>\n",
              "  </tbody>\n",
              "</table>\n",
              "<p>500 rows × 2 columns</p>\n",
              "</div>"
            ],
            "text/plain": [
              "                                                     sent   sc\n",
              "67      胡赛尼本人和小说的主人公阿米尔一样，都是出生在阿富汗首都喀布尔，少年时代便离开了这个国家。胡...  173\n",
              "1042    2017年1月7日，參與了「SNH48第三屆年度金曲大賞BEST 50」。2月15日，出演由...  173\n",
              "1127    在他们出发之前，罗伯特·菲茨罗伊送给了达尔文一卷查尔斯·赖尔所著《地质学原理》（在南美他得到...  173\n",
              "1438    系列的第一款作品《薩爾達傳說》（ゼルダの伝説）在1986年2月21日於日本發行，之後在198...  173\n",
              "2379    历史上的柔远驿是为了给琉球贡使及随员提供食宿之所，同时它也成为中琉间商业和文化交流的枢纽。琉...  173\n",
              "...                                                   ...  ...\n",
              "116280  赛里木湖属于封闭型的断陷湖，是地壳下沉形成洼地，由四周的高山雪水历百万年慢慢汇聚而成。如今主...  173\n",
              "116626  约瑟夫·维萨里奥诺维奇·泽·朱加什维利生于俄罗斯帝国哥里，毕业于梯弗里斯神学院。成为马克思主...  173\n",
              "116788  和印度其他地方一样，板球也是孟买最为流行的一项运动。板球比赛通常在遍布全市的操场上进行。后院...  173\n",
              "117051  1994年，邓斯特还与薇诺娜·瑞德和克萊兒·丹妮絲一起出演了同名原著改编的电影《小妇人》，该...  173\n",
              "117412  4月8日首度訪泰，在新聞發布會現場超過200名記者爭相採訪，泰國主要的7頻道及報章雜誌等均大...  173\n",
              "\n",
              "[500 rows x 2 columns]"
            ]
          },
          "metadata": {
            "tags": []
          },
          "execution_count": 161
        }
      ]
    },
    {
      "cell_type": "markdown",
      "metadata": {
        "colab_type": "text",
        "id": "hDYoYaOu1Crv"
      },
      "source": [
        "### wuu"
      ]
    },
    {
      "cell_type": "code",
      "metadata": {
        "colab_type": "code",
        "outputId": "51444e6f-c5ad-4bad-f046-9fed4924e61c",
        "id": "f7JCkyYi1Crw",
        "colab": {
          "base_uri": "https://localhost:8080/",
          "height": 34
        }
      },
      "source": [
        "language_to_class['wuu']"
      ],
      "execution_count": 0,
      "outputs": [
        {
          "output_type": "execute_result",
          "data": {
            "text/plain": [
              "175"
            ]
          },
          "metadata": {
            "tags": []
          },
          "execution_count": 162
        }
      ]
    },
    {
      "cell_type": "code",
      "metadata": {
        "colab_type": "code",
        "outputId": "fbf933f8-2f15-4db9-d75e-f6671a005f76",
        "id": "8IvnyIW31Cry",
        "colab": {
          "base_uri": "https://localhost:8080/",
          "height": 419
        }
      },
      "source": [
        "x_train[x_train['sc'] == 175]"
      ],
      "execution_count": 0,
      "outputs": [
        {
          "output_type": "execute_result",
          "data": {
            "text/html": [
              "<div>\n",
              "<style scoped>\n",
              "    .dataframe tbody tr th:only-of-type {\n",
              "        vertical-align: middle;\n",
              "    }\n",
              "\n",
              "    .dataframe tbody tr th {\n",
              "        vertical-align: top;\n",
              "    }\n",
              "\n",
              "    .dataframe thead th {\n",
              "        text-align: right;\n",
              "    }\n",
              "</style>\n",
              "<table border=\"1\" class=\"dataframe\">\n",
              "  <thead>\n",
              "    <tr style=\"text-align: right;\">\n",
              "      <th></th>\n",
              "      <th>sent</th>\n",
              "      <th>sc</th>\n",
              "    </tr>\n",
              "  </thead>\n",
              "  <tbody>\n",
              "    <tr>\n",
              "      <th>19</th>\n",
              "      <td>UNC有得一只历史悠久个'诚信守则'。渠是由学堂个诚信法庭（Honor Court）来执行个...</td>\n",
              "      <td>175</td>\n",
              "    </tr>\n",
              "    <tr>\n",
              "      <th>276</th>\n",
              "      <td>武器，是人类为达到杀伤或者防御个目的制造个器械。武器从人类文明发展开始就有出现，之后，伴随战...</td>\n",
              "      <td>175</td>\n",
              "    </tr>\n",
              "    <tr>\n",
              "      <th>387</th>\n",
              "      <td>弗过，太后个信任是一方面，具体西班牙个政治局面又是另外一番情形：贵族对迭个外国人一点也无信任...</td>\n",
              "      <td>175</td>\n",
              "    </tr>\n",
              "    <tr>\n",
              "      <th>720</th>\n",
              "      <td>从12世纪挨末阶段开始，日本个统治权就转移到日本武士贵族个手里向。到13世纪，出身清和源氏个...</td>\n",
              "      <td>175</td>\n",
              "    </tr>\n",
              "    <tr>\n",
              "      <th>930</th>\n",
              "      <td>箇种毛病潜伏期一般勒7日天以内，病人一般表现为流感箇浪个症状，像发寒热，咳嗽，少痰，有种辰光...</td>\n",
              "      <td>175</td>\n",
              "    </tr>\n",
              "    <tr>\n",
              "      <th>...</th>\n",
              "      <td>...</td>\n",
              "      <td>...</td>\n",
              "    </tr>\n",
              "    <tr>\n",
              "      <th>116805</th>\n",
              "      <td>Linux個低成本、強大個定制功能搭良好個移植性能，使得Linux來嵌入式系統方面也得到廣泛...</td>\n",
              "      <td>175</td>\n",
              "    </tr>\n",
              "    <tr>\n",
              "      <th>116947</th>\n",
              "      <td>余杭區勒拉杭嘉湖平原南端，西依天目山，南瀕錢塘江，是長江三角洲个圓心地。地理座標爲北緯30°...</td>\n",
              "      <td>175</td>\n",
              "    </tr>\n",
              "    <tr>\n",
              "      <th>117034</th>\n",
              "      <td>北師大是以京師大學堂師範專業做基礎，搭仔由北京個高校匯聚一批勒師範教育領域窮有聲望個名師組建...</td>\n",
              "      <td>175</td>\n",
              "    </tr>\n",
              "    <tr>\n",
              "      <th>117037</th>\n",
              "      <td>到清中期（約18世紀），傳奇開始衰微，向書齋文學轉化，彈詞卻逐步興盛起來了。出版之錢德蒼編个...</td>\n",
              "      <td>175</td>\n",
              "    </tr>\n",
              "    <tr>\n",
              "      <th>117257</th>\n",
              "      <td>摩嘉娜夺权计划失败后，带领奄奄一息个莫高絲逃出卡美洛特，徕萨温节夜里，摩嘉娜徕莫高絲个要求之...</td>\n",
              "      <td>175</td>\n",
              "    </tr>\n",
              "  </tbody>\n",
              "</table>\n",
              "<p>500 rows × 2 columns</p>\n",
              "</div>"
            ],
            "text/plain": [
              "                                                     sent   sc\n",
              "19      UNC有得一只历史悠久个'诚信守则'。渠是由学堂个诚信法庭（Honor Court）来执行个...  175\n",
              "276     武器，是人类为达到杀伤或者防御个目的制造个器械。武器从人类文明发展开始就有出现，之后，伴随战...  175\n",
              "387     弗过，太后个信任是一方面，具体西班牙个政治局面又是另外一番情形：贵族对迭个外国人一点也无信任...  175\n",
              "720     从12世纪挨末阶段开始，日本个统治权就转移到日本武士贵族个手里向。到13世纪，出身清和源氏个...  175\n",
              "930     箇种毛病潜伏期一般勒7日天以内，病人一般表现为流感箇浪个症状，像发寒热，咳嗽，少痰，有种辰光...  175\n",
              "...                                                   ...  ...\n",
              "116805  Linux個低成本、強大個定制功能搭良好個移植性能，使得Linux來嵌入式系統方面也得到廣泛...  175\n",
              "116947  余杭區勒拉杭嘉湖平原南端，西依天目山，南瀕錢塘江，是長江三角洲个圓心地。地理座標爲北緯30°...  175\n",
              "117034  北師大是以京師大學堂師範專業做基礎，搭仔由北京個高校匯聚一批勒師範教育領域窮有聲望個名師組建...  175\n",
              "117037  到清中期（約18世紀），傳奇開始衰微，向書齋文學轉化，彈詞卻逐步興盛起來了。出版之錢德蒼編个...  175\n",
              "117257  摩嘉娜夺权计划失败后，带领奄奄一息个莫高絲逃出卡美洛特，徕萨温节夜里，摩嘉娜徕莫高絲个要求之...  175\n",
              "\n",
              "[500 rows x 2 columns]"
            ]
          },
          "metadata": {
            "tags": []
          },
          "execution_count": 163
        }
      ]
    },
    {
      "cell_type": "markdown",
      "metadata": {
        "id": "bGJVJ9xn1Zn8",
        "colab_type": "text"
      },
      "source": [
        "### Короче ГГ -- эти все языки с иероглифами :( Почекаем, что делает токенайзер:"
      ]
    },
    {
      "cell_type": "code",
      "metadata": {
        "id": "qxa4htXU1viE",
        "colab_type": "code",
        "outputId": "e0ecbe0d-0fd2-4210-bc71-56e3465f8037",
        "colab": {
          "base_uri": "https://localhost:8080/",
          "height": 419
        }
      },
      "source": [
        "x = x_train[x_train['sc'] == 132]\n",
        "x"
      ],
      "execution_count": 0,
      "outputs": [
        {
          "output_type": "execute_result",
          "data": {
            "text/html": [
              "<div>\n",
              "<style scoped>\n",
              "    .dataframe tbody tr th:only-of-type {\n",
              "        vertical-align: middle;\n",
              "    }\n",
              "\n",
              "    .dataframe tbody tr th {\n",
              "        vertical-align: top;\n",
              "    }\n",
              "\n",
              "    .dataframe thead th {\n",
              "        text-align: right;\n",
              "    }\n",
              "</style>\n",
              "<table border=\"1\" class=\"dataframe\">\n",
              "  <thead>\n",
              "    <tr style=\"text-align: right;\">\n",
              "      <th></th>\n",
              "      <th>sent</th>\n",
              "      <th>sc</th>\n",
              "    </tr>\n",
              "  </thead>\n",
              "  <tbody>\n",
              "    <tr>\n",
              "      <th>29</th>\n",
              "      <td>エノが行きがかりでバスに乗ってしまい、気分が悪くなった際に助けるが、今すぐバスを降りたいと運...</td>\n",
              "      <td>132</td>\n",
              "    </tr>\n",
              "    <tr>\n",
              "      <th>46</th>\n",
              "      <td>シャーリー・フィールドは、サン・ベルナルド・アベニュー沿い市民センターとR&amp;Tマーティン高校...</td>\n",
              "      <td>132</td>\n",
              "    </tr>\n",
              "    <tr>\n",
              "      <th>225</th>\n",
              "      <td>藤女の女性教師。48歳。数学担当。風紀指導を担当しており、リコにとっては天敵。藤女とその伝統...</td>\n",
              "      <td>132</td>\n",
              "    </tr>\n",
              "    <tr>\n",
              "      <th>339</th>\n",
              "      <td>教会旋法はまず終止音（finalis）によって4つに分類される。そしてそれぞれが音域（amb...</td>\n",
              "      <td>132</td>\n",
              "    </tr>\n",
              "    <tr>\n",
              "      <th>741</th>\n",
              "      <td>「MGR」という愛称で知られるM・G・ラーマチャンディランが、アンナードゥライの死後、ドラー...</td>\n",
              "      <td>132</td>\n",
              "    </tr>\n",
              "    <tr>\n",
              "      <th>...</th>\n",
              "      <td>...</td>\n",
              "      <td>...</td>\n",
              "    </tr>\n",
              "    <tr>\n",
              "      <th>116639</th>\n",
              "      <td>劉義隆が中郎将・荊州刺史となると、張邵はその下で司馬となり、南郡相を兼ねて、荊州の事務を決裁...</td>\n",
              "      <td>132</td>\n",
              "    </tr>\n",
              "    <tr>\n",
              "      <th>116901</th>\n",
              "      <td>紀元前334年にマケドニア王アレクサンドロス3世が小アジアに侵攻してきた時、アルサメスは他の...</td>\n",
              "      <td>132</td>\n",
              "    </tr>\n",
              "    <tr>\n",
              "      <th>117097</th>\n",
              "      <td>世間で「お嬢様学校」と呼ばれる名門校「私立藤崎女子中学」（略称：藤女）の生徒会執行部は、会長...</td>\n",
              "      <td>132</td>\n",
              "    </tr>\n",
              "    <tr>\n",
              "      <th>117135</th>\n",
              "      <td>実質的にはBRAVIA Phone U1とS002の後継にあたる2軸折りたたみ式の機種で今回...</td>\n",
              "      <td>132</td>\n",
              "    </tr>\n",
              "    <tr>\n",
              "      <th>117148</th>\n",
              "      <td>京都市バス等持院道バス停徒歩すぐところに位置する。地上4階建。寮室190室、アクセシブルルー...</td>\n",
              "      <td>132</td>\n",
              "    </tr>\n",
              "  </tbody>\n",
              "</table>\n",
              "<p>500 rows × 2 columns</p>\n",
              "</div>"
            ],
            "text/plain": [
              "                                                     sent   sc\n",
              "29      エノが行きがかりでバスに乗ってしまい、気分が悪くなった際に助けるが、今すぐバスを降りたいと運...  132\n",
              "46      シャーリー・フィールドは、サン・ベルナルド・アベニュー沿い市民センターとR&Tマーティン高校...  132\n",
              "225     藤女の女性教師。48歳。数学担当。風紀指導を担当しており、リコにとっては天敵。藤女とその伝統...  132\n",
              "339     教会旋法はまず終止音（finalis）によって4つに分類される。そしてそれぞれが音域（amb...  132\n",
              "741     「MGR」という愛称で知られるM・G・ラーマチャンディランが、アンナードゥライの死後、ドラー...  132\n",
              "...                                                   ...  ...\n",
              "116639  劉義隆が中郎将・荊州刺史となると、張邵はその下で司馬となり、南郡相を兼ねて、荊州の事務を決裁...  132\n",
              "116901  紀元前334年にマケドニア王アレクサンドロス3世が小アジアに侵攻してきた時、アルサメスは他の...  132\n",
              "117097  世間で「お嬢様学校」と呼ばれる名門校「私立藤崎女子中学」（略称：藤女）の生徒会執行部は、会長...  132\n",
              "117135  実質的にはBRAVIA Phone U1とS002の後継にあたる2軸折りたたみ式の機種で今回...  132\n",
              "117148  京都市バス等持院道バス停徒歩すぐところに位置する。地上4階建。寮室190室、アクセシブルルー...  132\n",
              "\n",
              "[500 rows x 2 columns]"
            ]
          },
          "metadata": {
            "tags": []
          },
          "execution_count": 224
        }
      ]
    },
    {
      "cell_type": "code",
      "metadata": {
        "id": "_ffead0A1x0E",
        "colab_type": "code",
        "colab": {}
      },
      "source": [
        "tokenizer = Tokenizer()\n",
        "tokenizer.fit_on_texts(x.sent)"
      ],
      "execution_count": 0,
      "outputs": []
    },
    {
      "cell_type": "code",
      "metadata": {
        "id": "_WsgeGxM4Ph-",
        "colab_type": "code",
        "outputId": "bad47cca-e4ee-4992-a921-068eaa40fd88",
        "colab": {
          "base_uri": "https://localhost:8080/",
          "height": 34
        }
      },
      "source": [
        "# try different values of `count`\n",
        "# show how many words are presenting more than `count` times\n",
        "count = 10\n",
        "low_count_words = [w for w,c in tokenizer.word_counts.items() if c > count]\n",
        "len(low_count_words)"
      ],
      "execution_count": 0,
      "outputs": [
        {
          "output_type": "execute_result",
          "data": {
            "text/plain": [
              "7"
            ]
          },
          "metadata": {
            "tags": []
          },
          "execution_count": 228
        }
      ]
    },
    {
      "cell_type": "code",
      "metadata": {
        "id": "c5BNr1-A1_f6",
        "colab_type": "code",
        "outputId": "202de1fd-d5bd-4df8-982a-1180765e8b7a",
        "colab": {
          "base_uri": "https://localhost:8080/",
          "height": 136
        }
      },
      "source": [
        "z = tokenizer.texts_to_sequences(x.sent)\n",
        "z = pad_sequences(z, maxlen=maxlen)\n",
        "z"
      ],
      "execution_count": 0,
      "outputs": [
        {
          "output_type": "execute_result",
          "data": {
            "text/plain": [
              "array([[    0,     0,     0, ...,     0,     0,     0],\n",
              "       [    0,     0,     0, ...,     0,     0, 66416],\n",
              "       [    0,     0,     0, ...,     0,     0,     0],\n",
              "       ...,\n",
              "       [    0,     0,     0, ...,     0,     0,     0],\n",
              "       [    0,     0,     0, ...,     0,     0,     0],\n",
              "       [    0,     0,     0, ...,     0,     0,  8504]], dtype=int32)"
            ]
          },
          "metadata": {
            "tags": []
          },
          "execution_count": 200
        }
      ]
    },
    {
      "cell_type": "code",
      "metadata": {
        "id": "3PyTPOoY4Bxb",
        "colab_type": "code",
        "outputId": "ba2c757b-6c20-45ec-dd74-fd6be922c670",
        "colab": {
          "base_uri": "https://localhost:8080/",
          "height": 136
        }
      },
      "source": [
        "z"
      ],
      "execution_count": 0,
      "outputs": [
        {
          "output_type": "execute_result",
          "data": {
            "text/plain": [
              "array([[    0,     0,     0, ...,     0,     0,     0],\n",
              "       [    0,     0,     0, ...,     0,     0, 66416],\n",
              "       [    0,     0,     0, ...,     0,     0,     0],\n",
              "       ...,\n",
              "       [    0,     0,     0, ...,     0,     0,     0],\n",
              "       [    0,     0,     0, ...,     0,     0,     0],\n",
              "       [    0,     0,     0, ...,     0,     0,  8504]], dtype=int32)"
            ]
          },
          "metadata": {
            "tags": []
          },
          "execution_count": 201
        }
      ]
    },
    {
      "cell_type": "markdown",
      "metadata": {
        "id": "cgf2xwWc3U9z",
        "colab_type": "text"
      },
      "source": [
        "# Короче мало слов, которые встречаются чаще 10 раз и у них какая-то другая модель языковая. Вот ниже пример для другого языка"
      ]
    },
    {
      "cell_type": "code",
      "metadata": {
        "id": "VB7y9Oyv1QZ8",
        "colab_type": "code",
        "colab": {}
      },
      "source": [
        "tokenizer = Tokenizer()\n",
        "tokenizer.fit_on_texts(x.sent)"
      ],
      "execution_count": 0,
      "outputs": []
    },
    {
      "cell_type": "code",
      "metadata": {
        "colab_type": "code",
        "outputId": "2c960be3-8696-485c-8314-335b5dba541c",
        "id": "Iwvu_V2X6ghH",
        "colab": {
          "base_uri": "https://localhost:8080/",
          "height": 419
        }
      },
      "source": [
        "x = x_train[x_train['sc'] == 2]\n",
        "x"
      ],
      "execution_count": 0,
      "outputs": [
        {
          "output_type": "execute_result",
          "data": {
            "text/html": [
              "<div>\n",
              "<style scoped>\n",
              "    .dataframe tbody tr th:only-of-type {\n",
              "        vertical-align: middle;\n",
              "    }\n",
              "\n",
              "    .dataframe tbody tr th {\n",
              "        vertical-align: top;\n",
              "    }\n",
              "\n",
              "    .dataframe thead th {\n",
              "        text-align: right;\n",
              "    }\n",
              "</style>\n",
              "<table border=\"1\" class=\"dataframe\">\n",
              "  <thead>\n",
              "    <tr style=\"text-align: right;\">\n",
              "      <th></th>\n",
              "      <th>sent</th>\n",
              "      <th>sc</th>\n",
              "    </tr>\n",
              "  </thead>\n",
              "  <tbody>\n",
              "    <tr>\n",
              "      <th>427</th>\n",
              "      <td>Pennsilfaanisch Deitsch iss gschwetzt in Yaako...</td>\n",
              "      <td>2</td>\n",
              "    </tr>\n",
              "    <tr>\n",
              "      <th>469</th>\n",
              "      <td>Der Freidaag iss der Friday. Er iss nooch Gris...</td>\n",
              "      <td>2</td>\n",
              "    </tr>\n",
              "    <tr>\n",
              "      <th>624</th>\n",
              "      <td>Der John M. Brenneman (1816-1895) waar en menn...</td>\n",
              "      <td>2</td>\n",
              "    </tr>\n",
              "    <tr>\n",
              "      <th>626</th>\n",
              "      <td>Tobin, Jesse, 2008. Es Pennsylfaanisch Muunraa...</td>\n",
              "      <td>2</td>\n",
              "    </tr>\n",
              "    <tr>\n",
              "      <th>823</th>\n",
              "      <td>Two Dutchmen once got into a dispute about the...</td>\n",
              "      <td>2</td>\n",
              "    </tr>\n",
              "    <tr>\n",
              "      <th>...</th>\n",
              "      <td>...</td>\n",
              "      <td>...</td>\n",
              "    </tr>\n",
              "    <tr>\n",
              "      <th>115626</th>\n",
              "      <td>Der Johann Weber waar der Bruder vun em George...</td>\n",
              "      <td>2</td>\n",
              "    </tr>\n",
              "    <tr>\n",
              "      <th>116036</th>\n",
              "      <td>Katharina Bärbel Bum, Die Sprache der Anzeigen...</td>\n",
              "      <td>2</td>\n",
              "    </tr>\n",
              "    <tr>\n",
              "      <th>116071</th>\n",
              "      <td>Flughafe Ca Mau iss en Flughafe in Ca Mau, Pro...</td>\n",
              "      <td>2</td>\n",
              "    </tr>\n",
              "    <tr>\n",
              "      <th>116247</th>\n",
              "      <td>Der Donald Henry Pleasence (* 5. Oktower 1919 ...</td>\n",
              "      <td>2</td>\n",
              "    </tr>\n",
              "    <tr>\n",
              "      <th>116611</th>\n",
              "      <td>Schriesheim (Kurpfalz): Heemet vum Alexander M...</td>\n",
              "      <td>2</td>\n",
              "    </tr>\n",
              "  </tbody>\n",
              "</table>\n",
              "<p>500 rows × 2 columns</p>\n",
              "</div>"
            ],
            "text/plain": [
              "                                                     sent  sc\n",
              "427     Pennsilfaanisch Deitsch iss gschwetzt in Yaako...   2\n",
              "469     Der Freidaag iss der Friday. Er iss nooch Gris...   2\n",
              "624     Der John M. Brenneman (1816-1895) waar en menn...   2\n",
              "626     Tobin, Jesse, 2008. Es Pennsylfaanisch Muunraa...   2\n",
              "823     Two Dutchmen once got into a dispute about the...   2\n",
              "...                                                   ...  ..\n",
              "115626  Der Johann Weber waar der Bruder vun em George...   2\n",
              "116036  Katharina Bärbel Bum, Die Sprache der Anzeigen...   2\n",
              "116071  Flughafe Ca Mau iss en Flughafe in Ca Mau, Pro...   2\n",
              "116247  Der Donald Henry Pleasence (* 5. Oktower 1919 ...   2\n",
              "116611  Schriesheim (Kurpfalz): Heemet vum Alexander M...   2\n",
              "\n",
              "[500 rows x 2 columns]"
            ]
          },
          "metadata": {
            "tags": []
          },
          "execution_count": 233
        }
      ]
    },
    {
      "cell_type": "code",
      "metadata": {
        "colab_type": "code",
        "id": "pVSmI-lW6ghO",
        "colab": {}
      },
      "source": [
        "tokenizer = Tokenizer()\n",
        "tokenizer.fit_on_texts(x.sent)"
      ],
      "execution_count": 0,
      "outputs": []
    },
    {
      "cell_type": "code",
      "metadata": {
        "colab_type": "code",
        "outputId": "31ed9095-4753-4b0a-978c-565b95a29ea3",
        "id": "raSaHijX6ghQ",
        "colab": {
          "base_uri": "https://localhost:8080/",
          "height": 34
        }
      },
      "source": [
        "# try different values of `count`\n",
        "# show how many words are presenting more than `count` times\n",
        "count = 10\n",
        "low_count_words = [w for w,c in tokenizer.word_counts.items() if c > count]\n",
        "len(low_count_words)"
      ],
      "execution_count": 0,
      "outputs": [
        {
          "output_type": "execute_result",
          "data": {
            "text/plain": [
              "287"
            ]
          },
          "metadata": {
            "tags": []
          },
          "execution_count": 235
        }
      ]
    },
    {
      "cell_type": "markdown",
      "metadata": {
        "id": "fjaGLlld6r_u",
        "colab_type": "text"
      },
      "source": [
        "Я попробовала в токенайзере брать все слова и те, которые встречаются чаще 3 раз, а не 10. Нихера не помогает, просто модели не нравятся эти 4 языка от слова совсем. Видимо, эти блинских 4 языка устроены как-то совсем иначе и к ним не подойдет наш подход. Я бы просто вычеркнула их и забила, если не придумаем какую-то модель + токенайзер, которые все порешают"
      ]
    },
    {
      "cell_type": "markdown",
      "metadata": {
        "id": "oIeAdLV_9uYg",
        "colab_type": "text"
      },
      "source": [
        "# Other chinese"
      ]
    },
    {
      "cell_type": "markdown",
      "metadata": {
        "id": "lJuVpazz_Ap3",
        "colab_type": "text"
      },
      "source": [
        "Короче я нашла в перечне еще 2 китайских, на них все ок. Ну ты сам ниже увидишь почему"
      ]
    },
    {
      "cell_type": "markdown",
      "metadata": {
        "id": "rD_1objWAqmm",
        "colab_type": "text"
      },
      "source": [
        "### hak"
      ]
    },
    {
      "cell_type": "code",
      "metadata": {
        "id": "m5o7VFZ_1Srs",
        "colab_type": "code",
        "colab": {}
      },
      "source": [
        "# hak"
      ],
      "execution_count": 0,
      "outputs": []
    },
    {
      "cell_type": "code",
      "metadata": {
        "id": "2iYhJu3b9xlg",
        "colab_type": "code",
        "outputId": "0b73895e-4b87-4189-9b14-487f8350e0f5",
        "colab": {
          "base_uri": "https://localhost:8080/",
          "height": 34
        }
      },
      "source": [
        "language_to_class['hak']"
      ],
      "execution_count": 0,
      "outputs": [
        {
          "output_type": "execute_result",
          "data": {
            "text/plain": [
              "58"
            ]
          },
          "metadata": {
            "tags": []
          },
          "execution_count": 237
        }
      ]
    },
    {
      "cell_type": "code",
      "metadata": {
        "id": "_y8qNLn9-4jm",
        "colab_type": "code",
        "colab": {}
      },
      "source": [
        ""
      ],
      "execution_count": 0,
      "outputs": []
    },
    {
      "cell_type": "code",
      "metadata": {
        "id": "td3Sj9dG90Ap",
        "colab_type": "code",
        "outputId": "12d16564-826b-49fe-f41e-d1f62c67be7c",
        "colab": {
          "base_uri": "https://localhost:8080/",
          "height": 34
        }
      },
      "source": [
        "lan = 58\n",
        "x_t = x_test[x_test['sc'] == lan]\n",
        "x = convert(x_t)\n",
        "y = np.zeros((x.shape[0], len(languages)))\n",
        "y[:, lan] = 1\n",
        "y = y.astype('float32')\n",
        "y_pred = model.predict(x)\n",
        "p, r, f = metr(y, y_pred)\n",
        "print(\"language: \", class_to_language[lan], \"precision: \", p.numpy(), \"recall: \", r.numpy(), \"f1: \", f.numpy())"
      ],
      "execution_count": 0,
      "outputs": [
        {
          "output_type": "stream",
          "text": [
            "language:  hak precision:  0.9936709 recall:  0.942 f1:  0.96714574\n"
          ],
          "name": "stdout"
        }
      ]
    },
    {
      "cell_type": "code",
      "metadata": {
        "id": "kCUEOnVm-5c-",
        "colab_type": "code",
        "outputId": "55b40160-f91c-4284-889e-b5cb8025d7da",
        "colab": {
          "base_uri": "https://localhost:8080/",
          "height": 419
        }
      },
      "source": [
        "x_t"
      ],
      "execution_count": 0,
      "outputs": [
        {
          "output_type": "execute_result",
          "data": {
            "text/html": [
              "<div>\n",
              "<style scoped>\n",
              "    .dataframe tbody tr th:only-of-type {\n",
              "        vertical-align: middle;\n",
              "    }\n",
              "\n",
              "    .dataframe tbody tr th {\n",
              "        vertical-align: top;\n",
              "    }\n",
              "\n",
              "    .dataframe thead th {\n",
              "        text-align: right;\n",
              "    }\n",
              "</style>\n",
              "<table border=\"1\" class=\"dataframe\">\n",
              "  <thead>\n",
              "    <tr style=\"text-align: right;\">\n",
              "      <th></th>\n",
              "      <th>sent</th>\n",
              "      <th>sc</th>\n",
              "    </tr>\n",
              "  </thead>\n",
              "  <tbody>\n",
              "    <tr>\n",
              "      <th>64</th>\n",
              "      <td>Tûng-sân Chhâ-theù (冬山車頭), yu hêm-cho Tûng-sân...</td>\n",
              "      <td>58</td>\n",
              "    </tr>\n",
              "    <tr>\n",
              "      <th>731</th>\n",
              "      <td>1623-ngièn lòi-to Pet-kîn, chiông Ka-li-lio̍k ...</td>\n",
              "      <td>58</td>\n",
              "    </tr>\n",
              "    <tr>\n",
              "      <th>1000</th>\n",
              "      <td>Mâ-lòi-sî-â he Tûng-nàm-â koet-kâ chṳ̂-yit. Mâ...</td>\n",
              "      <td>58</td>\n",
              "    </tr>\n",
              "    <tr>\n",
              "      <th>1255</th>\n",
              "      <td>Wal-Mart Kûng-sṳ̂ (Yîn-ngî： Wal-Mart Stores, I...</td>\n",
              "      <td>58</td>\n",
              "    </tr>\n",
              "    <tr>\n",
              "      <th>1862</th>\n",
              "      <td>Pat-pat suí-châi (八八水災) he 2009-ngièn pat-ngie...</td>\n",
              "      <td>58</td>\n",
              "    </tr>\n",
              "    <tr>\n",
              "      <th>...</th>\n",
              "      <td>...</td>\n",
              "      <td>...</td>\n",
              "    </tr>\n",
              "    <tr>\n",
              "      <th>115776</th>\n",
              "      <td>Tver (Ngò-ngî: Тверь) he Ngò-lò-sṳ̂ Tver-chû s...</td>\n",
              "      <td>58</td>\n",
              "    </tr>\n",
              "    <tr>\n",
              "      <th>116213</th>\n",
              "      <td>1934-ngiàn pân Sin Po, yit-chak khiûn Chûng-fà...</td>\n",
              "      <td>58</td>\n",
              "    </tr>\n",
              "    <tr>\n",
              "      <th>117088</th>\n",
              "      <td>Vò-é (禾仔, Ho̍k-miàng: Oryza sativa) he chhó-pú...</td>\n",
              "      <td>58</td>\n",
              "    </tr>\n",
              "    <tr>\n",
              "      <th>117152</th>\n",
              "      <td>Samba he Pâ-sî ke chhòn-thúng yîm-ngo̍k lâu th...</td>\n",
              "      <td>58</td>\n",
              "    </tr>\n",
              "    <tr>\n",
              "      <th>117493</th>\n",
              "      <td>Thó-mâ-tô(Ngi̍t-ngî：トマト, ho̍k-miàng：Solanum ly...</td>\n",
              "      <td>58</td>\n",
              "    </tr>\n",
              "  </tbody>\n",
              "</table>\n",
              "<p>500 rows × 2 columns</p>\n",
              "</div>"
            ],
            "text/plain": [
              "                                                     sent  sc\n",
              "64      Tûng-sân Chhâ-theù (冬山車頭), yu hêm-cho Tûng-sân...  58\n",
              "731     1623-ngièn lòi-to Pet-kîn, chiông Ka-li-lio̍k ...  58\n",
              "1000    Mâ-lòi-sî-â he Tûng-nàm-â koet-kâ chṳ̂-yit. Mâ...  58\n",
              "1255    Wal-Mart Kûng-sṳ̂ (Yîn-ngî： Wal-Mart Stores, I...  58\n",
              "1862    Pat-pat suí-châi (八八水災) he 2009-ngièn pat-ngie...  58\n",
              "...                                                   ...  ..\n",
              "115776  Tver (Ngò-ngî: Тверь) he Ngò-lò-sṳ̂ Tver-chû s...  58\n",
              "116213  1934-ngiàn pân Sin Po, yit-chak khiûn Chûng-fà...  58\n",
              "117088  Vò-é (禾仔, Ho̍k-miàng: Oryza sativa) he chhó-pú...  58\n",
              "117152  Samba he Pâ-sî ke chhòn-thúng yîm-ngo̍k lâu th...  58\n",
              "117493  Thó-mâ-tô(Ngi̍t-ngî：トマト, ho̍k-miàng：Solanum ly...  58\n",
              "\n",
              "[500 rows x 2 columns]"
            ]
          },
          "metadata": {
            "tags": []
          },
          "execution_count": 246
        }
      ]
    },
    {
      "cell_type": "code",
      "metadata": {
        "id": "bQxkwVQL99eJ",
        "colab_type": "code",
        "colab": {}
      },
      "source": [
        ""
      ],
      "execution_count": 0,
      "outputs": []
    },
    {
      "cell_type": "markdown",
      "metadata": {
        "id": "Ay835U20Asfn",
        "colab_type": "text"
      },
      "source": [
        "### nan"
      ]
    },
    {
      "cell_type": "code",
      "metadata": {
        "colab_type": "code",
        "id": "UHd9J0u6-zKq",
        "colab": {}
      },
      "source": [
        "# nan"
      ],
      "execution_count": 0,
      "outputs": []
    },
    {
      "cell_type": "code",
      "metadata": {
        "colab_type": "code",
        "outputId": "242275ee-a9a7-4086-a2cf-ff3111786296",
        "id": "nw7d83vI-zKy",
        "colab": {
          "base_uri": "https://localhost:8080/",
          "height": 34
        }
      },
      "source": [
        "language_to_class['nan']"
      ],
      "execution_count": 0,
      "outputs": [
        {
          "output_type": "execute_result",
          "data": {
            "text/plain": [
              "198"
            ]
          },
          "metadata": {
            "tags": []
          },
          "execution_count": 243
        }
      ]
    },
    {
      "cell_type": "code",
      "metadata": {
        "colab_type": "code",
        "outputId": "6f4ed2cd-6f7b-46aa-93b1-defad878e003",
        "id": "uxq5hifF-zK7",
        "colab": {
          "base_uri": "https://localhost:8080/",
          "height": 34
        }
      },
      "source": [
        "lan = 198\n",
        "x_t = x_test[x_test['sc'] == lan]\n",
        "x = convert(x_t)\n",
        "y = np.zeros((x.shape[0], len(languages)))\n",
        "y[:, lan] = 1\n",
        "y = y.astype('float32')\n",
        "y_pred = model.predict(x)\n",
        "p, r, f = metr(y, y_pred)\n",
        "print(\"language: \", class_to_language[lan], \"precision: \", p.numpy(), \"recall: \", r.numpy(), \"f1: \", f.numpy())"
      ],
      "execution_count": 0,
      "outputs": [
        {
          "output_type": "stream",
          "text": [
            "language:  nan precision:  0.998 recall:  0.998 f1:  0.99799997\n"
          ],
          "name": "stdout"
        }
      ]
    },
    {
      "cell_type": "code",
      "metadata": {
        "id": "055O0JPJ-2DB",
        "colab_type": "code",
        "outputId": "7e543379-d0ab-4ba0-88fa-2d02bf06e819",
        "colab": {
          "base_uri": "https://localhost:8080/",
          "height": 419
        }
      },
      "source": [
        "x_t"
      ],
      "execution_count": 0,
      "outputs": [
        {
          "output_type": "execute_result",
          "data": {
            "text/html": [
              "<div>\n",
              "<style scoped>\n",
              "    .dataframe tbody tr th:only-of-type {\n",
              "        vertical-align: middle;\n",
              "    }\n",
              "\n",
              "    .dataframe tbody tr th {\n",
              "        vertical-align: top;\n",
              "    }\n",
              "\n",
              "    .dataframe thead th {\n",
              "        text-align: right;\n",
              "    }\n",
              "</style>\n",
              "<table border=\"1\" class=\"dataframe\">\n",
              "  <thead>\n",
              "    <tr style=\"text-align: right;\">\n",
              "      <th></th>\n",
              "      <th>sent</th>\n",
              "      <th>sc</th>\n",
              "    </tr>\n",
              "  </thead>\n",
              "  <tbody>\n",
              "    <tr>\n",
              "      <th>9</th>\n",
              "      <td>Tī Feigneux ê sì-ûi ū Béthancourt-en-Valois, C...</td>\n",
              "      <td>198</td>\n",
              "    </tr>\n",
              "    <tr>\n",
              "      <th>309</th>\n",
              "      <td>Tāi-sêng Hóe-chai Hái-siōng Pó-hiám Tu-sek Hōe...</td>\n",
              "      <td>198</td>\n",
              "    </tr>\n",
              "    <tr>\n",
              "      <th>719</th>\n",
              "      <td>Só·-í, chí-iàu chai-iáⁿ chi̍t-khai-sí ê ūi-tì ...</td>\n",
              "      <td>198</td>\n",
              "    </tr>\n",
              "    <tr>\n",
              "      <th>855</th>\n",
              "      <td>Tī Mossa ê sì-ûi ū Farra d'Isonzo, Gorizia, Sa...</td>\n",
              "      <td>198</td>\n",
              "    </tr>\n",
              "    <tr>\n",
              "      <th>1479</th>\n",
              "      <td>Bí-chiu ê chē-chē lâng kap chèng-tī jîn-bu̍t l...</td>\n",
              "      <td>198</td>\n",
              "    </tr>\n",
              "    <tr>\n",
              "      <th>...</th>\n",
              "      <td>...</td>\n",
              "      <td>...</td>\n",
              "    </tr>\n",
              "    <tr>\n",
              "      <th>115700</th>\n",
              "      <td>Chhùi-koà-kut (Lat: Os palatinum) sī thâu-koà-...</td>\n",
              "      <td>198</td>\n",
              "    </tr>\n",
              "    <tr>\n",
              "      <th>116223</th>\n",
              "      <td>Tī Robbiate ê sì-ûi ū Calusco d'Adda, Imbersag...</td>\n",
              "      <td>198</td>\n",
              "    </tr>\n",
              "    <tr>\n",
              "      <th>116483</th>\n",
              "      <td>Chit phiⁿ bûn-chiuⁿ kài-siāu 1807 nî im-ga̍k l...</td>\n",
              "      <td>198</td>\n",
              "    </tr>\n",
              "    <tr>\n",
              "      <th>116590</th>\n",
              "      <td>\"Só͘-í lín m̄-thang kap in kāng-khóan; in-ūi l...</td>\n",
              "      <td>198</td>\n",
              "    </tr>\n",
              "    <tr>\n",
              "      <th>117231</th>\n",
              "      <td>Kok-chè hong-keh (Eng-gí: International style)...</td>\n",
              "      <td>198</td>\n",
              "    </tr>\n",
              "  </tbody>\n",
              "</table>\n",
              "<p>500 rows × 2 columns</p>\n",
              "</div>"
            ],
            "text/plain": [
              "                                                     sent   sc\n",
              "9       Tī Feigneux ê sì-ûi ū Béthancourt-en-Valois, C...  198\n",
              "309     Tāi-sêng Hóe-chai Hái-siōng Pó-hiám Tu-sek Hōe...  198\n",
              "719     Só·-í, chí-iàu chai-iáⁿ chi̍t-khai-sí ê ūi-tì ...  198\n",
              "855     Tī Mossa ê sì-ûi ū Farra d'Isonzo, Gorizia, Sa...  198\n",
              "1479    Bí-chiu ê chē-chē lâng kap chèng-tī jîn-bu̍t l...  198\n",
              "...                                                   ...  ...\n",
              "115700  Chhùi-koà-kut (Lat: Os palatinum) sī thâu-koà-...  198\n",
              "116223  Tī Robbiate ê sì-ûi ū Calusco d'Adda, Imbersag...  198\n",
              "116483  Chit phiⁿ bûn-chiuⁿ kài-siāu 1807 nî im-ga̍k l...  198\n",
              "116590  \"Só͘-í lín m̄-thang kap in kāng-khóan; in-ūi l...  198\n",
              "117231  Kok-chè hong-keh (Eng-gí: International style)...  198\n",
              "\n",
              "[500 rows x 2 columns]"
            ]
          },
          "metadata": {
            "tags": []
          },
          "execution_count": 248
        }
      ]
    },
    {
      "cell_type": "markdown",
      "metadata": {
        "id": "O3WzbUVB_1SV",
        "colab_type": "text"
      },
      "source": [
        "# Ниже еще чувааки из семейства Sino-Tibetan"
      ]
    },
    {
      "cell_type": "markdown",
      "metadata": {
        "id": "RvE-nlNRAuuN",
        "colab_type": "text"
      },
      "source": [
        "### zh-yue"
      ]
    },
    {
      "cell_type": "code",
      "metadata": {
        "colab_type": "code",
        "id": "ZUn4llT3_4Y0",
        "colab": {}
      },
      "source": [
        "# zh-yue"
      ],
      "execution_count": 0,
      "outputs": []
    },
    {
      "cell_type": "code",
      "metadata": {
        "colab_type": "code",
        "outputId": "bfed2dd9-3a2f-4c38-8670-3e9cfa9e4e34",
        "id": "UVmW3C7N_4Y6",
        "colab": {
          "base_uri": "https://localhost:8080/",
          "height": 34
        }
      },
      "source": [
        "language_to_class['zh-yue']"
      ],
      "execution_count": 0,
      "outputs": [
        {
          "output_type": "execute_result",
          "data": {
            "text/plain": [
              "164"
            ]
          },
          "metadata": {
            "tags": []
          },
          "execution_count": 249
        }
      ]
    },
    {
      "cell_type": "code",
      "metadata": {
        "colab_type": "code",
        "outputId": "bcad00db-7d4b-4b90-beb6-16be44604305",
        "id": "-jBsHtqC_4Y9",
        "colab": {
          "base_uri": "https://localhost:8080/",
          "height": 34
        }
      },
      "source": [
        "lan = 164\n",
        "x_t = x_test[x_test['sc'] == lan]\n",
        "x = convert(x_t)\n",
        "y = np.zeros((x.shape[0], len(languages)))\n",
        "y[:, lan] = 1\n",
        "y = y.astype('float32')\n",
        "y_pred = model.predict(x)\n",
        "p, r, f = metr(y, y_pred)\n",
        "print(\"language: \", class_to_language[lan], \"precision: \", p.numpy(), \"recall: \", r.numpy(), \"f1: \", f.numpy())"
      ],
      "execution_count": 0,
      "outputs": [
        {
          "output_type": "stream",
          "text": [
            "language:  zh-yue precision:  0.0 recall:  0.0 f1:  0.0\n"
          ],
          "name": "stdout"
        }
      ]
    },
    {
      "cell_type": "code",
      "metadata": {
        "id": "nrtA9M8mAMeT",
        "colab_type": "code",
        "outputId": "345738b3-8a49-418c-c8de-5712a9e27773",
        "colab": {
          "base_uri": "https://localhost:8080/",
          "height": 419
        }
      },
      "source": [
        "x_t"
      ],
      "execution_count": 0,
      "outputs": [
        {
          "output_type": "execute_result",
          "data": {
            "text/html": [
              "<div>\n",
              "<style scoped>\n",
              "    .dataframe tbody tr th:only-of-type {\n",
              "        vertical-align: middle;\n",
              "    }\n",
              "\n",
              "    .dataframe tbody tr th {\n",
              "        vertical-align: top;\n",
              "    }\n",
              "\n",
              "    .dataframe thead th {\n",
              "        text-align: right;\n",
              "    }\n",
              "</style>\n",
              "<table border=\"1\" class=\"dataframe\">\n",
              "  <thead>\n",
              "    <tr style=\"text-align: right;\">\n",
              "      <th></th>\n",
              "      <th>sent</th>\n",
              "      <th>sc</th>\n",
              "    </tr>\n",
              "  </thead>\n",
              "  <tbody>\n",
              "    <tr>\n",
              "      <th>66</th>\n",
              "      <td>2008年3月31號至9月26號，逢星期一至五上晝6:40至6:45由東京電視台播出，共10...</td>\n",
              "      <td>164</td>\n",
              "    </tr>\n",
              "    <tr>\n",
              "      <th>87</th>\n",
              "      <td>1994年，喺朋友聚會上俾人用啤酒樽整傷左眼，從此左眼睇唔到嘢。後隨住事業嘅成功，佢喺22歲...</td>\n",
              "      <td>164</td>\n",
              "    </tr>\n",
              "    <tr>\n",
              "      <th>249</th>\n",
              "      <td>「1918年9月漢陽鐵廠技術人員名單」(華員)：制鋼股副股長楊卓，雲巖，江蘇上海，32歲，民...</td>\n",
              "      <td>164</td>\n",
              "    </tr>\n",
              "    <tr>\n",
              "      <th>596</th>\n",
              "      <td>唐傑忠自細就開始表演相聲，1949年參軍做部隊文工團團員後參加過好多場表演藝術。1964年調...</td>\n",
              "      <td>164</td>\n",
              "    </tr>\n",
              "    <tr>\n",
              "      <th>690</th>\n",
              "      <td>廣東省第二中醫院（粵拼：gwong2 dung1 saang2 dai6 ji6 zung1...</td>\n",
              "      <td>164</td>\n",
              "    </tr>\n",
              "    <tr>\n",
              "      <th>...</th>\n",
              "      <td>...</td>\n",
              "      <td>...</td>\n",
              "    </tr>\n",
              "    <tr>\n",
              "      <th>115401</th>\n",
              "      <td>荷蘭人同西班牙人喺東亞勾心鬥角，荷蘭人喺日本話西班牙企圖顛覆日本政府，引起日本鎖國，只准同中...</td>\n",
              "      <td>164</td>\n",
              "    </tr>\n",
              "    <tr>\n",
              "      <th>115567</th>\n",
              "      <td>粵語代表作有：《明日話今天》《春雨弯刀》《奮鬥》《東方之珠》《無敵是愛》《命運》《心曲》《播...</td>\n",
              "      <td>164</td>\n",
              "    </tr>\n",
              "    <tr>\n",
              "      <th>116797</th>\n",
              "      <td>比賽時間10分鐘，時間到空杯多為勝。 但空杯少方有最後投球權，最後比賽結束。 最後投球時可有...</td>\n",
              "      <td>164</td>\n",
              "    </tr>\n",
              "    <tr>\n",
              "      <th>117081</th>\n",
              "      <td>華僑將領胡文虎喺1931年返到中國內地之後，搵咗海珠石附近嘅長堤地區起咗間樓做工廠，直到19...</td>\n",
              "      <td>164</td>\n",
              "    </tr>\n",
              "    <tr>\n",
              "      <th>117157</th>\n",
              "      <td>檀香山座落喺北緯21度18分32秒西經157度49分34秒（21.308950 - 157....</td>\n",
              "      <td>164</td>\n",
              "    </tr>\n",
              "  </tbody>\n",
              "</table>\n",
              "<p>500 rows × 2 columns</p>\n",
              "</div>"
            ],
            "text/plain": [
              "                                                     sent   sc\n",
              "66      2008年3月31號至9月26號，逢星期一至五上晝6:40至6:45由東京電視台播出，共10...  164\n",
              "87      1994年，喺朋友聚會上俾人用啤酒樽整傷左眼，從此左眼睇唔到嘢。後隨住事業嘅成功，佢喺22歲...  164\n",
              "249     「1918年9月漢陽鐵廠技術人員名單」(華員)：制鋼股副股長楊卓，雲巖，江蘇上海，32歲，民...  164\n",
              "596     唐傑忠自細就開始表演相聲，1949年參軍做部隊文工團團員後參加過好多場表演藝術。1964年調...  164\n",
              "690     廣東省第二中醫院（粵拼：gwong2 dung1 saang2 dai6 ji6 zung1...  164\n",
              "...                                                   ...  ...\n",
              "115401  荷蘭人同西班牙人喺東亞勾心鬥角，荷蘭人喺日本話西班牙企圖顛覆日本政府，引起日本鎖國，只准同中...  164\n",
              "115567  粵語代表作有：《明日話今天》《春雨弯刀》《奮鬥》《東方之珠》《無敵是愛》《命運》《心曲》《播...  164\n",
              "116797  比賽時間10分鐘，時間到空杯多為勝。 但空杯少方有最後投球權，最後比賽結束。 最後投球時可有...  164\n",
              "117081  華僑將領胡文虎喺1931年返到中國內地之後，搵咗海珠石附近嘅長堤地區起咗間樓做工廠，直到19...  164\n",
              "117157  檀香山座落喺北緯21度18分32秒西經157度49分34秒（21.308950 - 157....  164\n",
              "\n",
              "[500 rows x 2 columns]"
            ]
          },
          "metadata": {
            "tags": []
          },
          "execution_count": 253
        }
      ]
    },
    {
      "cell_type": "markdown",
      "metadata": {
        "id": "pNCgzsWZAJJQ",
        "colab_type": "text"
      },
      "source": [
        "О да, нашла еще одного братюню к ним"
      ]
    },
    {
      "cell_type": "code",
      "metadata": {
        "id": "scmXF5d4--TE",
        "colab_type": "code",
        "colab": {}
      },
      "source": [
        ""
      ],
      "execution_count": 0,
      "outputs": []
    },
    {
      "cell_type": "markdown",
      "metadata": {
        "id": "TU4VLqpvAxOD",
        "colab_type": "text"
      },
      "source": [
        "### new"
      ]
    },
    {
      "cell_type": "code",
      "metadata": {
        "colab_type": "code",
        "id": "sRdJzqyeAQC4",
        "colab": {}
      },
      "source": [
        "# new"
      ],
      "execution_count": 0,
      "outputs": []
    },
    {
      "cell_type": "code",
      "metadata": {
        "colab_type": "code",
        "outputId": "a5f1b3ac-e8c2-48f5-eca6-05c33d706294",
        "id": "bgpzM_uGAQC7",
        "colab": {
          "base_uri": "https://localhost:8080/",
          "height": 34
        }
      },
      "source": [
        "language_to_class['new']"
      ],
      "execution_count": 0,
      "outputs": [
        {
          "output_type": "execute_result",
          "data": {
            "text/plain": [
              "71"
            ]
          },
          "metadata": {
            "tags": []
          },
          "execution_count": 255
        }
      ]
    },
    {
      "cell_type": "code",
      "metadata": {
        "colab_type": "code",
        "outputId": "59402fff-33ec-4abb-8421-15c72277ca9a",
        "id": "xgUFRPGNAQC-",
        "colab": {
          "base_uri": "https://localhost:8080/",
          "height": 34
        }
      },
      "source": [
        "lan = 71\n",
        "x_t = x_test[x_test['sc'] == lan]\n",
        "x = convert(x_t)\n",
        "y = np.zeros((x.shape[0], len(languages)))\n",
        "y[:, lan] = 1\n",
        "y = y.astype('float32')\n",
        "y_pred = model.predict(x)\n",
        "p, r, f = metr(y, y_pred)\n",
        "print(\"language: \", class_to_language[lan], \"precision: \", p.numpy(), \"recall: \", r.numpy(), \"f1: \", f.numpy())"
      ],
      "execution_count": 0,
      "outputs": [
        {
          "output_type": "stream",
          "text": [
            "language:  new precision:  0.9918033 recall:  0.968 f1:  0.979757\n"
          ],
          "name": "stdout"
        }
      ]
    },
    {
      "cell_type": "code",
      "metadata": {
        "colab_type": "code",
        "outputId": "b1db5d9d-4e4d-46fb-a27e-76f6a4a30a24",
        "id": "dvUjIdEiAQDB",
        "colab": {
          "base_uri": "https://localhost:8080/",
          "height": 419
        }
      },
      "source": [
        "x_t"
      ],
      "execution_count": 0,
      "outputs": [
        {
          "output_type": "execute_result",
          "data": {
            "text/html": [
              "<div>\n",
              "<style scoped>\n",
              "    .dataframe tbody tr th:only-of-type {\n",
              "        vertical-align: middle;\n",
              "    }\n",
              "\n",
              "    .dataframe tbody tr th {\n",
              "        vertical-align: top;\n",
              "    }\n",
              "\n",
              "    .dataframe thead th {\n",
              "        text-align: right;\n",
              "    }\n",
              "</style>\n",
              "<table border=\"1\" class=\"dataframe\">\n",
              "  <thead>\n",
              "    <tr style=\"text-align: right;\">\n",
              "      <th></th>\n",
              "      <th>sent</th>\n",
              "      <th>sc</th>\n",
              "    </tr>\n",
              "  </thead>\n",
              "  <tbody>\n",
              "    <tr>\n",
              "      <th>237</th>\n",
              "      <td>थ्व थाय्‌ भारतया उत्तराखण्ड राज्यया कुमाँउ मण्...</td>\n",
              "      <td>71</td>\n",
              "    </tr>\n",
              "    <tr>\n",
              "      <th>315</th>\n",
              "      <td>भाषिक रुपय् थ्व थासय्‌ भारोपेली भाषा परिवारया ...</td>\n",
              "      <td>71</td>\n",
              "    </tr>\n",
              "    <tr>\n",
              "      <th>458</th>\n",
              "      <td>थ्व गां दूगु थाय्‌ थी-थी कालय् विभिन्न जुजुतये...</td>\n",
              "      <td>71</td>\n",
              "    </tr>\n",
              "    <tr>\n",
              "      <th>827</th>\n",
              "      <td>थ्व शहरयागु अक्षांश ३९.१२८९५२ उत्तर व देशान्तर...</td>\n",
              "      <td>71</td>\n",
              "    </tr>\n",
              "    <tr>\n",
              "      <th>947</th>\n",
              "      <td>थ्व थाय्‌ पौराणिक काल निसें हिन्दू धर्मया ग्रन...</td>\n",
              "      <td>71</td>\n",
              "    </tr>\n",
              "    <tr>\n",
              "      <th>...</th>\n",
              "      <td>...</td>\n",
              "      <td>...</td>\n",
              "    </tr>\n",
              "    <tr>\n",
              "      <th>116312</th>\n",
              "      <td>हिन्दू धर्मया ग्रन्थय् थ्व थाय् दूगु थाय्यात न...</td>\n",
              "      <td>71</td>\n",
              "    </tr>\n",
              "    <tr>\n",
              "      <th>116977</th>\n",
              "      <td>थ्व थाय्‌या अर्थतन्त्रय् बुंज्याया तःधंगु ल्हा...</td>\n",
              "      <td>71</td>\n",
              "    </tr>\n",
              "    <tr>\n",
              "      <th>117124</th>\n",
              "      <td>पञ्जाबी भाषा छ्गु भाषा खः। थ्व भाय् भारत व पाक...</td>\n",
              "      <td>71</td>\n",
              "    </tr>\n",
              "    <tr>\n",
              "      <th>117368</th>\n",
              "      <td>थ्व थाय्‌ भारतया उत्तराखण्ड राज्यया गढवाल मण्ड...</td>\n",
              "      <td>71</td>\n",
              "    </tr>\n",
              "    <tr>\n",
              "      <th>117401</th>\n",
              "      <td>कृष्णा जिल्लायागु अक्षांश १५.४३' निसें १६.१०' ...</td>\n",
              "      <td>71</td>\n",
              "    </tr>\n",
              "  </tbody>\n",
              "</table>\n",
              "<p>500 rows × 2 columns</p>\n",
              "</div>"
            ],
            "text/plain": [
              "                                                     sent  sc\n",
              "237     थ्व थाय्‌ भारतया उत्तराखण्ड राज्यया कुमाँउ मण्...  71\n",
              "315     भाषिक रुपय् थ्व थासय्‌ भारोपेली भाषा परिवारया ...  71\n",
              "458     थ्व गां दूगु थाय्‌ थी-थी कालय् विभिन्न जुजुतये...  71\n",
              "827     थ्व शहरयागु अक्षांश ३९.१२८९५२ उत्तर व देशान्तर...  71\n",
              "947     थ्व थाय्‌ पौराणिक काल निसें हिन्दू धर्मया ग्रन...  71\n",
              "...                                                   ...  ..\n",
              "116312  हिन्दू धर्मया ग्रन्थय् थ्व थाय् दूगु थाय्यात न...  71\n",
              "116977  थ्व थाय्‌या अर्थतन्त्रय् बुंज्याया तःधंगु ल्हा...  71\n",
              "117124  पञ्जाबी भाषा छ्गु भाषा खः। थ्व भाय् भारत व पाक...  71\n",
              "117368  थ्व थाय्‌ भारतया उत्तराखण्ड राज्यया गढवाल मण्ड...  71\n",
              "117401  कृष्णा जिल्लायागु अक्षांश १५.४३' निसें १६.१०' ...  71\n",
              "\n",
              "[500 rows x 2 columns]"
            ]
          },
          "metadata": {
            "tags": []
          },
          "execution_count": 257
        }
      ]
    },
    {
      "cell_type": "code",
      "metadata": {
        "id": "H5XFp8J3AdMX",
        "colab_type": "code",
        "colab": {}
      },
      "source": [
        ""
      ],
      "execution_count": 0,
      "outputs": []
    },
    {
      "cell_type": "markdown",
      "metadata": {
        "id": "t4-tTFMqAzce",
        "colab_type": "text"
      },
      "source": [
        "### mya"
      ]
    },
    {
      "cell_type": "code",
      "metadata": {
        "colab_type": "code",
        "id": "cbtEhunbAdVu",
        "colab": {}
      },
      "source": [
        "# mya"
      ],
      "execution_count": 0,
      "outputs": []
    },
    {
      "cell_type": "code",
      "metadata": {
        "colab_type": "code",
        "outputId": "ef92745e-bdc4-44ad-88c4-05cab572dd45",
        "id": "rXq1hceaAdVy",
        "colab": {
          "base_uri": "https://localhost:8080/",
          "height": 34
        }
      },
      "source": [
        "language_to_class['mya']"
      ],
      "execution_count": 0,
      "outputs": [
        {
          "output_type": "execute_result",
          "data": {
            "text/plain": [
              "114"
            ]
          },
          "metadata": {
            "tags": []
          },
          "execution_count": 260
        }
      ]
    },
    {
      "cell_type": "code",
      "metadata": {
        "colab_type": "code",
        "outputId": "b1d33986-d03c-45a0-ffb4-b0ece4e07b47",
        "id": "9XWwUe1ZAdV1",
        "colab": {
          "base_uri": "https://localhost:8080/",
          "height": 34
        }
      },
      "source": [
        "lan = 114\n",
        "x_t = x_test[x_test['sc'] == lan]\n",
        "x = convert(x_t)\n",
        "y = np.zeros((x.shape[0], len(languages)))\n",
        "y[:, lan] = 1\n",
        "y = y.astype('float32')\n",
        "y_pred = model.predict(x)\n",
        "p, r, f = metr(y, y_pred)\n",
        "print(\"language: \", class_to_language[lan], \"precision: \", p.numpy(), \"recall: \", r.numpy(), \"f1: \", f.numpy())"
      ],
      "execution_count": 0,
      "outputs": [
        {
          "output_type": "stream",
          "text": [
            "language:  mya precision:  0.984252 recall:  0.75 f1:  0.8513053\n"
          ],
          "name": "stdout"
        }
      ]
    },
    {
      "cell_type": "code",
      "metadata": {
        "colab_type": "code",
        "outputId": "64835d39-f3b9-4d58-ecca-6b19408ece9c",
        "id": "g-dsntBOAdV3",
        "colab": {
          "base_uri": "https://localhost:8080/",
          "height": 419
        }
      },
      "source": [
        "x_t"
      ],
      "execution_count": 0,
      "outputs": [
        {
          "output_type": "execute_result",
          "data": {
            "text/html": [
              "<div>\n",
              "<style scoped>\n",
              "    .dataframe tbody tr th:only-of-type {\n",
              "        vertical-align: middle;\n",
              "    }\n",
              "\n",
              "    .dataframe tbody tr th {\n",
              "        vertical-align: top;\n",
              "    }\n",
              "\n",
              "    .dataframe thead th {\n",
              "        text-align: right;\n",
              "    }\n",
              "</style>\n",
              "<table border=\"1\" class=\"dataframe\">\n",
              "  <thead>\n",
              "    <tr style=\"text-align: right;\">\n",
              "      <th></th>\n",
              "      <th>sent</th>\n",
              "      <th>sc</th>\n",
              "    </tr>\n",
              "  </thead>\n",
              "  <tbody>\n",
              "    <tr>\n",
              "      <th>24</th>\n",
              "      <td>၂၀၁ဝ မတ် Forbes စာရင်းအရ သူ၏ကြွယ်ဝချမ်းသာမှုမှ...</td>\n",
              "      <td>114</td>\n",
              "    </tr>\n",
              "    <tr>\n",
              "      <th>379</th>\n",
              "      <td>က‌ဆုန်လပြည့်နေ့တွင် မြတ်ဗုဒ္ဓ၏ အဖြစ်တော်လေးမျိ...</td>\n",
              "      <td>114</td>\n",
              "    </tr>\n",
              "    <tr>\n",
              "      <th>914</th>\n",
              "      <td>သပိတ်ကံဆောင်မှုကို ဘုရားရှင် လက်ထက်က တကြိမ်၊ သ...</td>\n",
              "      <td>114</td>\n",
              "    </tr>\n",
              "    <tr>\n",
              "      <th>1296</th>\n",
              "      <td>ပထမ ၃ မျိုးမှာ လက္ခဏာများကိုလိုက်၍ ခေါ်ဝေါ်ခြင...</td>\n",
              "      <td>114</td>\n",
              "    </tr>\n",
              "    <tr>\n",
              "      <th>1383</th>\n",
              "      <td>ဟိတ်မြို့သည် မြောက်ပင်လယ် ကမ်းခြေမှ နှစ်မိုင် ...</td>\n",
              "      <td>114</td>\n",
              "    </tr>\n",
              "    <tr>\n",
              "      <th>...</th>\n",
              "      <td>...</td>\n",
              "      <td>...</td>\n",
              "    </tr>\n",
              "    <tr>\n",
              "      <th>116508</th>\n",
              "      <td>၁၉၄၅ - ဂျာနယ်ကျော်- ဩဂုတ်လထုတ်တွင် အခုရေစက်ဝတ္...</td>\n",
              "      <td>114</td>\n",
              "    </tr>\n",
              "    <tr>\n",
              "      <th>116562</th>\n",
              "      <td>Actinium အား ယူရေနီယမ် သတ္ထုရိုင်းများ ထဲတွင် ...</td>\n",
              "      <td>114</td>\n",
              "    </tr>\n",
              "    <tr>\n",
              "      <th>116989</th>\n",
              "      <td>\"ငါ့သမီးတော့ ဒီရန်သူရဲ့လက်အောက်မှာ အခိုင်းအစေ ...</td>\n",
              "      <td>114</td>\n",
              "    </tr>\n",
              "    <tr>\n",
              "      <th>117210</th>\n",
              "      <td>ယောမင်းကြီး ဦးဘိုးလှိုင် ဟုခေါ်သော ယောအတွင်းဝန...</td>\n",
              "      <td>114</td>\n",
              "    </tr>\n",
              "    <tr>\n",
              "      <th>117313</th>\n",
              "      <td>အဲလ်ဘတ်ဗွန်ဆင့်ဂျော်ဂျီ (အင်္ဂလိပ် : Albert vo...</td>\n",
              "      <td>114</td>\n",
              "    </tr>\n",
              "  </tbody>\n",
              "</table>\n",
              "<p>500 rows × 2 columns</p>\n",
              "</div>"
            ],
            "text/plain": [
              "                                                     sent   sc\n",
              "24      ၂၀၁ဝ မတ် Forbes စာရင်းအရ သူ၏ကြွယ်ဝချမ်းသာမှုမှ...  114\n",
              "379     က‌ဆုန်လပြည့်နေ့တွင် မြတ်ဗုဒ္ဓ၏ အဖြစ်တော်လေးမျိ...  114\n",
              "914     သပိတ်ကံဆောင်မှုကို ဘုရားရှင် လက်ထက်က တကြိမ်၊ သ...  114\n",
              "1296    ပထမ ၃ မျိုးမှာ လက္ခဏာများကိုလိုက်၍ ခေါ်ဝေါ်ခြင...  114\n",
              "1383    ဟိတ်မြို့သည် မြောက်ပင်လယ် ကမ်းခြေမှ နှစ်မိုင် ...  114\n",
              "...                                                   ...  ...\n",
              "116508  ၁၉၄၅ - ဂျာနယ်ကျော်- ဩဂုတ်လထုတ်တွင် အခုရေစက်ဝတ္...  114\n",
              "116562  Actinium အား ယူရေနီယမ် သတ္ထုရိုင်းများ ထဲတွင် ...  114\n",
              "116989  \"ငါ့သမီးတော့ ဒီရန်သူရဲ့လက်အောက်မှာ အခိုင်းအစေ ...  114\n",
              "117210  ယောမင်းကြီး ဦးဘိုးလှိုင် ဟုခေါ်သော ယောအတွင်းဝန...  114\n",
              "117313  အဲလ်ဘတ်ဗွန်ဆင့်ဂျော်ဂျီ (အင်္ဂလိပ် : Albert vo...  114\n",
              "\n",
              "[500 rows x 2 columns]"
            ]
          },
          "metadata": {
            "tags": []
          },
          "execution_count": 262
        }
      ]
    },
    {
      "cell_type": "code",
      "metadata": {
        "id": "eFaNTjzMAjsJ",
        "colab_type": "code",
        "colab": {}
      },
      "source": [
        ""
      ],
      "execution_count": 0,
      "outputs": []
    },
    {
      "cell_type": "markdown",
      "metadata": {
        "id": "V_z09kUAA-eF",
        "colab_type": "text"
      },
      "source": [
        "### cdo"
      ]
    },
    {
      "cell_type": "code",
      "metadata": {
        "colab_type": "code",
        "id": "IRNNmke-A1-Y",
        "colab": {}
      },
      "source": [
        "# cdo"
      ],
      "execution_count": 0,
      "outputs": []
    },
    {
      "cell_type": "code",
      "metadata": {
        "colab_type": "code",
        "outputId": "6ae6453b-2353-49f2-99ff-b6e672c95c15",
        "id": "YrBkg9sWA1-c",
        "colab": {
          "base_uri": "https://localhost:8080/",
          "height": 34
        }
      },
      "source": [
        "language_to_class['cdo']"
      ],
      "execution_count": 0,
      "outputs": [
        {
          "output_type": "execute_result",
          "data": {
            "text/plain": [
              "229"
            ]
          },
          "metadata": {
            "tags": []
          },
          "execution_count": 263
        }
      ]
    },
    {
      "cell_type": "code",
      "metadata": {
        "colab_type": "code",
        "outputId": "d25d4b27-6197-46f5-a0d9-6eac3ca13cd6",
        "id": "Ej5IkP4AA1-f",
        "colab": {
          "base_uri": "https://localhost:8080/",
          "height": 34
        }
      },
      "source": [
        "lan = 229\n",
        "x_t = x_test[x_test['sc'] == lan]\n",
        "x = convert(x_t)\n",
        "y = np.zeros((x.shape[0], len(languages)))\n",
        "y[:, lan] = 1\n",
        "y = y.astype('float32')\n",
        "y_pred = model.predict(x)\n",
        "p, r, f = metr(y, y_pred)\n",
        "print(\"language: \", class_to_language[lan], \"precision: \", p.numpy(), \"recall: \", r.numpy(), \"f1: \", f.numpy())"
      ],
      "execution_count": 0,
      "outputs": [
        {
          "output_type": "stream",
          "text": [
            "language:  cdo precision:  0.99788135 recall:  0.942 f1:  0.96913576\n"
          ],
          "name": "stdout"
        }
      ]
    },
    {
      "cell_type": "code",
      "metadata": {
        "colab_type": "code",
        "outputId": "496205bb-f575-4924-c895-82770fc7f0aa",
        "id": "wLf24wo7A1-j",
        "colab": {
          "base_uri": "https://localhost:8080/",
          "height": 419
        }
      },
      "source": [
        "x_t"
      ],
      "execution_count": 0,
      "outputs": [
        {
          "output_type": "execute_result",
          "data": {
            "text/html": [
              "<div>\n",
              "<style scoped>\n",
              "    .dataframe tbody tr th:only-of-type {\n",
              "        vertical-align: middle;\n",
              "    }\n",
              "\n",
              "    .dataframe tbody tr th {\n",
              "        vertical-align: top;\n",
              "    }\n",
              "\n",
              "    .dataframe thead th {\n",
              "        text-align: right;\n",
              "    }\n",
              "</style>\n",
              "<table border=\"1\" class=\"dataframe\">\n",
              "  <thead>\n",
              "    <tr style=\"text-align: right;\">\n",
              "      <th></th>\n",
              "      <th>sent</th>\n",
              "      <th>sc</th>\n",
              "    </tr>\n",
              "  </thead>\n",
              "  <tbody>\n",
              "    <tr>\n",
              "      <th>681</th>\n",
              "      <td>Huá-hŏk nguòng-só (化學元素) sê cī sié-gái dâi-dŏn...</td>\n",
              "      <td>229</td>\n",
              "    </tr>\n",
              "    <tr>\n",
              "      <th>772</th>\n",
              "      <td>YouTube sê siŏh ciáh ké̤ṳk nè̤ng hŭng-hiōng di...</td>\n",
              "      <td>229</td>\n",
              "    </tr>\n",
              "    <tr>\n",
              "      <th>905</th>\n",
              "      <td>Găk gĭ-dók-gáu gì ùng-huá diē-sié, siông-dá̤ d...</td>\n",
              "      <td>229</td>\n",
              "    </tr>\n",
              "    <tr>\n",
              "      <th>1061</th>\n",
              "      <td>Wikisource (Wiki Dù-cṳ̆-guāng) sê Wikimedia gì...</td>\n",
              "      <td>229</td>\n",
              "    </tr>\n",
              "    <tr>\n",
              "      <th>1232</th>\n",
              "      <td>Gô-dā̤ (舊底) sê siŏh ciáh tiŭ-chiông gì sì-găng...</td>\n",
              "      <td>229</td>\n",
              "    </tr>\n",
              "    <tr>\n",
              "      <th>...</th>\n",
              "      <td>...</td>\n",
              "      <td>...</td>\n",
              "    </tr>\n",
              "    <tr>\n",
              "      <th>116150</th>\n",
              "      <td>Uòng-dô̤ Sĕk-nê Sĭng-cô̤ sê uòng-dô̤ gà̤-dēng ...</td>\n",
              "      <td>229</td>\n",
              "    </tr>\n",
              "    <tr>\n",
              "      <th>116286</th>\n",
              "      <td>Hĕ̤ng-ngṳ̀ (魟魚) sê náe̤ng-gáuk-ngṳ̀ gŏng diē-s...</td>\n",
              "      <td>229</td>\n",
              "    </tr>\n",
              "    <tr>\n",
              "      <th>116545</th>\n",
              "      <td>Iù-tái-gáu, Gĭ-dók-gáu gâe̤ng Ĭ-sṳ̆-làng-gáu d...</td>\n",
              "      <td>229</td>\n",
              "    </tr>\n",
              "    <tr>\n",
              "      <th>116600</th>\n",
              "      <td>Lìng Sié-gŭng diŏh Giū-mī-chŏng chók-sĕng, ĭ s...</td>\n",
              "      <td>229</td>\n",
              "    </tr>\n",
              "    <tr>\n",
              "      <th>116877</th>\n",
              "      <td>Alben W. Barkley (1877 nièng 11 nguŏk 24 hô̤ –...</td>\n",
              "      <td>229</td>\n",
              "    </tr>\n",
              "  </tbody>\n",
              "</table>\n",
              "<p>500 rows × 2 columns</p>\n",
              "</div>"
            ],
            "text/plain": [
              "                                                     sent   sc\n",
              "681     Huá-hŏk nguòng-só (化學元素) sê cī sié-gái dâi-dŏn...  229\n",
              "772     YouTube sê siŏh ciáh ké̤ṳk nè̤ng hŭng-hiōng di...  229\n",
              "905     Găk gĭ-dók-gáu gì ùng-huá diē-sié, siông-dá̤ d...  229\n",
              "1061    Wikisource (Wiki Dù-cṳ̆-guāng) sê Wikimedia gì...  229\n",
              "1232    Gô-dā̤ (舊底) sê siŏh ciáh tiŭ-chiông gì sì-găng...  229\n",
              "...                                                   ...  ...\n",
              "116150  Uòng-dô̤ Sĕk-nê Sĭng-cô̤ sê uòng-dô̤ gà̤-dēng ...  229\n",
              "116286  Hĕ̤ng-ngṳ̀ (魟魚) sê náe̤ng-gáuk-ngṳ̀ gŏng diē-s...  229\n",
              "116545  Iù-tái-gáu, Gĭ-dók-gáu gâe̤ng Ĭ-sṳ̆-làng-gáu d...  229\n",
              "116600  Lìng Sié-gŭng diŏh Giū-mī-chŏng chók-sĕng, ĭ s...  229\n",
              "116877  Alben W. Barkley (1877 nièng 11 nguŏk 24 hô̤ –...  229\n",
              "\n",
              "[500 rows x 2 columns]"
            ]
          },
          "metadata": {
            "tags": []
          },
          "execution_count": 265
        }
      ]
    },
    {
      "cell_type": "code",
      "metadata": {
        "id": "2B84qlWRA57k",
        "colab_type": "code",
        "colab": {}
      },
      "source": [
        ""
      ],
      "execution_count": 0,
      "outputs": []
    },
    {
      "cell_type": "markdown",
      "metadata": {
        "id": "ihYL8LHFA82L",
        "colab_type": "text"
      },
      "source": [
        "### bod"
      ]
    },
    {
      "cell_type": "code",
      "metadata": {
        "id": "CKSOTWitA9sy",
        "colab_type": "code",
        "colab": {}
      },
      "source": [
        ""
      ],
      "execution_count": 0,
      "outputs": []
    },
    {
      "cell_type": "code",
      "metadata": {
        "colab_type": "code",
        "id": "tzqXT2V7BAB-",
        "colab": {}
      },
      "source": [
        "# zh-yue"
      ],
      "execution_count": 0,
      "outputs": []
    },
    {
      "cell_type": "code",
      "metadata": {
        "colab_type": "code",
        "outputId": "37e17b3a-5d93-4459-f49c-e16020ed1a89",
        "id": "npw1h9JZBACB",
        "colab": {
          "base_uri": "https://localhost:8080/",
          "height": 34
        }
      },
      "source": [
        "language_to_class['bod']"
      ],
      "execution_count": 0,
      "outputs": [
        {
          "output_type": "execute_result",
          "data": {
            "text/plain": [
              "53"
            ]
          },
          "metadata": {
            "tags": []
          },
          "execution_count": 266
        }
      ]
    },
    {
      "cell_type": "code",
      "metadata": {
        "colab_type": "code",
        "outputId": "9b5099a7-4379-48f4-a5d8-e53d955418a8",
        "id": "tM6L56Q2BACD",
        "colab": {
          "base_uri": "https://localhost:8080/",
          "height": 34
        }
      },
      "source": [
        "lan = 53\n",
        "x_t = x_test[x_test['sc'] == lan]\n",
        "x = convert(x_t)\n",
        "y = np.zeros((x.shape[0], len(languages)))\n",
        "y[:, lan] = 1\n",
        "y = y.astype('float32')\n",
        "y_pred = model.predict(x)\n",
        "p, r, f = metr(y, y_pred)\n",
        "print(\"language: \", class_to_language[lan], \"precision: \", p.numpy(), \"recall: \", r.numpy(), \"f1: \", f.numpy())"
      ],
      "execution_count": 0,
      "outputs": [
        {
          "output_type": "stream",
          "text": [
            "language:  bod precision:  0.95862067 recall:  0.278 f1:  0.4310077\n"
          ],
          "name": "stdout"
        }
      ]
    },
    {
      "cell_type": "code",
      "metadata": {
        "colab_type": "code",
        "outputId": "2dee01e9-0ed6-4f71-f1a5-8e02b0755cda",
        "id": "evAHd-WOBACG",
        "colab": {
          "base_uri": "https://localhost:8080/",
          "height": 419
        }
      },
      "source": [
        "x_t"
      ],
      "execution_count": 0,
      "outputs": [
        {
          "output_type": "execute_result",
          "data": {
            "text/html": [
              "<div>\n",
              "<style scoped>\n",
              "    .dataframe tbody tr th:only-of-type {\n",
              "        vertical-align: middle;\n",
              "    }\n",
              "\n",
              "    .dataframe tbody tr th {\n",
              "        vertical-align: top;\n",
              "    }\n",
              "\n",
              "    .dataframe thead th {\n",
              "        text-align: right;\n",
              "    }\n",
              "</style>\n",
              "<table border=\"1\" class=\"dataframe\">\n",
              "  <thead>\n",
              "    <tr style=\"text-align: right;\">\n",
              "      <th></th>\n",
              "      <th>sent</th>\n",
              "      <th>sc</th>\n",
              "    </tr>\n",
              "  </thead>\n",
              "  <tbody>\n",
              "    <tr>\n",
              "      <th>133</th>\n",
              "      <td>(༡) ཐེག་པ་ཆེན་པོའི་ལུགས་ཀྱི་ཞིང་ཁམས་ཀྱི་རྣམ་གཞ...</td>\n",
              "      <td>53</td>\n",
              "    </tr>\n",
              "    <tr>\n",
              "      <th>148</th>\n",
              "      <td>༡༩༤༢ ལོ་ནས་བཟུང་བོད་ཀྱི་ལོ་རྒྱུས་ལ་སྤྲོ་བ་རྒྱས...</td>\n",
              "      <td>53</td>\n",
              "    </tr>\n",
              "    <tr>\n",
              "      <th>339</th>\n",
              "      <td>ལུགས་རྙིང་བོད་བཀའ་ཤག་སྲིད་གཞུང་གི་དམག་སྤྱི་ཆེན...</td>\n",
              "      <td>53</td>\n",
              "    </tr>\n",
              "    <tr>\n",
              "      <th>633</th>\n",
              "      <td>གྲོགས་པོ་ལ་ཕུལ་བ། རིང་ནས་འགྲོགས་པའི་ཉེ་བའི་གྲོ...</td>\n",
              "      <td>53</td>\n",
              "    </tr>\n",
              "    <tr>\n",
              "      <th>834</th>\n",
              "      <td>ལུ་ཡི་སེ་མི་ཤེལ་(ཧྥ་རན་སིའི་སྐད།: Louise Miche...</td>\n",
              "      <td>53</td>\n",
              "    </tr>\n",
              "    <tr>\n",
              "      <th>...</th>\n",
              "      <td>...</td>\n",
              "      <td>...</td>\n",
              "    </tr>\n",
              "    <tr>\n",
              "      <th>117009</th>\n",
              "      <td>སེམས་ཀྱི་རྨ་ཁའི་ན་ཟུག་ཁོག་ན་བཅུམ།། དགའ་སྐྱོ་བས...</td>\n",
              "      <td>53</td>\n",
              "    </tr>\n",
              "    <tr>\n",
              "      <th>117217</th>\n",
              "      <td>གནད་དོན་འདིས་མེན་ཌི་ལི་ཧྤེ་ཡི་དུས་འཁོར་རེའུ་མི...</td>\n",
              "      <td>53</td>\n",
              "    </tr>\n",
              "    <tr>\n",
              "      <th>117226</th>\n",
              "      <td>༁ྃ༔ ཟབ་ཆོས་ཞི་ཁྲོ་དགོངས་པ་རང་གྲོལ་ལས། བསྐྱེད་ར...</td>\n",
              "      <td>53</td>\n",
              "    </tr>\n",
              "    <tr>\n",
              "      <th>117242</th>\n",
              "      <td>སྐྲ། སྤུ། སེན་མོ། སོ། དྲི་མ། པགས་པ། ཤ། རུས་པ། ...</td>\n",
              "      <td>53</td>\n",
              "    </tr>\n",
              "    <tr>\n",
              "      <th>117333</th>\n",
              "      <td>བོད་རྗེ་གཉིས་པ་མུ་ཁྲི་བཙན་པོ་ནི། ཡབ་གཉའ་ཁྲི་བཙ...</td>\n",
              "      <td>53</td>\n",
              "    </tr>\n",
              "  </tbody>\n",
              "</table>\n",
              "<p>500 rows × 2 columns</p>\n",
              "</div>"
            ],
            "text/plain": [
              "                                                     sent  sc\n",
              "133     (༡) ཐེག་པ་ཆེན་པོའི་ལུགས་ཀྱི་ཞིང་ཁམས་ཀྱི་རྣམ་གཞ...  53\n",
              "148     ༡༩༤༢ ལོ་ནས་བཟུང་བོད་ཀྱི་ལོ་རྒྱུས་ལ་སྤྲོ་བ་རྒྱས...  53\n",
              "339     ལུགས་རྙིང་བོད་བཀའ་ཤག་སྲིད་གཞུང་གི་དམག་སྤྱི་ཆེན...  53\n",
              "633     གྲོགས་པོ་ལ་ཕུལ་བ། རིང་ནས་འགྲོགས་པའི་ཉེ་བའི་གྲོ...  53\n",
              "834     ལུ་ཡི་སེ་མི་ཤེལ་(ཧྥ་རན་སིའི་སྐད།: Louise Miche...  53\n",
              "...                                                   ...  ..\n",
              "117009  སེམས་ཀྱི་རྨ་ཁའི་ན་ཟུག་ཁོག་ན་བཅུམ།། དགའ་སྐྱོ་བས...  53\n",
              "117217  གནད་དོན་འདིས་མེན་ཌི་ལི་ཧྤེ་ཡི་དུས་འཁོར་རེའུ་མི...  53\n",
              "117226  ༁ྃ༔ ཟབ་ཆོས་ཞི་ཁྲོ་དགོངས་པ་རང་གྲོལ་ལས། བསྐྱེད་ར...  53\n",
              "117242  སྐྲ། སྤུ། སེན་མོ། སོ། དྲི་མ། པགས་པ། ཤ། རུས་པ། ...  53\n",
              "117333  བོད་རྗེ་གཉིས་པ་མུ་ཁྲི་བཙན་པོ་ནི། ཡབ་གཉའ་ཁྲི་བཙ...  53\n",
              "\n",
              "[500 rows x 2 columns]"
            ]
          },
          "metadata": {
            "tags": []
          },
          "execution_count": 268
        }
      ]
    }
  ]
}