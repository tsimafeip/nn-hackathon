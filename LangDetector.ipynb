{
  "nbformat": 4,
  "nbformat_minor": 0,
  "metadata": {
    "colab": {
      "name": "Copy of hackaton.ipynb",
      "provenance": [],
      "collapsed_sections": [],
      "toc_visible": true
    },
    "kernelspec": {
      "name": "python3",
      "display_name": "Python 3"
    },
    "accelerator": "GPU"
  },
  "cells": [
    {
      "cell_type": "code",
      "metadata": {
        "id": "lNLhWWCxYfLf",
        "colab_type": "code",
        "colab": {}
      },
      "source": [
        "import re\n",
        "import pandas as pd\n",
        "from tqdm import tqdm\n",
        "from sklearn.feature_extraction.text import TfidfVectorizer\n",
        "from sklearn.linear_model import LogisticRegression\n",
        "from sklearn.model_selection import train_test_split\n",
        "from sklearn.metrics import f1_score\n",
        "import scipy\n",
        "import matplotlib.pyplot as plt\n",
        "import numpy as np\n",
        "import logging\n",
        "import multiprocessing\n",
        "import gensim\n",
        "from gensim.models import Word2Vec\n",
        "from sklearn.decomposition import PCA"
      ],
      "execution_count": 0,
      "outputs": []
    },
    {
      "cell_type": "code",
      "metadata": {
        "id": "z8IzA7Rx-VzU",
        "colab_type": "code",
        "colab": {}
      },
      "source": [
        "from tensorflow.keras.preprocessing.text import Tokenizer\n",
        "from tensorflow.keras.preprocessing.sequence import pad_sequences\n",
        "from tensorflow.keras.layers import Dense, Input, LSTM, Embedding, Dropout, Activation, Conv1D\n",
        "from tensorflow.keras import Sequential\n",
        "from tensorflow.keras.layers import Bidirectional, GlobalMaxPooling1D, GlobalMaxPool1D, MaxPooling1D, Flatten, concatenate\n",
        "from tensorflow.keras.models import Model\n",
        "from tensorflow.keras import initializers, regularizers, constraints, optimizers, layers\n",
        "from keras.callbacks import CSVLogger, ModelCheckpoint, callbacks, EarlyStopping\n",
        "\n",
        "from sklearn.preprocessing import LabelEncoder\n",
        "\n",
        "from keras.utils import np_utils\n",
        "from keras import backend as K"
      ],
      "execution_count": 0,
      "outputs": []
    },
    {
      "cell_type": "code",
      "metadata": {
        "id": "kpmSbtrCklRB",
        "colab_type": "code",
        "outputId": "9731e18f-bf30-4415-b765-6aa88f3e3b21",
        "colab": {
          "base_uri": "https://localhost:8080/",
          "height": 122
        }
      },
      "source": [
        "from google.colab import drive\n",
        "drive.mount('/content/drive')"
      ],
      "execution_count": 0,
      "outputs": [
        {
          "output_type": "stream",
          "text": [
            "Go to this URL in a browser: https://accounts.google.com/o/oauth2/auth?client_id=947318989803-6bn6qk8qdgf4n4g3pfee6491hc0brc4i.apps.googleusercontent.com&redirect_uri=urn%3aietf%3awg%3aoauth%3a2.0%3aoob&response_type=code&scope=email%20https%3a%2f%2fwww.googleapis.com%2fauth%2fdocs.test%20https%3a%2f%2fwww.googleapis.com%2fauth%2fdrive%20https%3a%2f%2fwww.googleapis.com%2fauth%2fdrive.photos.readonly%20https%3a%2f%2fwww.googleapis.com%2fauth%2fpeopleapi.readonly\n",
            "\n",
            "Enter your authorization code:\n",
            "··········\n",
            "Mounted at /content/drive\n"
          ],
          "name": "stdout"
        }
      ]
    },
    {
      "cell_type": "code",
      "metadata": {
        "id": "5A-gBjBgXMUI",
        "colab_type": "code",
        "colab": {}
      },
      "source": [
        "import zipfile\n",
        "with zipfile.ZipFile('./drive/My Drive/hackaton/wili-2018.zip', 'r') as zip_ref:\n",
        "    zip_ref.extractall('./')"
      ],
      "execution_count": 0,
      "outputs": []
    },
    {
      "cell_type": "code",
      "metadata": {
        "id": "TAaScJ0UjapM",
        "colab_type": "code",
        "colab": {}
      },
      "source": [
        ""
      ],
      "execution_count": 0,
      "outputs": []
    },
    {
      "cell_type": "markdown",
      "metadata": {
        "id": "Oc94smEhjbA_",
        "colab_type": "text"
      },
      "source": [
        "# Download data"
      ]
    },
    {
      "cell_type": "code",
      "metadata": {
        "id": "Vt7kVtUgYRi8",
        "colab_type": "code",
        "colab": {}
      },
      "source": [
        "# convert title of language in class\n",
        "with open(\"y_train.txt\") as f:\n",
        "    mylist = f.read().splitlines() \n",
        "languages = list(set(mylist))\n",
        "language_to_class = dict()\n",
        "class_to_language = dict()\n",
        "for i in range(len(languages)):\n",
        "    language_to_class[languages[i]] = i\n",
        "    class_to_language[i] = languages[i]"
      ],
      "execution_count": 0,
      "outputs": []
    },
    {
      "cell_type": "code",
      "metadata": {
        "id": "UDFr3-rKmDdv",
        "colab_type": "code",
        "outputId": "57618c69-24e0-4875-d655-1b6e1db81d13",
        "colab": {
          "base_uri": "https://localhost:8080/",
          "height": 34
        }
      },
      "source": [
        "len(languages)"
      ],
      "execution_count": 0,
      "outputs": [
        {
          "output_type": "execute_result",
          "data": {
            "text/plain": [
              "235"
            ]
          },
          "metadata": {
            "tags": []
          },
          "execution_count": 10
        }
      ]
    },
    {
      "cell_type": "code",
      "metadata": {
        "id": "fusVl8l8fnFS",
        "colab_type": "code",
        "colab": {}
      },
      "source": [
        "with open(\"y_train.txt\") as f:\n",
        "    mylist = f.read().splitlines() \n",
        "y_train = []\n",
        "for lan in mylist:\n",
        "    y_train.append(language_to_class[lan])\n",
        "y_train = pd.Series(y_train)"
      ],
      "execution_count": 0,
      "outputs": []
    },
    {
      "cell_type": "code",
      "metadata": {
        "id": "YBqkjck1Yc7q",
        "colab_type": "code",
        "colab": {}
      },
      "source": [
        "def read_data():\n",
        "    with open(\"x_train.txt\") as f:\n",
        "        mylist = f.read().splitlines() \n",
        "    x_train = pd.DataFrame(mylist, columns=[\"sent\"])\n",
        "    with open(\"x_test.txt\") as f:\n",
        "        mylist = f.read().splitlines() \n",
        "    x_test = pd.DataFrame(mylist, columns=[\"sent\"])\n",
        "    with open(\"y_train.txt\") as f:\n",
        "        mylist = f.read().splitlines() \n",
        "    y_train = []\n",
        "    for lan in mylist:\n",
        "        y_train.append(language_to_class[lan])\n",
        "    y_train = pd.DataFrame(y_train)\n",
        "    with open(\"y_test.txt\") as f:\n",
        "        mylist = f.read().splitlines() \n",
        "    y_test = []\n",
        "    for lan in mylist:\n",
        "        y_test.append(language_to_class[lan])\n",
        "    y_test = pd.DataFrame(y_test)\n",
        "    return (x_train, y_train), (x_test, y_test)"
      ],
      "execution_count": 0,
      "outputs": []
    },
    {
      "cell_type": "code",
      "metadata": {
        "id": "lRo0Wf1lZXsE",
        "colab_type": "code",
        "colab": {}
      },
      "source": [
        "(x_train, y_train), (x_test, y_test) = read_data()"
      ],
      "execution_count": 0,
      "outputs": []
    },
    {
      "cell_type": "code",
      "metadata": {
        "id": "9zcUciRigFYu",
        "colab_type": "code",
        "outputId": "b673ea70-8530-43a4-fbee-5d964adc5a7f",
        "colab": {
          "base_uri": "https://localhost:8080/",
          "height": 265
        }
      },
      "source": [
        "lens = x_train.sent.str.split(' ').str.len().values\n",
        "plt.hist(lens, bins=np.linspace(0,1000,20), facecolor='blue', alpha=0.9)\n",
        "plt.show()"
      ],
      "execution_count": 0,
      "outputs": [
        {
          "output_type": "display_data",
          "data": {
            "image/png": "[encoded data removed]",
            "text/plain": [
              "<Figure size 432x288 with 1 Axes>"
            ]
          },
          "metadata": {
            "tags": [],
            "needs_background": "light"
          }
        }
      ]
    },
    {
      "cell_type": "markdown",
      "metadata": {
        "id": "XNoYz_IwjeY_",
        "colab_type": "text"
      },
      "source": [
        "# Embedding **data**"
      ]
    },
    {
      "cell_type": "code",
      "metadata": {
        "id": "bEr8pklSjQLP",
        "colab_type": "code",
        "colab": {}
      },
      "source": [
        "tokenizer = Tokenizer(filters='!\"#$%&()*+,-./:;<=>?@[\\\\]^_`{|}~\\t\\n', lower=True)\n",
        "tokenizer.fit_on_texts(x_train.sent)"
      ],
      "execution_count": 0,
      "outputs": []
    },
    {
      "cell_type": "markdown",
      "metadata": {
        "id": "a5jxVwDcftcn",
        "colab_type": "text"
      },
      "source": [
        "Выбираю какое количество слов оставить. Если оставлять все, то будет 1500000, что слишком много. Можно поменять `count` и оно покажет сколько слов встречается больше, чем `count` раз"
      ]
    },
    {
      "cell_type": "code",
      "metadata": {
        "id": "4xKQt34TAG2-",
        "colab_type": "code",
        "outputId": "64ac0059-644d-496d-ded7-31ab8638cee2",
        "colab": {
          "base_uri": "https://localhost:8080/",
          "height": 34
        }
      },
      "source": [
        "# try different values of `count`\n",
        "# show how many words are presenting more than `count` times\n",
        "count = 10\n",
        "low_count_words = [w for w,c in tokenizer.word_counts.items() if c > count]\n",
        "len(low_count_words)"
      ],
      "execution_count": 0,
      "outputs": [
        {
          "output_type": "execute_result",
          "data": {
            "text/plain": [
              "65909"
            ]
          },
          "metadata": {
            "tags": []
          },
          "execution_count": 18
        }
      ]
    },
    {
      "cell_type": "code",
      "metadata": {
        "id": "QJacuBHhHEng",
        "colab_type": "code",
        "colab": {}
      },
      "source": [
        "embed_size = 300 # how big is each word vector\n",
        "max_features = 65909 # how many unique words to use (i.e num rows in embedding vector)\n",
        "maxlen = 200 # max number of words in a question to use\n",
        "\n",
        "## Tokenize the sentences\n",
        "tokenizer = Tokenizer(num_words=max_features, filters='!\"#$%&()*+,-./:;<=>?@[\\\\]^_`{|}~\\t\\n', lower=True)\n",
        "\n",
        "def prepare_data():\n",
        "    x_tr, x_val, y_tr, y_val = train_test_split(x_train, y_train, test_size=0.1, random_state=1, stratify=y_train.values)\n",
        "    \n",
        "   \n",
        "    tokenizer.fit_on_texts(x_tr.sent)\n",
        "\n",
        "    train_X = tokenizer.texts_to_sequences(x_tr.sent)\n",
        "    val_X = tokenizer.texts_to_sequences(x_val.sent)\n",
        "\n",
        "    ## Pad the sentences \n",
        "    train_X = pad_sequences(train_X, maxlen=maxlen)\n",
        "    val_X = pad_sequences(val_X, maxlen=maxlen)\n",
        "\n",
        "    return (train_X, y_tr), (val_X, y_val)\n",
        "    "
      ],
      "execution_count": 0,
      "outputs": []
    },
    {
      "cell_type": "code",
      "metadata": {
        "id": "qW1oK9wfHEnm",
        "colab_type": "code",
        "colab": {}
      },
      "source": [
        "(train_X, train_Y), (val_X, val_Y) = prepare_data()"
      ],
      "execution_count": 0,
      "outputs": []
    },
    {
      "cell_type": "markdown",
      "metadata": {
        "id": "HxyyqzKsgF9K",
        "colab_type": "text"
      },
      "source": [
        "Проверила, что в тренировочном и валидационном датасетах встречаются все классы. Балансировка регулируется вот этим параметром: stratify=y_train.values"
      ]
    },
    {
      "cell_type": "code",
      "metadata": {
        "id": "R1iJF7cyU5iK",
        "colab_type": "code",
        "outputId": "608f2a5b-4e04-4e5c-8a5d-f99040125ae8",
        "colab": {
          "base_uri": "https://localhost:8080/",
          "height": 34
        }
      },
      "source": [
        "len(set(val_Y.values.reshape(1, -1)[0]))"
      ],
      "execution_count": 0,
      "outputs": [
        {
          "output_type": "execute_result",
          "data": {
            "text/plain": [
              "235"
            ]
          },
          "metadata": {
            "tags": []
          },
          "execution_count": 21
        }
      ]
    },
    {
      "cell_type": "code",
      "metadata": {
        "id": "aPITYtR8UqNx",
        "colab_type": "code",
        "outputId": "e75bf9df-59b9-403f-e6fc-f0f3d2d2dfe6",
        "colab": {
          "base_uri": "https://localhost:8080/",
          "height": 34
        }
      },
      "source": [
        "len(set(train_Y.values.reshape(1, -1)[0]))"
      ],
      "execution_count": 0,
      "outputs": [
        {
          "output_type": "execute_result",
          "data": {
            "text/plain": [
              "235"
            ]
          },
          "metadata": {
            "tags": []
          },
          "execution_count": 22
        }
      ]
    },
    {
      "cell_type": "markdown",
      "metadata": {
        "id": "TYuurOSQgYUl",
        "colab_type": "text"
      },
      "source": [
        "Ниже меняю представление векторов ответов из [1, 23, 10,...] в вектор длины 235 и с 1 на месте соответсвующего языка"
      ]
    },
    {
      "cell_type": "code",
      "metadata": {
        "id": "b0iIyf4bIXg_",
        "colab_type": "code",
        "outputId": "422cfe1c-69e4-4433-b9a1-26acbe747a33",
        "colab": {
          "base_uri": "https://localhost:8080/",
          "height": 71
        }
      },
      "source": [
        "lb = LabelEncoder()\n",
        "y = lb.fit_transform(train_Y.values)\n",
        "dummy_y_train = np_utils.to_categorical(y)\n"
      ],
      "execution_count": 0,
      "outputs": [
        {
          "output_type": "stream",
          "text": [
            "/usr/local/lib/python3.6/dist-packages/sklearn/preprocessing/_label.py:251: DataConversionWarning: A column-vector y was passed when a 1d array was expected. Please change the shape of y to (n_samples, ), for example using ravel().\n",
            "  y = column_or_1d(y, warn=True)\n"
          ],
          "name": "stderr"
        }
      ]
    },
    {
      "cell_type": "code",
      "metadata": {
        "id": "vCBYAruyIxUm",
        "colab_type": "code",
        "outputId": "c36d95b3-2490-49c9-9c12-eada32429fa8",
        "colab": {
          "base_uri": "https://localhost:8080/",
          "height": 71
        }
      },
      "source": [
        "y = lb.fit_transform(val_Y.values)\n",
        "dummy_y_val = np_utils.to_categorical(y)"
      ],
      "execution_count": 0,
      "outputs": [
        {
          "output_type": "stream",
          "text": [
            "/usr/local/lib/python3.6/dist-packages/sklearn/preprocessing/_label.py:251: DataConversionWarning: A column-vector y was passed when a 1d array was expected. Please change the shape of y to (n_samples, ), for example using ravel().\n",
            "  y = column_or_1d(y, warn=True)\n"
          ],
          "name": "stderr"
        }
      ]
    },
    {
      "cell_type": "code",
      "metadata": {
        "id": "qUe5YDYagh4n",
        "colab_type": "code",
        "outputId": "36066493-b4c5-4a57-8ae8-bf92b77e3878",
        "colab": {
          "base_uri": "https://localhost:8080/",
          "height": 136
        }
      },
      "source": [
        "dummy_y_val"
      ],
      "execution_count": 0,
      "outputs": [
        {
          "output_type": "execute_result",
          "data": {
            "text/plain": [
              "array([[0., 0., 0., ..., 0., 0., 0.],\n",
              "       [0., 0., 0., ..., 0., 0., 0.],\n",
              "       [0., 0., 0., ..., 0., 0., 0.],\n",
              "       ...,\n",
              "       [0., 0., 0., ..., 0., 0., 0.],\n",
              "       [0., 0., 0., ..., 0., 0., 0.],\n",
              "       [0., 0., 0., ..., 0., 0., 0.]], dtype=float32)"
            ]
          },
          "metadata": {
            "tags": []
          },
          "execution_count": 25
        }
      ]
    },
    {
      "cell_type": "markdown",
      "metadata": {
        "id": "MeXXgZJ6miyl",
        "colab_type": "text"
      },
      "source": [
        "# Metrics"
      ]
    },
    {
      "cell_type": "code",
      "metadata": {
        "id": "EeD6rGgImiQn",
        "colab_type": "code",
        "colab": {}
      },
      "source": [
        ""
      ],
      "execution_count": 0,
      "outputs": []
    },
    {
      "cell_type": "code",
      "metadata": {
        "id": "vp4rfHfplm6O",
        "colab_type": "code",
        "colab": {}
      },
      "source": [
        "def f1(y_true, y_pred): #taken from old keras source code\n",
        "    true_positives = K.sum(K.round(K.clip(y_true * y_pred, 0, 1)))\n",
        "    possible_positives = K.sum(K.round(K.clip(y_true, 0, 1)))\n",
        "    predicted_positives = K.sum(K.round(K.clip(y_pred, 0, 1)))\n",
        "    precision = true_positives / (predicted_positives + K.epsilon())\n",
        "    recall = true_positives / (possible_positives + K.epsilon())\n",
        "    f1_val = 2*(precision*recall)/(precision+recall+K.epsilon())\n",
        "    return f1_val"
      ],
      "execution_count": 0,
      "outputs": []
    },
    {
      "cell_type": "code",
      "metadata": {
        "id": "Dzi3zyNsmNIR",
        "colab_type": "code",
        "colab": {}
      },
      "source": [
        "def recall(y_true, y_pred): #taken from old keras source code\n",
        "    true_positives = K.sum(K.round(K.clip(y_true * y_pred, 0, 1)))\n",
        "    possible_positives = K.sum(K.round(K.clip(y_true, 0, 1)))\n",
        "    predicted_positives = K.sum(K.round(K.clip(y_pred, 0, 1)))\n",
        "    return true_positives / (possible_positives + K.epsilon())"
      ],
      "execution_count": 0,
      "outputs": []
    },
    {
      "cell_type": "code",
      "metadata": {
        "id": "JX13CaozmRhy",
        "colab_type": "code",
        "colab": {}
      },
      "source": [
        "def precision(y_true, y_pred): #taken from old keras source code\n",
        "    true_positives = K.sum(K.round(K.clip(y_true * y_pred, 0, 1)))\n",
        "    possible_positives = K.sum(K.round(K.clip(y_true, 0, 1)))\n",
        "    predicted_positives = K.sum(K.round(K.clip(y_pred, 0, 1)))\n",
        "    return true_positives / (predicted_positives + K.epsilon())"
      ],
      "execution_count": 0,
      "outputs": []
    },
    {
      "cell_type": "markdown",
      "metadata": {
        "id": "VtGH8P89gTXf",
        "colab_type": "text"
      },
      "source": [
        "#CNN"
      ]
    },
    {
      "cell_type": "code",
      "metadata": {
        "id": "vdsE9d9SjdsW",
        "colab_type": "code",
        "outputId": "2527cffe-9f65-40cf-f0e1-423c69f71c94",
        "colab": {
          "base_uri": "https://localhost:8080/",
          "height": 493
        }
      },
      "source": [
        "model = Sequential()\n",
        "model.add(Embedding(max_features, embed_size,input_shape=(maxlen,)))\n",
        "model.add(Conv1D(256, 5, activation='relu', input_shape=(embed_size,)))\n",
        "model.add(MaxPooling1D(5))\n",
        "model.add(Dropout(0.2))\n",
        "model.add(Conv1D(256, 5, activation='relu'))\n",
        "model.add(MaxPooling1D(5))\n",
        "model.add(Flatten())\n",
        "model.add(Dense(528, activation=\"relu\"))\n",
        "model.add(Dropout(0.2))\n",
        "model.add(Dense(len(languages), activation='softmax'))\n",
        "model.summary()"
      ],
      "execution_count": 0,
      "outputs": [
        {
          "output_type": "stream",
          "text": [
            "Model: \"sequential_1\"\n",
            "_________________________________________________________________\n",
            "Layer (type)                 Output Shape              Param #   \n",
            "=================================================================\n",
            "embedding_1 (Embedding)      (None, 200, 300)          19772700  \n",
            "_________________________________________________________________\n",
            "conv1d_2 (Conv1D)            (None, 196, 256)          384256    \n",
            "_________________________________________________________________\n",
            "max_pooling1d_2 (MaxPooling1 (None, 39, 256)           0         \n",
            "_________________________________________________________________\n",
            "dropout_2 (Dropout)          (None, 39, 256)           0         \n",
            "_________________________________________________________________\n",
            "conv1d_3 (Conv1D)            (None, 35, 256)           327936    \n",
            "_________________________________________________________________\n",
            "max_pooling1d_3 (MaxPooling1 (None, 7, 256)            0         \n",
            "_________________________________________________________________\n",
            "flatten_1 (Flatten)          (None, 1792)              0         \n",
            "_________________________________________________________________\n",
            "dense_2 (Dense)              (None, 528)               946704    \n",
            "_________________________________________________________________\n",
            "dropout_3 (Dropout)          (None, 528)               0         \n",
            "_________________________________________________________________\n",
            "dense_3 (Dense)              (None, 235)               124315    \n",
            "=================================================================\n",
            "Total params: 21,555,911\n",
            "Trainable params: 21,555,911\n",
            "Non-trainable params: 0\n",
            "_________________________________________________________________\n"
          ],
          "name": "stdout"
        }
      ]
    },
    {
      "cell_type": "code",
      "metadata": {
        "id": "Sndko3XlZ806",
        "colab_type": "code",
        "colab": {}
      },
      "source": [
        "model.compile(loss='categorical_crossentropy', optimizer='adam', metrics=['accuracy', f1, recall, precision])"
      ],
      "execution_count": 0,
      "outputs": []
    },
    {
      "cell_type": "code",
      "metadata": {
        "id": "LIhz76oFHo_c",
        "colab_type": "code",
        "outputId": "99de9e75-ca55-4601-f28f-4a9b0f7f7281",
        "colab": {
          "base_uri": "https://localhost:8080/",
          "height": 224
        }
      },
      "source": [
        "model.fit(train_X, dummy_y_train, batch_size=512, epochs=5, validation_data=(val_X, dummy_y_val))\n"
      ],
      "execution_count": 0,
      "outputs": [
        {
          "output_type": "stream",
          "text": [
            "Epoch 1/5\n",
            "207/207 [==============================] - 70s 340ms/step - loss: 3.1810 - accuracy: 0.3184 - f1: 0.2917 - recall: 0.2304 - precision: 0.5843 - val_loss: 0.6513 - val_accuracy: 0.8500 - val_f1: 0.8629 - val_recall: 0.7848 - val_precision: 0.9585\n",
            "Epoch 2/5\n",
            "207/207 [==============================] - 70s 339ms/step - loss: 0.4784 - accuracy: 0.8811 - f1: 0.8968 - recall: 0.8444 - precision: 0.9563 - val_loss: 0.4373 - val_accuracy: 0.8933 - val_f1: 0.9147 - val_recall: 0.8676 - val_precision: 0.9674\n",
            "Epoch 3/5\n",
            "207/207 [==============================] - 70s 339ms/step - loss: 0.2322 - accuracy: 0.9353 - f1: 0.9487 - recall: 0.9190 - precision: 0.9804 - val_loss: 0.4591 - val_accuracy: 0.8984 - val_f1: 0.9187 - val_recall: 0.8829 - val_precision: 0.9577\n",
            "Epoch 4/5\n",
            "207/207 [==============================] - 70s 338ms/step - loss: 0.1619 - accuracy: 0.9519 - f1: 0.9637 - recall: 0.9416 - precision: 0.9870 - val_loss: 0.5017 - val_accuracy: 0.8954 - val_f1: 0.9158 - val_recall: 0.8841 - val_precision: 0.9500\n",
            "Epoch 5/5\n",
            "207/207 [==============================] - 70s 339ms/step - loss: 0.1366 - accuracy: 0.9580 - f1: 0.9692 - recall: 0.9501 - precision: 0.9891 - val_loss: 0.5740 - val_accuracy: 0.8931 - val_f1: 0.9122 - val_recall: 0.8844 - val_precision: 0.9419\n"
          ],
          "name": "stdout"
        },
        {
          "output_type": "execute_result",
          "data": {
            "text/plain": [
              "<tensorflow.python.keras.callbacks.History at 0x7f30ec7b9630>"
            ]
          },
          "metadata": {
            "tags": []
          },
          "execution_count": 42
        }
      ]
    },
    {
      "cell_type": "code",
      "metadata": {
        "id": "Ge-B6WiDHxyF",
        "colab_type": "code",
        "colab": {}
      },
      "source": [
        "model.save('./drive/My Drive/hackaton/modelCNN.h5')"
      ],
      "execution_count": 0,
      "outputs": []
    },
    {
      "cell_type": "markdown",
      "metadata": {
        "id": "e-T-4MO1ZR_S",
        "colab_type": "text"
      },
      "source": [
        "#RNN"
      ]
    },
    {
      "cell_type": "code",
      "metadata": {
        "id": "7ch0GFZ-ZSzb",
        "colab_type": "code",
        "outputId": "0f1d5fe2-9c3a-439c-a156-281d659977a6",
        "colab": {
          "base_uri": "https://localhost:8080/",
          "height": 459
        }
      },
      "source": [
        "model = Sequential()\n",
        "model.add(Embedding(max_features, embed_size))\n",
        "model.add(Bidirectional(LSTM(256, return_sequences=True, activation='tanh',input_dim=embed_size)))\n",
        "model.add(Dropout(0.2))\n",
        "model.add(Bidirectional(LSTM(256, return_sequences=True, activation='tanh')))\n",
        "model.add(GlobalMaxPool1D())\n",
        "model.add(Dropout(0.2))\n",
        "model.add(Dense(528, activation=\"relu\"))\n",
        "model.add(Dropout(0.2))\n",
        "model.add(Dense(len(languages), activation='softmax'))\n",
        "model.summary()"
      ],
      "execution_count": 0,
      "outputs": [
        {
          "output_type": "stream",
          "text": [
            "Model: \"sequential_4\"\n",
            "_________________________________________________________________\n",
            "Layer (type)                 Output Shape              Param #   \n",
            "=================================================================\n",
            "embedding_4 (Embedding)      (None, None, 300)         19772700  \n",
            "_________________________________________________________________\n",
            "bidirectional_4 (Bidirection (None, None, 512)         1140736   \n",
            "_________________________________________________________________\n",
            "dropout_10 (Dropout)         (None, None, 512)         0         \n",
            "_________________________________________________________________\n",
            "bidirectional_5 (Bidirection (None, None, 512)         1574912   \n",
            "_________________________________________________________________\n",
            "global_max_pooling1d_2 (Glob (None, 512)               0         \n",
            "_________________________________________________________________\n",
            "dropout_11 (Dropout)         (None, 512)               0         \n",
            "_________________________________________________________________\n",
            "dense_8 (Dense)              (None, 528)               270864    \n",
            "_________________________________________________________________\n",
            "dropout_12 (Dropout)         (None, 528)               0         \n",
            "_________________________________________________________________\n",
            "dense_9 (Dense)              (None, 235)               124315    \n",
            "=================================================================\n",
            "Total params: 22,883,527\n",
            "Trainable params: 22,883,527\n",
            "Non-trainable params: 0\n",
            "_________________________________________________________________\n"
          ],
          "name": "stdout"
        }
      ]
    },
    {
      "cell_type": "code",
      "metadata": {
        "id": "C1W3XFHXZiVR",
        "colab_type": "code",
        "colab": {}
      },
      "source": [
        "model.compile(loss='categorical_crossentropy', optimizer='adam', metrics=['accuracy', f1, recall, precision])"
      ],
      "execution_count": 0,
      "outputs": []
    },
    {
      "cell_type": "code",
      "metadata": {
        "id": "2qK-tgijZk7L",
        "colab_type": "code",
        "outputId": "c9d916f0-8a73-4c80-f72b-2832218d0aeb",
        "colab": {
          "base_uri": "https://localhost:8080/",
          "height": 156
        }
      },
      "source": [
        "model.fit(train_X, dummy_y_train, batch_size=512, epochs=3, validation_data=(val_X, dummy_y_val))\n"
      ],
      "execution_count": 0,
      "outputs": [
        {
          "output_type": "stream",
          "text": [
            "Epoch 1/3\n",
            "207/207 [==============================] - 209s 1s/step - loss: 2.5305 - accuracy: 0.4408 - f1: 0.3982 - recall: 0.3326 - precision: 0.6282 - val_loss: 0.5711 - val_accuracy: 0.8566 - val_f1: 0.8736 - val_recall: 0.8085 - val_precision: 0.9504\n",
            "Epoch 2/3\n",
            "207/207 [==============================] - 208s 1s/step - loss: 0.4210 - accuracy: 0.8911 - f1: 0.9065 - recall: 0.8628 - precision: 0.9551 - val_loss: 0.4173 - val_accuracy: 0.8928 - val_f1: 0.9128 - val_recall: 0.8691 - val_precision: 0.9613\n",
            "Epoch 3/3\n",
            "207/207 [==============================] - 208s 1s/step - loss: 0.2346 - accuracy: 0.9350 - f1: 0.9478 - recall: 0.9206 - precision: 0.9767 - val_loss: 0.4358 - val_accuracy: 0.8929 - val_f1: 0.9122 - val_recall: 0.8764 - val_precision: 0.9511\n"
          ],
          "name": "stdout"
        },
        {
          "output_type": "execute_result",
          "data": {
            "text/plain": [
              "<tensorflow.python.keras.callbacks.History at 0x7f30e24c7358>"
            ]
          },
          "metadata": {
            "tags": []
          },
          "execution_count": 50
        }
      ]
    },
    {
      "cell_type": "code",
      "metadata": {
        "id": "Eckb5XmBZnHC",
        "colab_type": "code",
        "colab": {}
      },
      "source": [
        "model.save('./drive/My Drive/hackaton/modelRNN.h5')"
      ],
      "execution_count": 0,
      "outputs": []
    },
    {
      "cell_type": "markdown",
      "metadata": {
        "id": "dCeuUze_qnC2",
        "colab_type": "text"
      },
      "source": [
        "# Results"
      ]
    },
    {
      "cell_type": "code",
      "metadata": {
        "id": "3jS0Tq-Cqb4t",
        "colab_type": "code",
        "colab": {}
      },
      "source": [
        "x_test['sc'] = y_test"
      ],
      "execution_count": 0,
      "outputs": []
    },
    {
      "cell_type": "code",
      "metadata": {
        "id": "wowtwiinqwm0",
        "colab_type": "code",
        "colab": {}
      },
      "source": [
        "# Be careful! Tokenizer and maxlen is taken from train dataset from 1st part\n",
        "def convert(x):\n",
        "    train_X = tokenizer.texts_to_sequences(x.sent)\n",
        "    ## Pad the sentences \n",
        "    train_X = pad_sequences(train_X, maxlen=maxlen)\n",
        "    return train_X\n",
        "    "
      ],
      "execution_count": 0,
      "outputs": []
    },
    {
      "cell_type": "code",
      "metadata": {
        "id": "WvOMHL7Nx_eO",
        "colab_type": "code",
        "colab": {}
      },
      "source": [
        "def metr(y_true, y_pred): #taken from old keras source code\n",
        "    true_positives = K.sum(K.round(K.clip(y_true * y_pred, 0, 1)))\n",
        "    possible_positives = K.sum(K.round(K.clip(y_true, 0, 1)))\n",
        "    predicted_positives = K.sum(K.round(K.clip(y_pred, 0, 1)))\n",
        "    precision = true_positives / (predicted_positives + K.epsilon())\n",
        "    recall = true_positives / (possible_positives + K.epsilon())\n",
        "    f1_val = 2*(precision*recall)/(precision+recall+K.epsilon())\n",
        "    return precision, recall, f1_val"
      ],
      "execution_count": 0,
      "outputs": []
    },
    {
      "cell_type": "markdown",
      "metadata": {
        "id": "-OwT-3obvsIo",
        "colab_type": "text"
      },
      "source": [
        "# Test"
      ]
    },
    {
      "cell_type": "code",
      "metadata": {
        "id": "AULr8SibuBbR",
        "colab_type": "code",
        "outputId": "41167617-3129-4690-bcb1-daedb16f786b",
        "colab": {
          "base_uri": "https://localhost:8080/",
          "height": 1000
        }
      },
      "source": [
        "for lan in range(len(languages)):\n",
        "    x_t = x_test[x_test['sc'] == lan]\n",
        "    x = convert(x_t)\n",
        "    y = np.zeros((x.shape[0], len(languages)))\n",
        "    y[:, lan] = 1\n",
        "    y = y.astype('float32')\n",
        "    y_pred = model.predict(x)\n",
        "    p, r, f = metr(y, y_pred)\n",
        "    print(\"language: \", class_to_language[lan], \"precision: \", p.numpy(), \"recall: \", r.numpy(), \"f1: \", f.numpy())"
      ],
      "execution_count": 0,
      "outputs": [
        {
          "output_type": "stream",
          "text": [
            "language:  cbk precision:  0.66445917 recall:  0.602 f1:  0.6316893\n",
            "language:  fry precision:  0.98333335 recall:  0.944 f1:  0.9632653\n",
            "language:  pdc precision:  0.77111113 recall:  0.694 f1:  0.73052627\n",
            "language:  tur precision:  0.95922744 recall:  0.894 f1:  0.92546576\n",
            "language:  bel precision:  0.45168066 recall:  0.43 f1:  0.44057372\n",
            "language:  hye precision:  0.9917864 recall:  0.966 f1:  0.97872335\n",
            "language:  bos precision:  0.41614908 recall:  0.268 f1:  0.326034\n",
            "language:  jav precision:  0.94813275 recall:  0.914 f1:  0.9307534\n",
            "language:  que precision:  0.94363254 recall:  0.904 f1:  0.9233911\n",
            "language:  tgk precision:  0.97727275 recall:  0.946 f1:  0.96138203\n",
            "language:  lin precision:  0.95789474 recall:  0.91 f1:  0.9333333\n",
            "language:  pam precision:  0.9454927 recall:  0.902 f1:  0.92323434\n",
            "language:  afr precision:  0.9919192 recall:  0.982 f1:  0.98693466\n",
            "language:  srn precision:  0.9793388 recall:  0.948 f1:  0.96341455\n",
            "language:  bpy precision:  0.99389005 recall:  0.976 f1:  0.9848637\n",
            "language:  aym precision:  0.9559748 recall:  0.912 f1:  0.9334698\n",
            "language:  oci precision:  0.86984813 recall:  0.802 f1:  0.8345473\n",
            "language:  xho precision:  0.9818182 recall:  0.864 f1:  0.91914886\n",
            "language:  wol precision:  0.9511677 recall:  0.896 f1:  0.92276\n",
            "language:  lmo precision:  0.8849372 recall:  0.846 f1:  0.86503065\n",
            "language:  stq precision:  0.9856557 recall:  0.962 f1:  0.9736842\n",
            "language:  hau precision:  0.97713095 recall:  0.94 f1:  0.9582059\n",
            "language:  som precision:  0.95218295 recall:  0.916 f1:  0.93374103\n",
            "language:  yid precision:  0.98189133 recall:  0.976 f1:  0.9789368\n",
            "language:  fas precision:  0.9338843 recall:  0.904 f1:  0.91869915\n",
            "language:  hun precision:  0.99175256 recall:  0.962 f1:  0.9766497\n",
            "language:  myv precision:  0.9443255 recall:  0.882 f1:  0.91209924\n",
            "language:  nci precision:  0.9129512 recall:  0.86 f1:  0.88568485\n",
            "language:  egl precision:  0.97119343 recall:  0.944 f1:  0.9574036\n",
            "language:  ext precision:  0.95348835 recall:  0.902 f1:  0.9270298\n",
            "language:  glv precision:  0.99387753 recall:  0.974 f1:  0.9838383\n",
            "language:  por precision:  0.92105263 recall:  0.84 f1:  0.87866104\n",
            "language:  lzh precision:  0.0 recall:  0.0 f1:  0.0\n",
            "language:  nrm precision:  0.9583333 recall:  0.92 f1:  0.9387754\n",
            "language:  asm precision:  0.98550725 recall:  0.952 f1:  0.96846384\n",
            "language:  frp precision:  0.9053763 recall:  0.842 f1:  0.87253875\n",
            "language:  gle precision:  0.9857434 recall:  0.968 f1:  0.976791\n",
            "language:  vls precision:  0.9622642 recall:  0.918 f1:  0.93961096\n",
            "language:  pnb precision:  0.9879518 recall:  0.984 f1:  0.98597187\n",
            "language:  eus precision:  0.977459 recall:  0.954 f1:  0.965587\n",
            "language:  csb precision:  0.9632653 recall:  0.944 f1:  0.95353526\n",
            "language:  swe precision:  0.9614605 recall:  0.948 f1:  0.9546827\n",
            "language:  lim precision:  0.95482546 recall:  0.93 f1:  0.9422492\n",
            "language:  ksh precision:  0.9564315 recall:  0.922 f1:  0.9389001\n",
            "language:  mar precision:  0.9895178 recall:  0.944 f1:  0.96622306\n",
            "language:  mal precision:  0.98917747 recall:  0.914 f1:  0.9501038\n",
            "language:  bjn precision:  0.8907923 recall:  0.832 f1:  0.8603929\n",
            "language:  ltz precision:  0.9376344 recall:  0.872 f1:  0.90362686\n",
            "language:  kab precision:  0.9537815 recall:  0.908 f1:  0.9303278\n",
            "language:  glk precision:  0.95416665 recall:  0.916 f1:  0.9346938\n",
            "language:  mzn precision:  0.96370965 recall:  0.956 f1:  0.9598392\n",
            "language:  udm precision:  0.97525775 recall:  0.946 f1:  0.96040606\n",
            "language:  yor precision:  0.9380734 recall:  0.818 f1:  0.8739315\n",
            "language:  bod precision:  0.95862067 recall:  0.278 f1:  0.4310077\n",
            "language:  jam precision:  0.9898374 recall:  0.974 f1:  0.9818548\n",
            "language:  kor precision:  0.9958763 recall:  0.966 f1:  0.98071057\n",
            "language:  ace precision:  0.9959267 recall:  0.978 f1:  0.98688185\n",
            "language:  est precision:  0.9745763 recall:  0.92 f1:  0.94650203\n",
            "language:  hak precision:  0.9936709 recall:  0.942 f1:  0.96714574\n",
            "language:  szl precision:  0.97946614 recall:  0.954 f1:  0.96656525\n",
            "language:  fur precision:  0.9085239 recall:  0.874 f1:  0.8909276\n",
            "language:  ang precision:  0.9782135 recall:  0.898 f1:  0.936392\n",
            "language:  zea precision:  0.8907923 recall:  0.832 f1:  0.8603929\n",
            "language:  grn precision:  0.973029 recall:  0.938 f1:  0.9551934\n",
            "language:  xmf precision:  0.9853862 recall:  0.944 f1:  0.9642492\n",
            "language:  war precision:  0.997996 recall:  0.996 f1:  0.99699694\n",
            "language:  lav precision:  0.9874214 recall:  0.942 f1:  0.96417594\n",
            "language:  glg precision:  0.89542484 recall:  0.822 f1:  0.8571428\n",
            "language:  urd precision:  0.99593496 recall:  0.98 f1:  0.9879032\n",
            "language:  lug precision:  0.9853862 recall:  0.944 f1:  0.9642492\n",
            "language:  ceb precision:  1.0 recall:  1.0 f1:  1.0\n",
            "language:  new precision:  0.9918033 recall:  0.968 f1:  0.979757\n",
            "language:  snd precision:  0.9939638 recall:  0.988 f1:  0.9909728\n",
            "language:  amh precision:  0.9857434 recall:  0.968 f1:  0.976791\n",
            "language:  swa precision:  0.9809725 recall:  0.928 f1:  0.9537512\n",
            "language:  vec precision:  0.92291665 recall:  0.886 f1:  0.9040816\n",
            "language:  mkd precision:  0.9836066 recall:  0.96 f1:  0.9716598\n",
            "language:  chr precision:  0.99796337 recall:  0.98 f1:  0.9889\n",
            "language:  eng precision:  0.95669293 recall:  0.486 f1:  0.64456224\n",
            "language:  tuk precision:  0.96673596 recall:  0.93 f1:  0.9480122\n",
            "language:  ava precision:  0.81389576 recall:  0.656 f1:  0.72646725\n",
            "language:  cat precision:  0.93709326 recall:  0.864 f1:  0.89906335\n",
            "language:  khm precision:  0.95547944 recall:  0.558 f1:  0.7045454\n",
            "language:  nld precision:  0.93037975 recall:  0.882 f1:  0.9055441\n",
            "language:  sah precision:  0.973029 recall:  0.938 f1:  0.9551934\n",
            "language:  fin precision:  0.9371069 recall:  0.894 f1:  0.915046\n",
            "language:  sin precision:  0.982906 recall:  0.92 f1:  0.95041317\n",
            "language:  mrj precision:  0.97741276 recall:  0.952 f1:  0.964539\n",
            "language:  ukr precision:  0.9253112 recall:  0.892 f1:  0.9083502\n",
            "language:  hat precision:  0.9798387 recall:  0.972 f1:  0.9759036\n",
            "language:  ltg precision:  0.9450317 recall:  0.894 f1:  0.91880774\n",
            "language:  sgs precision:  0.9855967 recall:  0.958 f1:  0.9716024\n",
            "language:  ara precision:  0.9385246 recall:  0.916 f1:  0.92712545\n",
            "language:  kan precision:  0.9853557 recall:  0.942 f1:  0.96319014\n",
            "language:  tyv precision:  0.9856263 recall:  0.96 f1:  0.9726443\n",
            "language:  sun precision:  0.9706499 recall:  0.926 f1:  0.9477994\n",
            "language:  ben precision:  0.9804348 recall:  0.902 f1:  0.93958324\n",
            "language:  sme precision:  0.9872068 recall:  0.926 f1:  0.9556243\n",
            "language:  isl precision:  0.9817444 recall:  0.968 f1:  0.97482365\n",
            "language:  bcl precision:  0.9857724 recall:  0.97 f1:  0.97782254\n",
            "language:  nob precision:  0.8979592 recall:  0.88 f1:  0.88888884\n",
            "language:  msa precision:  0.80625 recall:  0.774 f1:  0.78979576\n",
            "language:  kaz precision:  0.9853249 recall:  0.94 f1:  0.9621289\n",
            "language:  mon precision:  0.9714286 recall:  0.952 f1:  0.96161616\n",
            "language:  lat precision:  0.9431818 recall:  0.83 f1:  0.8829787\n",
            "language:  tcy precision:  0.9498956 recall:  0.91 f1:  0.92951983\n",
            "language:  bre precision:  0.96728015 recall:  0.946 f1:  0.95652163\n",
            "language:  arz precision:  0.9354839 recall:  0.928 f1:  0.9317268\n",
            "language:  che precision:  0.9838384 recall:  0.974 f1:  0.9788944\n",
            "language:  hif precision:  0.98454744 recall:  0.892 f1:  0.9359915\n",
            "language:  spa precision:  0.93569845 recall:  0.844 f1:  0.8874868\n",
            "language:  sna precision:  0.9751693 recall:  0.864 f1:  0.9162248\n",
            "language:  nno precision:  0.76386034 recall:  0.744 f1:  0.7537993\n",
            "language:  uig precision:  0.9794239 recall:  0.952 f1:  0.9655172\n",
            "language:  mya precision:  0.984252 recall:  0.75 f1:  0.8513053\n",
            "language:  lad precision:  0.9433962 recall:  0.9 f1:  0.9211872\n",
            "language:  deu precision:  0.8329412 recall:  0.708 f1:  0.7654053\n",
            "language:  nso precision:  0.977459 recall:  0.954 f1:  0.965587\n",
            "language:  hsb precision:  0.9254658 recall:  0.894 f1:  0.9094607\n",
            "language:  lao precision:  0.9285714 recall:  0.65 f1:  0.76470584\n",
            "language:  ell precision:  0.99796337 recall:  0.98 f1:  0.9889\n",
            "language:  kur precision:  0.9593496 recall:  0.944 f1:  0.95161283\n",
            "language:  cor precision:  0.9817444 recall:  0.968 f1:  0.97482365\n",
            "language:  ron precision:  0.97308487 recall:  0.94 f1:  0.95625633\n",
            "language:  cos precision:  0.9403292 recall:  0.914 f1:  0.9269776\n",
            "language:  bho precision:  0.9771784 recall:  0.942 f1:  0.9592667\n",
            "language:  nds-nl precision:  0.8989247 recall:  0.836 f1:  0.86632115\n",
            "language:  ces precision:  0.9787686 recall:  0.922 f1:  0.94953656\n",
            "language:  nav precision:  0.997996 recall:  0.996 f1:  0.99699694\n",
            "language:  san precision:  0.97920996 recall:  0.942 f1:  0.96024454\n",
            "language:  cym precision:  0.98155737 recall:  0.958 f1:  0.96963555\n",
            "language:  olo precision:  0.9704641 recall:  0.92 f1:  0.94455844\n",
            "language:  jpn precision:  0.0 recall:  0.0 f1:  0.0\n",
            "language:  diq precision:  0.9601677 recall:  0.916 f1:  0.9375639\n",
            "language:  heb precision:  0.9817444 recall:  0.968 f1:  0.97482365\n",
            "language:  div precision:  0.997955 recall:  0.976 f1:  0.9868553\n",
            "language:  pfl precision:  0.9649485 recall:  0.936 f1:  0.9502537\n",
            "language:  jbo precision:  0.9959514 recall:  0.984 f1:  0.98993963\n",
            "language:  gla precision:  0.96311474 recall:  0.94 f1:  0.9514169\n",
            "language:  min precision:  0.998 recall:  0.998 f1:  0.99799997\n",
            "language:  bak precision:  0.954918 recall:  0.932 f1:  0.94331974\n",
            "language:  bar precision:  0.92105263 recall:  0.84 f1:  0.87866104\n",
            "language:  slv precision:  0.9628821 recall:  0.882 f1:  0.92066807\n",
            "language:  mai precision:  0.9689441 recall:  0.936 f1:  0.9521871\n",
            "language:  vol precision:  0.99375 recall:  0.954 f1:  0.97346926\n",
            "language:  tha precision:  0.96166134 recall:  0.602 f1:  0.74046737\n",
            "language:  ido precision:  0.96066254 recall:  0.928 f1:  0.9440487\n",
            "language:  crh precision:  0.87288135 recall:  0.824 f1:  0.8477366\n",
            "language:  vie precision:  0.9857724 recall:  0.97 f1:  0.97782254\n",
            "language:  sco precision:  0.94618833 recall:  0.844 f1:  0.89217746\n",
            "language:  rue precision:  0.8744681 recall:  0.822 f1:  0.8474226\n",
            "language:  hbs precision:  0.5432432 recall:  0.402 f1:  0.46206892\n",
            "language:  dsb precision:  0.9685535 recall:  0.924 f1:  0.9457522\n",
            "language:  mhr precision:  0.94572026 recall:  0.906 f1:  0.925434\n",
            "language:  pag precision:  0.9337607 recall:  0.874 f1:  0.90289253\n",
            "language:  fao precision:  0.97373736 recall:  0.964 f1:  0.9688441\n",
            "language:  vep precision:  0.9550321 recall:  0.892 f1:  0.9224405\n",
            "language:  lij precision:  0.95842 recall:  0.922 f1:  0.93985724\n",
            "language:  pol precision:  0.96413505 recall:  0.914 f1:  0.9383983\n",
            "language:  pan precision:  0.99796337 recall:  0.98 f1:  0.9889\n",
            "language:  fra precision:  0.8826291 recall:  0.752 f1:  0.812095\n",
            "language:  roa-tara precision:  0.96465695 recall:  0.928 f1:  0.9459734\n",
            "language:  sqi precision:  0.9650924 recall:  0.94 f1:  0.95238084\n",
            "language:  gag precision:  0.9266247 recall:  0.884 f1:  0.9048106\n",
            "language:  zh-yue precision:  0.0 recall:  0.0 f1:  0.0\n",
            "language:  tam precision:  0.989339 recall:  0.928 f1:  0.9576883\n",
            "language:  ibo precision:  0.96909493 recall:  0.878 f1:  0.92130107\n",
            "language:  tet precision:  0.93907565 recall:  0.894 f1:  0.91598356\n",
            "language:  pus precision:  0.97741276 recall:  0.952 f1:  0.964539\n",
            "language:  lez precision:  0.93603414 recall:  0.878 f1:  0.9060887\n",
            "language:  srd precision:  0.9700214 recall:  0.906 f1:  0.9369183\n",
            "language:  hrv precision:  0.82425743 recall:  0.666 f1:  0.73672557\n",
            "language:  tat precision:  0.9855372 recall:  0.954 f1:  0.96951216\n",
            "language:  zho precision:  0.0 recall:  0.0 f1:  0.0\n",
            "language:  oss precision:  0.973029 recall:  0.938 f1:  0.9551934\n",
            "language:  wuu precision:  0.0 recall:  0.0 f1:  0.0\n",
            "language:  rup precision:  0.8801743 recall:  0.808 f1:  0.8425443\n",
            "language:  lit precision:  0.9660297 recall:  0.91 f1:  0.9371781\n",
            "language:  ile precision:  0.9694501 recall:  0.952 f1:  0.9606458\n",
            "language:  nap precision:  0.9609856 recall:  0.936 f1:  0.9483282\n",
            "language:  mdf precision:  0.91386557 recall:  0.87 f1:  0.89139336\n",
            "language:  ton precision:  0.997992 recall:  0.994 f1:  0.99599195\n",
            "language:  tgl precision:  0.9939148 recall:  0.98 f1:  0.98690826\n",
            "language:  lrc precision:  0.92433536 recall:  0.904 f1:  0.9140545\n",
            "language:  wln precision:  0.95482546 recall:  0.93 f1:  0.9422492\n",
            "language:  mlg precision:  0.995992 recall:  0.994 f1:  0.99499494\n",
            "language:  kbd precision:  0.98767966 recall:  0.962 f1:  0.9746707\n",
            "language:  vro precision:  0.91078836 recall:  0.878 f1:  0.89409363\n",
            "language:  kok precision:  0.9684685 recall:  0.86 f1:  0.9110169\n",
            "language:  pap precision:  0.95208335 recall:  0.914 f1:  0.93265295\n",
            "language:  rus precision:  0.9187359 recall:  0.814 f1:  0.8632026\n",
            "language:  tsn precision:  0.9876033 recall:  0.956 f1:  0.9715446\n",
            "language:  ita precision:  0.90829694 recall:  0.832 f1:  0.868476\n",
            "language:  pcd precision:  0.88010204 recall:  0.69 f1:  0.7735426\n",
            "language:  map-bms precision:  0.80785125 recall:  0.782 f1:  0.7947154\n",
            "language:  koi precision:  0.9199134 recall:  0.85 f1:  0.8835758\n",
            "language:  mlt precision:  0.9919192 recall:  0.982 f1:  0.98693466\n",
            "language:  kaa precision:  0.9773196 recall:  0.948 f1:  0.9624365\n",
            "language:  nan precision:  0.998 recall:  0.998 f1:  0.99799997\n",
            "language:  dty precision:  0.8792757 recall:  0.874 f1:  0.8766299\n",
            "language:  aze precision:  0.9812108 recall:  0.94 f1:  0.9601634\n",
            "language:  scn precision:  0.94929004 recall:  0.936 f1:  0.9425981\n",
            "language:  kat precision:  0.9814815 recall:  0.954 f1:  0.96754557\n",
            "language:  bxr precision:  0.9698925 recall:  0.902 f1:  0.93471503\n",
            "language:  ind precision:  0.95991564 recall:  0.91 f1:  0.9342915\n",
            "language:  ina precision:  0.9375 recall:  0.9 f1:  0.9183673\n",
            "language:  mwl precision:  0.9834025 recall:  0.948 f1:  0.9653768\n",
            "language:  mri precision:  0.99196786 recall:  0.988 f1:  0.98997986\n",
            "language:  epo precision:  0.97083336 recall:  0.932 f1:  0.95102036\n",
            "language:  kom precision:  0.86147183 recall:  0.796 f1:  0.82744277\n",
            "language:  kir precision:  0.9753593 recall:  0.95 f1:  0.9625126\n",
            "language:  dan precision:  0.96311474 recall:  0.94 f1:  0.9514169\n",
            "language:  tel precision:  0.9978448 recall:  0.926 f1:  0.9605809\n",
            "language:  orm precision:  0.98964804 recall:  0.956 f1:  0.97253305\n",
            "language:  chv precision:  0.97689074 recall:  0.93 f1:  0.9528688\n",
            "language:  ori precision:  0.9937107 recall:  0.948 f1:  0.97031724\n",
            "language:  ckb precision:  0.9839357 recall:  0.98 f1:  0.9819639\n",
            "language:  nep precision:  0.74743325 recall:  0.728 f1:  0.7375886\n",
            "language:  azb precision:  0.97755104 recall:  0.958 f1:  0.96767676\n",
            "language:  slk precision:  0.95218295 recall:  0.916 f1:  0.93374103\n",
            "language:  kin precision:  0.92324096 recall:  0.866 f1:  0.89370483\n",
            "language:  bul precision:  0.9682875 recall:  0.916 f1:  0.94141823\n",
            "language:  krc precision:  0.97755104 recall:  0.958 f1:  0.96767676\n",
            "language:  arg precision:  0.9299363 recall:  0.876 f1:  0.9021626\n",
            "language:  ilo precision:  0.9937759 recall:  0.958 f1:  0.97556\n",
            "language:  guj precision:  0.9937369 recall:  0.952 f1:  0.9724208\n",
            "language:  ast precision:  0.93603414 recall:  0.878 f1:  0.9060887\n",
            "language:  roh precision:  0.95842 recall:  0.922 f1:  0.93985724\n",
            "language:  hin precision:  0.9855372 recall:  0.954 f1:  0.96951216\n",
            "language:  cdo precision:  0.99788135 recall:  0.942 f1:  0.96913576\n",
            "language:  srp precision:  0.94372296 recall:  0.872 f1:  0.90644485\n",
            "language:  nds precision:  0.9498956 recall:  0.91 f1:  0.92951983\n",
            "language:  als precision:  0.8941685 recall:  0.828 f1:  0.8598131\n",
            "language:  be-tarask precision:  0.91231734 recall:  0.874 f1:  0.89274764\n",
            "language:  uzb precision:  0.960334 recall:  0.92 f1:  0.9397344\n"
          ],
          "name": "stdout"
        }
      ]
    },
    {
      "cell_type": "markdown",
      "metadata": {
        "id": "AzRaMdfGz-Mc",
        "colab_type": "text"
      },
      "source": [
        "# Problems for jpn, lzh, zho, wuu (все метрики = 0)"
      ]
    },
    {
      "cell_type": "code",
      "metadata": {
        "id": "mDSVuvvD0bz0",
        "colab_type": "code",
        "colab": {}
      },
      "source": [
        "x_train['sc'] = y_train"
      ],
      "execution_count": 0,
      "outputs": []
    },
    {
      "cell_type": "markdown",
      "metadata": {
        "id": "4vvcGGNY0g2q",
        "colab_type": "text"
      },
      "source": [
        "### jpg"
      ]
    },
    {
      "cell_type": "code",
      "metadata": {
        "id": "uBA6frpf0E_H",
        "colab_type": "code",
        "outputId": "e5e564df-d484-4fc8-fc5f-8cd58bcd77f5",
        "colab": {
          "base_uri": "https://localhost:8080/",
          "height": 34
        }
      },
      "source": [
        "language_to_class['jpn']"
      ],
      "execution_count": 0,
      "outputs": [
        {
          "output_type": "execute_result",
          "data": {
            "text/plain": [
              "132"
            ]
          },
          "metadata": {
            "tags": []
          },
          "execution_count": 153
        }
      ]
    },
    {
      "cell_type": "code",
      "metadata": {
        "id": "T7T4-zSe0VbD",
        "colab_type": "code",
        "outputId": "02e02d73-824e-4f9a-ddfe-96ee376aa3a6",
        "colab": {
          "base_uri": "https://localhost:8080/",
          "height": 419
        }
      },
      "source": [
        "x_train[x_train['sc'] == 132]"
      ],
      "execution_count": 0,
      "outputs": [
        {
          "output_type": "execute_result",
          "data": {
            "text/html": [
              "<div>\n",
              "<style scoped>\n",
              "    .dataframe tbody tr th:only-of-type {\n",
              "        vertical-align: middle;\n",
              "    }\n",
              "\n",
              "    .dataframe tbody tr th {\n",
              "        vertical-align: top;\n",
              "    }\n",
              "\n",
              "    .dataframe thead th {\n",
              "        text-align: right;\n",
              "    }\n",
              "</style>\n",
              "<table border=\"1\" class=\"dataframe\">\n",
              "  <thead>\n",
              "    <tr style=\"text-align: right;\">\n",
              "      <th></th>\n",
              "      <th>sent</th>\n",
              "      <th>sc</th>\n",
              "    </tr>\n",
              "  </thead>\n",
              "  <tbody>\n",
              "    <tr>\n",
              "      <th>29</th>\n",
              "      <td>エノが行きがかりでバスに乗ってしまい、気分が悪くなった際に助けるが、今すぐバスを降りたいと運...</td>\n",
              "      <td>132</td>\n",
              "    </tr>\n",
              "    <tr>\n",
              "      <th>46</th>\n",
              "      <td>シャーリー・フィールドは、サン・ベルナルド・アベニュー沿い市民センターとR&amp;Tマーティン高校...</td>\n",
              "      <td>132</td>\n",
              "    </tr>\n",
              "    <tr>\n",
              "      <th>225</th>\n",
              "      <td>藤女の女性教師。48歳。数学担当。風紀指導を担当しており、リコにとっては天敵。藤女とその伝統...</td>\n",
              "      <td>132</td>\n",
              "    </tr>\n",
              "    <tr>\n",
              "      <th>339</th>\n",
              "      <td>教会旋法はまず終止音（finalis）によって4つに分類される。そしてそれぞれが音域（amb...</td>\n",
              "      <td>132</td>\n",
              "    </tr>\n",
              "    <tr>\n",
              "      <th>741</th>\n",
              "      <td>「MGR」という愛称で知られるM・G・ラーマチャンディランが、アンナードゥライの死後、ドラー...</td>\n",
              "      <td>132</td>\n",
              "    </tr>\n",
              "    <tr>\n",
              "      <th>...</th>\n",
              "      <td>...</td>\n",
              "      <td>...</td>\n",
              "    </tr>\n",
              "    <tr>\n",
              "      <th>116639</th>\n",
              "      <td>劉義隆が中郎将・荊州刺史となると、張邵はその下で司馬となり、南郡相を兼ねて、荊州の事務を決裁...</td>\n",
              "      <td>132</td>\n",
              "    </tr>\n",
              "    <tr>\n",
              "      <th>116901</th>\n",
              "      <td>紀元前334年にマケドニア王アレクサンドロス3世が小アジアに侵攻してきた時、アルサメスは他の...</td>\n",
              "      <td>132</td>\n",
              "    </tr>\n",
              "    <tr>\n",
              "      <th>117097</th>\n",
              "      <td>世間で「お嬢様学校」と呼ばれる名門校「私立藤崎女子中学」（略称：藤女）の生徒会執行部は、会長...</td>\n",
              "      <td>132</td>\n",
              "    </tr>\n",
              "    <tr>\n",
              "      <th>117135</th>\n",
              "      <td>実質的にはBRAVIA Phone U1とS002の後継にあたる2軸折りたたみ式の機種で今回...</td>\n",
              "      <td>132</td>\n",
              "    </tr>\n",
              "    <tr>\n",
              "      <th>117148</th>\n",
              "      <td>京都市バス等持院道バス停徒歩すぐところに位置する。地上4階建。寮室190室、アクセシブルルー...</td>\n",
              "      <td>132</td>\n",
              "    </tr>\n",
              "  </tbody>\n",
              "</table>\n",
              "<p>500 rows × 2 columns</p>\n",
              "</div>"
            ],
            "text/plain": [
              "                                                     sent   sc\n",
              "29      エノが行きがかりでバスに乗ってしまい、気分が悪くなった際に助けるが、今すぐバスを降りたいと運...  132\n",
              "46      シャーリー・フィールドは、サン・ベルナルド・アベニュー沿い市民センターとR&Tマーティン高校...  132\n",
              "225     藤女の女性教師。48歳。数学担当。風紀指導を担当しており、リコにとっては天敵。藤女とその伝統...  132\n",
              "339     教会旋法はまず終止音（finalis）によって4つに分類される。そしてそれぞれが音域（amb...  132\n",
              "741     「MGR」という愛称で知られるM・G・ラーマチャンディランが、アンナードゥライの死後、ドラー...  132\n",
              "...                                                   ...  ...\n",
              "116639  劉義隆が中郎将・荊州刺史となると、張邵はその下で司馬となり、南郡相を兼ねて、荊州の事務を決裁...  132\n",
              "116901  紀元前334年にマケドニア王アレクサンドロス3世が小アジアに侵攻してきた時、アルサメスは他の...  132\n",
              "117097  世間で「お嬢様学校」と呼ばれる名門校「私立藤崎女子中学」（略称：藤女）の生徒会執行部は、会長...  132\n",
              "117135  実質的にはBRAVIA Phone U1とS002の後継にあたる2軸折りたたみ式の機種で今回...  132\n",
              "117148  京都市バス等持院道バス停徒歩すぐところに位置する。地上4階建。寮室190室、アクセシブルルー...  132\n",
              "\n",
              "[500 rows x 2 columns]"
            ]
          },
          "metadata": {
            "tags": []
          },
          "execution_count": 156
        }
      ]
    },
    {
      "cell_type": "markdown",
      "metadata": {
        "id": "vbIFFcqi0o5P",
        "colab_type": "text"
      },
      "source": [
        "### lzh"
      ]
    },
    {
      "cell_type": "code",
      "metadata": {
        "colab_type": "code",
        "outputId": "c3fce20a-0e95-4cf5-834d-054d19beca99",
        "id": "U1kH3KhO0q52",
        "colab": {
          "base_uri": "https://localhost:8080/",
          "height": 34
        }
      },
      "source": [
        "language_to_class['lzh']"
      ],
      "execution_count": 0,
      "outputs": [
        {
          "output_type": "execute_result",
          "data": {
            "text/plain": [
              "32"
            ]
          },
          "metadata": {
            "tags": []
          },
          "execution_count": 158
        }
      ]
    },
    {
      "cell_type": "code",
      "metadata": {
        "colab_type": "code",
        "outputId": "63ad3f16-2f38-4d08-fb03-e50c87ef40f1",
        "id": "b0klk0yi0q5_",
        "colab": {
          "base_uri": "https://localhost:8080/",
          "height": 419
        }
      },
      "source": [
        "x_train[x_train['sc'] == 32]"
      ],
      "execution_count": 0,
      "outputs": [
        {
          "output_type": "execute_result",
          "data": {
            "text/html": [
              "<div>\n",
              "<style scoped>\n",
              "    .dataframe tbody tr th:only-of-type {\n",
              "        vertical-align: middle;\n",
              "    }\n",
              "\n",
              "    .dataframe tbody tr th {\n",
              "        vertical-align: top;\n",
              "    }\n",
              "\n",
              "    .dataframe thead th {\n",
              "        text-align: right;\n",
              "    }\n",
              "</style>\n",
              "<table border=\"1\" class=\"dataframe\">\n",
              "  <thead>\n",
              "    <tr style=\"text-align: right;\">\n",
              "      <th></th>\n",
              "      <th>sent</th>\n",
              "      <th>sc</th>\n",
              "    </tr>\n",
              "  </thead>\n",
              "  <tbody>\n",
              "    <tr>\n",
              "      <th>336</th>\n",
              "      <td>武漢市，亦稱以漢，乃中華鄂省之會，亦為七大都市於中華之中原也。方八千四百六十七公里，於西元二...</td>\n",
              "      <td>32</td>\n",
              "    </tr>\n",
              "    <tr>\n",
              "      <th>420</th>\n",
              "      <td>按黃帝為法，數有十等。及其用也，乃有三焉。十等者，謂「億、兆、京、垓、秭、壤、溝、澗、正、載...</td>\n",
              "      <td>32</td>\n",
              "    </tr>\n",
              "    <tr>\n",
              "      <th>1254</th>\n",
              "      <td>范蠡浮海出齊，變姓名，自謂鴟夷子皮，耕於海畔，苦身戮力，父子治產。居無幾何，致產數千萬。齊人...</td>\n",
              "      <td>32</td>\n",
              "    </tr>\n",
              "    <tr>\n",
              "      <th>1414</th>\n",
              "      <td>周迪據臨川反，詔昭達便道征之。迪敗走，徵為護軍將軍，改封邵武縣侯。四年，陳寶應納迪，共寇臨川...</td>\n",
              "      <td>32</td>\n",
              "    </tr>\n",
              "    <tr>\n",
              "      <th>1549</th>\n",
              "      <td>喇克達長子敬德，康熙十一年(一六七二年)封三等奉恩將軍，四十七年(一七零八年)卒。敬德次子班...</td>\n",
              "      <td>32</td>\n",
              "    </tr>\n",
              "    <tr>\n",
              "      <th>...</th>\n",
              "      <td>...</td>\n",
              "      <td>...</td>\n",
              "    </tr>\n",
              "    <tr>\n",
              "      <th>116047</th>\n",
              "      <td>士族者，或曰門第、衣冠、世族、門閥、勢族、世家、巨室。蓋謂世居要位之高門也，世族所居不同，中...</td>\n",
              "      <td>32</td>\n",
              "    </tr>\n",
              "    <tr>\n",
              "      <th>116419</th>\n",
              "      <td>淳化二年秋七月，李繼遷請降，以爲銀州觀察使，賜姓名趙保吉。繼捧至夏州數月，即言繼遷悔過歸款，...</td>\n",
              "      <td>32</td>\n",
              "    </tr>\n",
              "    <tr>\n",
              "      <th>116596</th>\n",
              "      <td>孟嘗君怨秦，將以齊為韓、魏攻楚，因與韓、魏攻秦，而借兵食於西周。蘇代為西周謂曰：「君以齊為韓...</td>\n",
              "      <td>32</td>\n",
              "    </tr>\n",
              "    <tr>\n",
              "      <th>116749</th>\n",
              "      <td>陳敏之亂，弘以侃為江夏太守，加鷹揚將軍。侃備威儀，迎母官舍，鄉裡榮之。敏遣其弟恢來寇武昌，侃...</td>\n",
              "      <td>32</td>\n",
              "    </tr>\n",
              "    <tr>\n",
              "      <th>117497</th>\n",
              "      <td>同年，太后崩。絳侯周勃、陳平諸臣共謀誅呂。朱虛侯章已殺呂產，文帝使人持節勞章。朱虛侯欲奪節信...</td>\n",
              "      <td>32</td>\n",
              "    </tr>\n",
              "  </tbody>\n",
              "</table>\n",
              "<p>500 rows × 2 columns</p>\n",
              "</div>"
            ],
            "text/plain": [
              "                                                     sent  sc\n",
              "336     武漢市，亦稱以漢，乃中華鄂省之會，亦為七大都市於中華之中原也。方八千四百六十七公里，於西元二...  32\n",
              "420     按黃帝為法，數有十等。及其用也，乃有三焉。十等者，謂「億、兆、京、垓、秭、壤、溝、澗、正、載...  32\n",
              "1254    范蠡浮海出齊，變姓名，自謂鴟夷子皮，耕於海畔，苦身戮力，父子治產。居無幾何，致產數千萬。齊人...  32\n",
              "1414    周迪據臨川反，詔昭達便道征之。迪敗走，徵為護軍將軍，改封邵武縣侯。四年，陳寶應納迪，共寇臨川...  32\n",
              "1549    喇克達長子敬德，康熙十一年(一六七二年)封三等奉恩將軍，四十七年(一七零八年)卒。敬德次子班...  32\n",
              "...                                                   ...  ..\n",
              "116047  士族者，或曰門第、衣冠、世族、門閥、勢族、世家、巨室。蓋謂世居要位之高門也，世族所居不同，中...  32\n",
              "116419  淳化二年秋七月，李繼遷請降，以爲銀州觀察使，賜姓名趙保吉。繼捧至夏州數月，即言繼遷悔過歸款，...  32\n",
              "116596  孟嘗君怨秦，將以齊為韓、魏攻楚，因與韓、魏攻秦，而借兵食於西周。蘇代為西周謂曰：「君以齊為韓...  32\n",
              "116749  陳敏之亂，弘以侃為江夏太守，加鷹揚將軍。侃備威儀，迎母官舍，鄉裡榮之。敏遣其弟恢來寇武昌，侃...  32\n",
              "117497  同年，太后崩。絳侯周勃、陳平諸臣共謀誅呂。朱虛侯章已殺呂產，文帝使人持節勞章。朱虛侯欲奪節信...  32\n",
              "\n",
              "[500 rows x 2 columns]"
            ]
          },
          "metadata": {
            "tags": []
          },
          "execution_count": 159
        }
      ]
    },
    {
      "cell_type": "markdown",
      "metadata": {
        "id": "fzuCquw70yxi",
        "colab_type": "text"
      },
      "source": [
        "### zho"
      ]
    },
    {
      "cell_type": "code",
      "metadata": {
        "colab_type": "code",
        "outputId": "3f0bea67-624e-4761-a90b-a9598cb43e67",
        "id": "7FZEG0Y90xq5",
        "colab": {
          "base_uri": "https://localhost:8080/",
          "height": 34
        }
      },
      "source": [
        "language_to_class['zho']"
      ],
      "execution_count": 0,
      "outputs": [
        {
          "output_type": "execute_result",
          "data": {
            "text/plain": [
              "173"
            ]
          },
          "metadata": {
            "tags": []
          },
          "execution_count": 160
        }
      ]
    },
    {
      "cell_type": "code",
      "metadata": {
        "colab_type": "code",
        "outputId": "2aa94a19-39df-4dbb-f3cd-b57359398701",
        "id": "a1fcWwry0xq-",
        "colab": {
          "base_uri": "https://localhost:8080/",
          "height": 419
        }
      },
      "source": [
        "x_train[x_train['sc'] == 173]"
      ],
      "execution_count": 0,
      "outputs": [
        {
          "output_type": "execute_result",
          "data": {
            "text/html": [
              "<div>\n",
              "<style scoped>\n",
              "    .dataframe tbody tr th:only-of-type {\n",
              "        vertical-align: middle;\n",
              "    }\n",
              "\n",
              "    .dataframe tbody tr th {\n",
              "        vertical-align: top;\n",
              "    }\n",
              "\n",
              "    .dataframe thead th {\n",
              "        text-align: right;\n",
              "    }\n",
              "</style>\n",
              "<table border=\"1\" class=\"dataframe\">\n",
              "  <thead>\n",
              "    <tr style=\"text-align: right;\">\n",
              "      <th></th>\n",
              "      <th>sent</th>\n",
              "      <th>sc</th>\n",
              "    </tr>\n",
              "  </thead>\n",
              "  <tbody>\n",
              "    <tr>\n",
              "      <th>67</th>\n",
              "      <td>胡赛尼本人和小说的主人公阿米尔一样，都是出生在阿富汗首都喀布尔，少年时代便离开了这个国家。胡...</td>\n",
              "      <td>173</td>\n",
              "    </tr>\n",
              "    <tr>\n",
              "      <th>1042</th>\n",
              "      <td>2017年1月7日，參與了「SNH48第三屆年度金曲大賞BEST 50」。2月15日，出演由...</td>\n",
              "      <td>173</td>\n",
              "    </tr>\n",
              "    <tr>\n",
              "      <th>1127</th>\n",
              "      <td>在他们出发之前，罗伯特·菲茨罗伊送给了达尔文一卷查尔斯·赖尔所著《地质学原理》（在南美他得到...</td>\n",
              "      <td>173</td>\n",
              "    </tr>\n",
              "    <tr>\n",
              "      <th>1438</th>\n",
              "      <td>系列的第一款作品《薩爾達傳說》（ゼルダの伝説）在1986年2月21日於日本發行，之後在198...</td>\n",
              "      <td>173</td>\n",
              "    </tr>\n",
              "    <tr>\n",
              "      <th>2379</th>\n",
              "      <td>历史上的柔远驿是为了给琉球贡使及随员提供食宿之所，同时它也成为中琉间商业和文化交流的枢纽。琉...</td>\n",
              "      <td>173</td>\n",
              "    </tr>\n",
              "    <tr>\n",
              "      <th>...</th>\n",
              "      <td>...</td>\n",
              "      <td>...</td>\n",
              "    </tr>\n",
              "    <tr>\n",
              "      <th>116280</th>\n",
              "      <td>赛里木湖属于封闭型的断陷湖，是地壳下沉形成洼地，由四周的高山雪水历百万年慢慢汇聚而成。如今主...</td>\n",
              "      <td>173</td>\n",
              "    </tr>\n",
              "    <tr>\n",
              "      <th>116626</th>\n",
              "      <td>约瑟夫·维萨里奥诺维奇·泽·朱加什维利生于俄罗斯帝国哥里，毕业于梯弗里斯神学院。成为马克思主...</td>\n",
              "      <td>173</td>\n",
              "    </tr>\n",
              "    <tr>\n",
              "      <th>116788</th>\n",
              "      <td>和印度其他地方一样，板球也是孟买最为流行的一项运动。板球比赛通常在遍布全市的操场上进行。后院...</td>\n",
              "      <td>173</td>\n",
              "    </tr>\n",
              "    <tr>\n",
              "      <th>117051</th>\n",
              "      <td>1994年，邓斯特还与薇诺娜·瑞德和克萊兒·丹妮絲一起出演了同名原著改编的电影《小妇人》，该...</td>\n",
              "      <td>173</td>\n",
              "    </tr>\n",
              "    <tr>\n",
              "      <th>117412</th>\n",
              "      <td>4月8日首度訪泰，在新聞發布會現場超過200名記者爭相採訪，泰國主要的7頻道及報章雜誌等均大...</td>\n",
              "      <td>173</td>\n",
              "    </tr>\n",
              "  </tbody>\n",
              "</table>\n",
              "<p>500 rows × 2 columns</p>\n",
              "</div>"
            ],
            "text/plain": [
              "                                                     sent   sc\n",
              "67      胡赛尼本人和小说的主人公阿米尔一样，都是出生在阿富汗首都喀布尔，少年时代便离开了这个国家。胡...  173\n",
              "1042    2017年1月7日，參與了「SNH48第三屆年度金曲大賞BEST 50」。2月15日，出演由...  173\n",
              "1127    在他们出发之前，罗伯特·菲茨罗伊送给了达尔文一卷查尔斯·赖尔所著《地质学原理》（在南美他得到...  173\n",
              "1438    系列的第一款作品《薩爾達傳說》（ゼルダの伝説）在1986年2月21日於日本發行，之後在198...  173\n",
              "2379    历史上的柔远驿是为了给琉球贡使及随员提供食宿之所，同时它也成为中琉间商业和文化交流的枢纽。琉...  173\n",
              "...                                                   ...  ...\n",
              "116280  赛里木湖属于封闭型的断陷湖，是地壳下沉形成洼地，由四周的高山雪水历百万年慢慢汇聚而成。如今主...  173\n",
              "116626  约瑟夫·维萨里奥诺维奇·泽·朱加什维利生于俄罗斯帝国哥里，毕业于梯弗里斯神学院。成为马克思主...  173\n",
              "116788  和印度其他地方一样，板球也是孟买最为流行的一项运动。板球比赛通常在遍布全市的操场上进行。后院...  173\n",
              "117051  1994年，邓斯特还与薇诺娜·瑞德和克萊兒·丹妮絲一起出演了同名原著改编的电影《小妇人》，该...  173\n",
              "117412  4月8日首度訪泰，在新聞發布會現場超過200名記者爭相採訪，泰國主要的7頻道及報章雜誌等均大...  173\n",
              "\n",
              "[500 rows x 2 columns]"
            ]
          },
          "metadata": {
            "tags": []
          },
          "execution_count": 161
        }
      ]
    },
    {
      "cell_type": "markdown",
      "metadata": {
        "colab_type": "text",
        "id": "hDYoYaOu1Crv"
      },
      "source": [
        "### wuu"
      ]
    },
    {
      "cell_type": "code",
      "metadata": {
        "colab_type": "code",
        "outputId": "51444e6f-c5ad-4bad-f046-9fed4924e61c",
        "id": "f7JCkyYi1Crw",
        "colab": {
          "base_uri": "https://localhost:8080/",
          "height": 34
        }
      },
      "source": [
        "language_to_class['wuu']"
      ],
      "execution_count": 0,
      "outputs": [
        {
          "output_type": "execute_result",
          "data": {
            "text/plain": [
              "175"
            ]
          },
          "metadata": {
            "tags": []
          },
          "execution_count": 162
        }
      ]
    },
    {
      "cell_type": "code",
      "metadata": {
        "colab_type": "code",
        "outputId": "fbf933f8-2f15-4db9-d75e-f6671a005f76",
        "id": "8IvnyIW31Cry",
        "colab": {
          "base_uri": "https://localhost:8080/",
          "height": 419
        }
      },
      "source": [
        "x_train[x_train['sc'] == 175]"
      ],
      "execution_count": 0,
      "outputs": [
        {
          "output_type": "execute_result",
          "data": {
            "text/html": [
              "<div>\n",
              "<style scoped>\n",
              "    .dataframe tbody tr th:only-of-type {\n",
              "        vertical-align: middle;\n",
              "    }\n",
              "\n",
              "    .dataframe tbody tr th {\n",
              "        vertical-align: top;\n",
              "    }\n",
              "\n",
              "    .dataframe thead th {\n",
              "        text-align: right;\n",
              "    }\n",
              "</style>\n",
              "<table border=\"1\" class=\"dataframe\">\n",
              "  <thead>\n",
              "    <tr style=\"text-align: right;\">\n",
              "      <th></th>\n",
              "      <th>sent</th>\n",
              "      <th>sc</th>\n",
              "    </tr>\n",
              "  </thead>\n",
              "  <tbody>\n",
              "    <tr>\n",
              "      <th>19</th>\n",
              "      <td>UNC有得一只历史悠久个'诚信守则'。渠是由学堂个诚信法庭（Honor Court）来执行个...</td>\n",
              "      <td>175</td>\n",
              "    </tr>\n",
              "    <tr>\n",
              "      <th>276</th>\n",
              "      <td>武器，是人类为达到杀伤或者防御个目的制造个器械。武器从人类文明发展开始就有出现，之后，伴随战...</td>\n",
              "      <td>175</td>\n",
              "    </tr>\n",
              "    <tr>\n",
              "      <th>387</th>\n",
              "      <td>弗过，太后个信任是一方面，具体西班牙个政治局面又是另外一番情形：贵族对迭个外国人一点也无信任...</td>\n",
              "      <td>175</td>\n",
              "    </tr>\n",
              "    <tr>\n",
              "      <th>720</th>\n",
              "      <td>从12世纪挨末阶段开始，日本个统治权就转移到日本武士贵族个手里向。到13世纪，出身清和源氏个...</td>\n",
              "      <td>175</td>\n",
              "    </tr>\n",
              "    <tr>\n",
              "      <th>930</th>\n",
              "      <td>箇种毛病潜伏期一般勒7日天以内，病人一般表现为流感箇浪个症状，像发寒热，咳嗽，少痰，有种辰光...</td>\n",
              "      <td>175</td>\n",
              "    </tr>\n",
              "    <tr>\n",
              "      <th>...</th>\n",
              "      <td>...</td>\n",
              "      <td>...</td>\n",
              "    </tr>\n",
              "    <tr>\n",
              "      <th>116805</th>\n",
              "      <td>Linux個低成本、強大個定制功能搭良好個移植性能，使得Linux來嵌入式系統方面也得到廣泛...</td>\n",
              "      <td>175</td>\n",
              "    </tr>\n",
              "    <tr>\n",
              "      <th>116947</th>\n",
              "      <td>余杭區勒拉杭嘉湖平原南端，西依天目山，南瀕錢塘江，是長江三角洲个圓心地。地理座標爲北緯30°...</td>\n",
              "      <td>175</td>\n",
              "    </tr>\n",
              "    <tr>\n",
              "      <th>117034</th>\n",
              "      <td>北師大是以京師大學堂師範專業做基礎，搭仔由北京個高校匯聚一批勒師範教育領域窮有聲望個名師組建...</td>\n",
              "      <td>175</td>\n",
              "    </tr>\n",
              "    <tr>\n",
              "      <th>117037</th>\n",
              "      <td>到清中期（約18世紀），傳奇開始衰微，向書齋文學轉化，彈詞卻逐步興盛起來了。出版之錢德蒼編个...</td>\n",
              "      <td>175</td>\n",
              "    </tr>\n",
              "    <tr>\n",
              "      <th>117257</th>\n",
              "      <td>摩嘉娜夺权计划失败后，带领奄奄一息个莫高絲逃出卡美洛特，徕萨温节夜里，摩嘉娜徕莫高絲个要求之...</td>\n",
              "      <td>175</td>\n",
              "    </tr>\n",
              "  </tbody>\n",
              "</table>\n",
              "<p>500 rows × 2 columns</p>\n",
              "</div>"
            ],
            "text/plain": [
              "                                                     sent   sc\n",
              "19      UNC有得一只历史悠久个'诚信守则'。渠是由学堂个诚信法庭（Honor Court）来执行个...  175\n",
              "276     武器，是人类为达到杀伤或者防御个目的制造个器械。武器从人类文明发展开始就有出现，之后，伴随战...  175\n",
              "387     弗过，太后个信任是一方面，具体西班牙个政治局面又是另外一番情形：贵族对迭个外国人一点也无信任...  175\n",
              "720     从12世纪挨末阶段开始，日本个统治权就转移到日本武士贵族个手里向。到13世纪，出身清和源氏个...  175\n",
              "930     箇种毛病潜伏期一般勒7日天以内，病人一般表现为流感箇浪个症状，像发寒热，咳嗽，少痰，有种辰光...  175\n",
              "...                                                   ...  ...\n",
              "116805  Linux個低成本、強大個定制功能搭良好個移植性能，使得Linux來嵌入式系統方面也得到廣泛...  175\n",
              "116947  余杭區勒拉杭嘉湖平原南端，西依天目山，南瀕錢塘江，是長江三角洲个圓心地。地理座標爲北緯30°...  175\n",
              "117034  北師大是以京師大學堂師範專業做基礎，搭仔由北京個高校匯聚一批勒師範教育領域窮有聲望個名師組建...  175\n",
              "117037  到清中期（約18世紀），傳奇開始衰微，向書齋文學轉化，彈詞卻逐步興盛起來了。出版之錢德蒼編个...  175\n",
              "117257  摩嘉娜夺权计划失败后，带领奄奄一息个莫高絲逃出卡美洛特，徕萨温节夜里，摩嘉娜徕莫高絲个要求之...  175\n",
              "\n",
              "[500 rows x 2 columns]"
            ]
          },
          "metadata": {
            "tags": []
          },
          "execution_count": 163
        }
      ]
    },
    {
      "cell_type": "markdown",
      "metadata": {
        "id": "bGJVJ9xn1Zn8",
        "colab_type": "text"
      },
      "source": [
        "### Короче ГГ -- эти все языки с иероглифами :( Почекаем, что делает токенайзер:"
      ]
    },
    {
      "cell_type": "code",
      "metadata": {
        "id": "qxa4htXU1viE",
        "colab_type": "code",
        "outputId": "e0ecbe0d-0fd2-4210-bc71-56e3465f8037",
        "colab": {
          "base_uri": "https://localhost:8080/",
          "height": 419
        }
      },
      "source": [
        "x = x_train[x_train['sc'] == 132]\n",
        "x"
      ],
      "execution_count": 0,
      "outputs": [
        {
          "output_type": "execute_result",
          "data": {
            "text/html": [
              "<div>\n",
              "<style scoped>\n",
              "    .dataframe tbody tr th:only-of-type {\n",
              "        vertical-align: middle;\n",
              "    }\n",
              "\n",
              "    .dataframe tbody tr th {\n",
              "        vertical-align: top;\n",
              "    }\n",
              "\n",
              "    .dataframe thead th {\n",
              "        text-align: right;\n",
              "    }\n",
              "</style>\n",
              "<table border=\"1\" class=\"dataframe\">\n",
              "  <thead>\n",
              "    <tr style=\"text-align: right;\">\n",
              "      <th></th>\n",
              "      <th>sent</th>\n",
              "      <th>sc</th>\n",
              "    </tr>\n",
              "  </thead>\n",
              "  <tbody>\n",
              "    <tr>\n",
              "      <th>29</th>\n",
              "      <td>エノが行きがかりでバスに乗ってしまい、気分が悪くなった際に助けるが、今すぐバスを降りたいと運...</td>\n",
              "      <td>132</td>\n",
              "    </tr>\n",
              "    <tr>\n",
              "      <th>46</th>\n",
              "      <td>シャーリー・フィールドは、サン・ベルナルド・アベニュー沿い市民センターとR&amp;Tマーティン高校...</td>\n",
              "      <td>132</td>\n",
              "    </tr>\n",
              "    <tr>\n",
              "      <th>225</th>\n",
              "      <td>藤女の女性教師。48歳。数学担当。風紀指導を担当しており、リコにとっては天敵。藤女とその伝統...</td>\n",
              "      <td>132</td>\n",
              "    </tr>\n",
              "    <tr>\n",
              "      <th>339</th>\n",
              "      <td>教会旋法はまず終止音（finalis）によって4つに分類される。そしてそれぞれが音域（amb...</td>\n",
              "      <td>132</td>\n",
              "    </tr>\n",
              "    <tr>\n",
              "      <th>741</th>\n",
              "      <td>「MGR」という愛称で知られるM・G・ラーマチャンディランが、アンナードゥライの死後、ドラー...</td>\n",
              "      <td>132</td>\n",
              "    </tr>\n",
              "    <tr>\n",
              "      <th>...</th>\n",
              "      <td>...</td>\n",
              "      <td>...</td>\n",
              "    </tr>\n",
              "    <tr>\n",
              "      <th>116639</th>\n",
              "      <td>劉義隆が中郎将・荊州刺史となると、張邵はその下で司馬となり、南郡相を兼ねて、荊州の事務を決裁...</td>\n",
              "      <td>132</td>\n",
              "    </tr>\n",
              "    <tr>\n",
              "      <th>116901</th>\n",
              "      <td>紀元前334年にマケドニア王アレクサンドロス3世が小アジアに侵攻してきた時、アルサメスは他の...</td>\n",
              "      <td>132</td>\n",
              "    </tr>\n",
              "    <tr>\n",
              "      <th>117097</th>\n",
              "      <td>世間で「お嬢様学校」と呼ばれる名門校「私立藤崎女子中学」（略称：藤女）の生徒会執行部は、会長...</td>\n",
              "      <td>132</td>\n",
              "    </tr>\n",
              "    <tr>\n",
              "      <th>117135</th>\n",
              "      <td>実質的にはBRAVIA Phone U1とS002の後継にあたる2軸折りたたみ式の機種で今回...</td>\n",
              "      <td>132</td>\n",
              "    </tr>\n",
              "    <tr>\n",
              "      <th>117148</th>\n",
              "      <td>京都市バス等持院道バス停徒歩すぐところに位置する。地上4階建。寮室190室、アクセシブルルー...</td>\n",
              "      <td>132</td>\n",
              "    </tr>\n",
              "  </tbody>\n",
              "</table>\n",
              "<p>500 rows × 2 columns</p>\n",
              "</div>"
            ],
            "text/plain": [
              "                                                     sent   sc\n",
              "29      エノが行きがかりでバスに乗ってしまい、気分が悪くなった際に助けるが、今すぐバスを降りたいと運...  132\n",
              "46      シャーリー・フィールドは、サン・ベルナルド・アベニュー沿い市民センターとR&Tマーティン高校...  132\n",
              "225     藤女の女性教師。48歳。数学担当。風紀指導を担当しており、リコにとっては天敵。藤女とその伝統...  132\n",
              "339     教会旋法はまず終止音（finalis）によって4つに分類される。そしてそれぞれが音域（amb...  132\n",
              "741     「MGR」という愛称で知られるM・G・ラーマチャンディランが、アンナードゥライの死後、ドラー...  132\n",
              "...                                                   ...  ...\n",
              "116639  劉義隆が中郎将・荊州刺史となると、張邵はその下で司馬となり、南郡相を兼ねて、荊州の事務を決裁...  132\n",
              "116901  紀元前334年にマケドニア王アレクサンドロス3世が小アジアに侵攻してきた時、アルサメスは他の...  132\n",
              "117097  世間で「お嬢様学校」と呼ばれる名門校「私立藤崎女子中学」（略称：藤女）の生徒会執行部は、会長...  132\n",
              "117135  実質的にはBRAVIA Phone U1とS002の後継にあたる2軸折りたたみ式の機種で今回...  132\n",
              "117148  京都市バス等持院道バス停徒歩すぐところに位置する。地上4階建。寮室190室、アクセシブルルー...  132\n",
              "\n",
              "[500 rows x 2 columns]"
            ]
          },
          "metadata": {
            "tags": []
          },
          "execution_count": 224
        }
      ]
    },
    {
      "cell_type": "code",
      "metadata": {
        "id": "_ffead0A1x0E",
        "colab_type": "code",
        "colab": {}
      },
      "source": [
        "tokenizer = Tokenizer()\n",
        "tokenizer.fit_on_texts(x.sent)"
      ],
      "execution_count": 0,
      "outputs": []
    },
    {
      "cell_type": "code",
      "metadata": {
        "id": "_WsgeGxM4Ph-",
        "colab_type": "code",
        "outputId": "bad47cca-e4ee-4992-a921-068eaa40fd88",
        "colab": {
          "base_uri": "https://localhost:8080/",
          "height": 34
        }
      },
      "source": [
        "# try different values of `count`\n",
        "# show how many words are presenting more than `count` times\n",
        "count = 10\n",
        "low_count_words = [w for w,c in tokenizer.word_counts.items() if c > count]\n",
        "len(low_count_words)"
      ],
      "execution_count": 0,
      "outputs": [
        {
          "output_type": "execute_result",
          "data": {
            "text/plain": [
              "7"
            ]
          },
          "metadata": {
            "tags": []
          },
          "execution_count": 228
        }
      ]
    },
    {
      "cell_type": "code",
      "metadata": {
        "id": "c5BNr1-A1_f6",
        "colab_type": "code",
        "outputId": "202de1fd-d5bd-4df8-982a-1180765e8b7a",
        "colab": {
          "base_uri": "https://localhost:8080/",
          "height": 136
        }
      },
      "source": [
        "z = tokenizer.texts_to_sequences(x.sent)\n",
        "z = pad_sequences(z, maxlen=maxlen)\n",
        "z"
      ],
      "execution_count": 0,
      "outputs": [
        {
          "output_type": "execute_result",
          "data": {
            "text/plain": [
              "array([[    0,     0,     0, ...,     0,     0,     0],\n",
              "       [    0,     0,     0, ...,     0,     0, 66416],\n",
              "       [    0,     0,     0, ...,     0,     0,     0],\n",
              "       ...,\n",
              "       [    0,     0,     0, ...,     0,     0,     0],\n",
              "       [    0,     0,     0, ...,     0,     0,     0],\n",
              "       [    0,     0,     0, ...,     0,     0,  8504]], dtype=int32)"
            ]
          },
          "metadata": {
            "tags": []
          },
          "execution_count": 200
        }
      ]
    },
    {
      "cell_type": "code",
      "metadata": {
        "id": "3PyTPOoY4Bxb",
        "colab_type": "code",
        "outputId": "ba2c757b-6c20-45ec-dd74-fd6be922c670",
        "colab": {
          "base_uri": "https://localhost:8080/",
          "height": 136
        }
      },
      "source": [
        "z"
      ],
      "execution_count": 0,
      "outputs": [
        {
          "output_type": "execute_result",
          "data": {
            "text/plain": [
              "array([[    0,     0,     0, ...,     0,     0,     0],\n",
              "       [    0,     0,     0, ...,     0,     0, 66416],\n",
              "       [    0,     0,     0, ...,     0,     0,     0],\n",
              "       ...,\n",
              "       [    0,     0,     0, ...,     0,     0,     0],\n",
              "       [    0,     0,     0, ...,     0,     0,     0],\n",
              "       [    0,     0,     0, ...,     0,     0,  8504]], dtype=int32)"
            ]
          },
          "metadata": {
            "tags": []
          },
          "execution_count": 201
        }
      ]
    },
    {
      "cell_type": "markdown",
      "metadata": {
        "id": "cgf2xwWc3U9z",
        "colab_type": "text"
      },
      "source": [
        "# Короче мало слов, которые встречаются чаще 10 раз и у них какая-то другая модель языковая. Вот ниже пример для другого языка"
      ]
    },
    {
      "cell_type": "code",
      "metadata": {
        "id": "VB7y9Oyv1QZ8",
        "colab_type": "code",
        "colab": {}
      },
      "source": [
        "tokenizer = Tokenizer()\n",
        "tokenizer.fit_on_texts(x.sent)"
      ],
      "execution_count": 0,
      "outputs": []
    },
    {
      "cell_type": "code",
      "metadata": {
        "colab_type": "code",
        "outputId": "2c960be3-8696-485c-8314-335b5dba541c",
        "id": "Iwvu_V2X6ghH",
        "colab": {
          "base_uri": "https://localhost:8080/",
          "height": 419
        }
      },
      "source": [
        "x = x_train[x_train['sc'] == 2]\n",
        "x"
      ],
      "execution_count": 0,
      "outputs": [
        {
          "output_type": "execute_result",
          "data": {
            "text/html": [
              "<div>\n",
              "<style scoped>\n",
              "    .dataframe tbody tr th:only-of-type {\n",
              "        vertical-align: middle;\n",
              "    }\n",
              "\n",
              "    .dataframe tbody tr th {\n",
              "        vertical-align: top;\n",
              "    }\n",
              "\n",
              "    .dataframe thead th {\n",
              "        text-align: right;\n",
              "    }\n",
              "</style>\n",
              "<table border=\"1\" class=\"dataframe\">\n",
              "  <thead>\n",
              "    <tr style=\"text-align: right;\">\n",
              "      <th></th>\n",
              "      <th>sent</th>\n",
              "      <th>sc</th>\n",
              "    </tr>\n",
              "  </thead>\n",
              "  <tbody>\n",
              "    <tr>\n",
              "      <th>427</th>\n",
              "      <td>Pennsilfaanisch Deitsch iss gschwetzt in Yaako...</td>\n",
              "      <td>2</td>\n",
              "    </tr>\n",
              "    <tr>\n",
              "      <th>469</th>\n",
              "      <td>Der Freidaag iss der Friday. Er iss nooch Gris...</td>\n",
              "      <td>2</td>\n",
              "    </tr>\n",
              "    <tr>\n",
              "      <th>624</th>\n",
              "      <td>Der John M. Brenneman (1816-1895) waar en menn...</td>\n",
              "      <td>2</td>\n",
              "    </tr>\n",
              "    <tr>\n",
              "      <th>626</th>\n",
              "      <td>Tobin, Jesse, 2008. Es Pennsylfaanisch Muunraa...</td>\n",
              "      <td>2</td>\n",
              "    </tr>\n",
              "    <tr>\n",
              "      <th>823</th>\n",
              "      <td>Two Dutchmen once got into a dispute about the...</td>\n",
              "      <td>2</td>\n",
              "    </tr>\n",
              "    <tr>\n",
              "      <th>...</th>\n",
              "      <td>...</td>\n",
              "      <td>...</td>\n",
              "    </tr>\n",
              "    <tr>\n",
              "      <th>115626</th>\n",
              "      <td>Der Johann Weber waar der Bruder vun em George...</td>\n",
              "      <td>2</td>\n",
              "    </tr>\n",
              "    <tr>\n",
              "      <th>116036</th>\n",
              "      <td>Katharina Bärbel Bum, Die Sprache der Anzeigen...</td>\n",
              "      <td>2</td>\n",
              "    </tr>\n",
              "    <tr>\n",
              "      <th>116071</th>\n",
              "      <td>Flughafe Ca Mau iss en Flughafe in Ca Mau, Pro...</td>\n",
              "      <td>2</td>\n",
              "    </tr>\n",
              "    <tr>\n",
              "      <th>116247</th>\n",
              "      <td>Der Donald Henry Pleasence (* 5. Oktower 1919 ...</td>\n",
              "      <td>2</td>\n",
              "    </tr>\n",
              "    <tr>\n",
              "      <th>116611</th>\n",
              "      <td>Schriesheim (Kurpfalz): Heemet vum Alexander M...</td>\n",
              "      <td>2</td>\n",
              "    </tr>\n",
              "  </tbody>\n",
              "</table>\n",
              "<p>500 rows × 2 columns</p>\n",
              "</div>"
            ],
            "text/plain": [
              "                                                     sent  sc\n",
              "427     Pennsilfaanisch Deitsch iss gschwetzt in Yaako...   2\n",
              "469     Der Freidaag iss der Friday. Er iss nooch Gris...   2\n",
              "624     Der John M. Brenneman (1816-1895) waar en menn...   2\n",
              "626     Tobin, Jesse, 2008. Es Pennsylfaanisch Muunraa...   2\n",
              "823     Two Dutchmen once got into a dispute about the...   2\n",
              "...                                                   ...  ..\n",
              "115626  Der Johann Weber waar der Bruder vun em George...   2\n",
              "116036  Katharina Bärbel Bum, Die Sprache der Anzeigen...   2\n",
              "116071  Flughafe Ca Mau iss en Flughafe in Ca Mau, Pro...   2\n",
              "116247  Der Donald Henry Pleasence (* 5. Oktower 1919 ...   2\n",
              "116611  Schriesheim (Kurpfalz): Heemet vum Alexander M...   2\n",
              "\n",
              "[500 rows x 2 columns]"
            ]
          },
          "metadata": {
            "tags": []
          },
          "execution_count": 233
        }
      ]
    },
    {
      "cell_type": "code",
      "metadata": {
        "colab_type": "code",
        "id": "pVSmI-lW6ghO",
        "colab": {}
      },
      "source": [
        "tokenizer = Tokenizer()\n",
        "tokenizer.fit_on_texts(x.sent)"
      ],
      "execution_count": 0,
      "outputs": []
    },
    {
      "cell_type": "code",
      "metadata": {
        "colab_type": "code",
        "outputId": "31ed9095-4753-4b0a-978c-565b95a29ea3",
        "id": "raSaHijX6ghQ",
        "colab": {
          "base_uri": "https://localhost:8080/",
          "height": 34
        }
      },
      "source": [
        "# try different values of `count`\n",
        "# show how many words are presenting more than `count` times\n",
        "count = 10\n",
        "low_count_words = [w for w,c in tokenizer.word_counts.items() if c > count]\n",
        "len(low_count_words)"
      ],
      "execution_count": 0,
      "outputs": [
        {
          "output_type": "execute_result",
          "data": {
            "text/plain": [
              "287"
            ]
          },
          "metadata": {
            "tags": []
          },
          "execution_count": 235
        }
      ]
    },
    {
      "cell_type": "markdown",
      "metadata": {
        "id": "fjaGLlld6r_u",
        "colab_type": "text"
      },
      "source": [
        "Я попробовала в токенайзере брать все слова и те, которые встречаются чаще 3 раз, а не 10. Нихера не помогает, просто модели не нравятся эти 4 языка от слова совсем. Видимо, эти блинских 4 языка устроены как-то совсем иначе и к ним не подойдет наш подход. Я бы просто вычеркнула их и забила, если не придумаем какую-то модель + токенайзер, которые все порешают"
      ]
    },
    {
      "cell_type": "markdown",
      "metadata": {
        "id": "oIeAdLV_9uYg",
        "colab_type": "text"
      },
      "source": [
        "# Other chinese"
      ]
    },
    {
      "cell_type": "markdown",
      "metadata": {
        "id": "lJuVpazz_Ap3",
        "colab_type": "text"
      },
      "source": [
        "Короче я нашла в перечне еще 2 китайских, на них все ок. Ну ты сам ниже увидишь почему"
      ]
    },
    {
      "cell_type": "markdown",
      "metadata": {
        "id": "rD_1objWAqmm",
        "colab_type": "text"
      },
      "source": [
        "### hak"
      ]
    },
    {
      "cell_type": "code",
      "metadata": {
        "id": "m5o7VFZ_1Srs",
        "colab_type": "code",
        "colab": {}
      },
      "source": [
        "# hak"
      ],
      "execution_count": 0,
      "outputs": []
    },
    {
      "cell_type": "code",
      "metadata": {
        "id": "2iYhJu3b9xlg",
        "colab_type": "code",
        "outputId": "0b73895e-4b87-4189-9b14-487f8350e0f5",
        "colab": {
          "base_uri": "https://localhost:8080/",
          "height": 34
        }
      },
      "source": [
        "language_to_class['hak']"
      ],
      "execution_count": 0,
      "outputs": [
        {
          "output_type": "execute_result",
          "data": {
            "text/plain": [
              "58"
            ]
          },
          "metadata": {
            "tags": []
          },
          "execution_count": 237
        }
      ]
    },
    {
      "cell_type": "code",
      "metadata": {
        "id": "_y8qNLn9-4jm",
        "colab_type": "code",
        "colab": {}
      },
      "source": [
        ""
      ],
      "execution_count": 0,
      "outputs": []
    },
    {
      "cell_type": "code",
      "metadata": {
        "id": "td3Sj9dG90Ap",
        "colab_type": "code",
        "outputId": "12d16564-826b-49fe-f41e-d1f62c67be7c",
        "colab": {
          "base_uri": "https://localhost:8080/",
          "height": 34
        }
      },
      "source": [
        "lan = 58\n",
        "x_t = x_test[x_test['sc'] == lan]\n",
        "x = convert(x_t)\n",
        "y = np.zeros((x.shape[0], len(languages)))\n",
        "y[:, lan] = 1\n",
        "y = y.astype('float32')\n",
        "y_pred = model.predict(x)\n",
        "p, r, f = metr(y, y_pred)\n",
        "print(\"language: \", class_to_language[lan], \"precision: \", p.numpy(), \"recall: \", r.numpy(), \"f1: \", f.numpy())"
      ],
      "execution_count": 0,
      "outputs": [
        {
          "output_type": "stream",
          "text": [
            "language:  hak precision:  0.9936709 recall:  0.942 f1:  0.96714574\n"
          ],
          "name": "stdout"
        }
      ]
    },
    {
      "cell_type": "code",
      "metadata": {
        "id": "kCUEOnVm-5c-",
        "colab_type": "code",
        "outputId": "55b40160-f91c-4284-889e-b5cb8025d7da",
        "colab": {
          "base_uri": "https://localhost:8080/",
          "height": 419
        }
      },
      "source": [
        "x_t"
      ],
      "execution_count": 0,
      "outputs": [
        {
          "output_type": "execute_result",
          "data": {
            "text/html": [
              "<div>\n",
              "<style scoped>\n",
              "    .dataframe tbody tr th:only-of-type {\n",
              "        vertical-align: middle;\n",
              "    }\n",
              "\n",
              "    .dataframe tbody tr th {\n",
              "        vertical-align: top;\n",
              "    }\n",
              "\n",
              "    .dataframe thead th {\n",
              "        text-align: right;\n",
              "    }\n",
              "</style>\n",
              "<table border=\"1\" class=\"dataframe\">\n",
              "  <thead>\n",
              "    <tr style=\"text-align: right;\">\n",
              "      <th></th>\n",
              "      <th>sent</th>\n",
              "      <th>sc</th>\n",
              "    </tr>\n",
              "  </thead>\n",
              "  <tbody>\n",
              "    <tr>\n",
              "      <th>64</th>\n",
              "      <td>Tûng-sân Chhâ-theù (冬山車頭), yu hêm-cho Tûng-sân...</td>\n",
              "      <td>58</td>\n",
              "    </tr>\n",
              "    <tr>\n",
              "      <th>731</th>\n",
              "      <td>1623-ngièn lòi-to Pet-kîn, chiông Ka-li-lio̍k ...</td>\n",
              "      <td>58</td>\n",
              "    </tr>\n",
              "    <tr>\n",
              "      <th>1000</th>\n",
              "      <td>Mâ-lòi-sî-â he Tûng-nàm-â koet-kâ chṳ̂-yit. Mâ...</td>\n",
              "      <td>58</td>\n",
              "    </tr>\n",
              "    <tr>\n",
              "      <th>1255</th>\n",
              "      <td>Wal-Mart Kûng-sṳ̂ (Yîn-ngî： Wal-Mart Stores, I...</td>\n",
              "      <td>58</td>\n",
              "    </tr>\n",
              "    <tr>\n",
              "      <th>1862</th>\n",
              "      <td>Pat-pat suí-châi (八八水災) he 2009-ngièn pat-ngie...</td>\n",
              "      <td>58</td>\n",
              "    </tr>\n",
              "    <tr>\n",
              "      <th>...</th>\n",
              "      <td>...</td>\n",
              "      <td>...</td>\n",
              "    </tr>\n",
              "    <tr>\n",
              "      <th>115776</th>\n",
              "      <td>Tver (Ngò-ngî: Тверь) he Ngò-lò-sṳ̂ Tver-chû s...</td>\n",
              "      <td>58</td>\n",
              "    </tr>\n",
              "    <tr>\n",
              "      <th>116213</th>\n",
              "      <td>1934-ngiàn pân Sin Po, yit-chak khiûn Chûng-fà...</td>\n",
              "      <td>58</td>\n",
              "    </tr>\n",
              "    <tr>\n",
              "      <th>117088</th>\n",
              "      <td>Vò-é (禾仔, Ho̍k-miàng: Oryza sativa) he chhó-pú...</td>\n",
              "      <td>58</td>\n",
              "    </tr>\n",
              "    <tr>\n",
              "      <th>117152</th>\n",
              "      <td>Samba he Pâ-sî ke chhòn-thúng yîm-ngo̍k lâu th...</td>\n",
              "      <td>58</td>\n",
              "    </tr>\n",
              "    <tr>\n",
              "      <th>117493</th>\n",
              "      <td>Thó-mâ-tô(Ngi̍t-ngî：トマト, ho̍k-miàng：Solanum ly...</td>\n",
              "      <td>58</td>\n",
              "    </tr>\n",
              "  </tbody>\n",
              "</table>\n",
              "<p>500 rows × 2 columns</p>\n",
              "</div>"
            ],
            "text/plain": [
              "                                                     sent  sc\n",
              "64      Tûng-sân Chhâ-theù (冬山車頭), yu hêm-cho Tûng-sân...  58\n",
              "731     1623-ngièn lòi-to Pet-kîn, chiông Ka-li-lio̍k ...  58\n",
              "1000    Mâ-lòi-sî-â he Tûng-nàm-â koet-kâ chṳ̂-yit. Mâ...  58\n",
              "1255    Wal-Mart Kûng-sṳ̂ (Yîn-ngî： Wal-Mart Stores, I...  58\n",
              "1862    Pat-pat suí-châi (八八水災) he 2009-ngièn pat-ngie...  58\n",
              "...                                                   ...  ..\n",
              "115776  Tver (Ngò-ngî: Тверь) he Ngò-lò-sṳ̂ Tver-chû s...  58\n",
              "116213  1934-ngiàn pân Sin Po, yit-chak khiûn Chûng-fà...  58\n",
              "117088  Vò-é (禾仔, Ho̍k-miàng: Oryza sativa) he chhó-pú...  58\n",
              "117152  Samba he Pâ-sî ke chhòn-thúng yîm-ngo̍k lâu th...  58\n",
              "117493  Thó-mâ-tô(Ngi̍t-ngî：トマト, ho̍k-miàng：Solanum ly...  58\n",
              "\n",
              "[500 rows x 2 columns]"
            ]
          },
          "metadata": {
            "tags": []
          },
          "execution_count": 246
        }
      ]
    },
    {
      "cell_type": "code",
      "metadata": {
        "id": "bQxkwVQL99eJ",
        "colab_type": "code",
        "colab": {}
      },
      "source": [
        ""
      ],
      "execution_count": 0,
      "outputs": []
    },
    {
      "cell_type": "markdown",
      "metadata": {
        "id": "Ay835U20Asfn",
        "colab_type": "text"
      },
      "source": [
        "### nan"
      ]
    },
    {
      "cell_type": "code",
      "metadata": {
        "colab_type": "code",
        "id": "UHd9J0u6-zKq",
        "colab": {}
      },
      "source": [
        "# nan"
      ],
      "execution_count": 0,
      "outputs": []
    },
    {
      "cell_type": "code",
      "metadata": {
        "colab_type": "code",
        "outputId": "242275ee-a9a7-4086-a2cf-ff3111786296",
        "id": "nw7d83vI-zKy",
        "colab": {
          "base_uri": "https://localhost:8080/",
          "height": 34
        }
      },
      "source": [
        "language_to_class['nan']"
      ],
      "execution_count": 0,
      "outputs": [
        {
          "output_type": "execute_result",
          "data": {
            "text/plain": [
              "198"
            ]
          },
          "metadata": {
            "tags": []
          },
          "execution_count": 243
        }
      ]
    },
    {
      "cell_type": "code",
      "metadata": {
        "colab_type": "code",
        "outputId": "6f4ed2cd-6f7b-46aa-93b1-defad878e003",
        "id": "uxq5hifF-zK7",
        "colab": {
          "base_uri": "https://localhost:8080/",
          "height": 34
        }
      },
      "source": [
        "lan = 198\n",
        "x_t = x_test[x_test['sc'] == lan]\n",
        "x = convert(x_t)\n",
        "y = np.zeros((x.shape[0], len(languages)))\n",
        "y[:, lan] = 1\n",
        "y = y.astype('float32')\n",
        "y_pred = model.predict(x)\n",
        "p, r, f = metr(y, y_pred)\n",
        "print(\"language: \", class_to_language[lan], \"precision: \", p.numpy(), \"recall: \", r.numpy(), \"f1: \", f.numpy())"
      ],
      "execution_count": 0,
      "outputs": [
        {
          "output_type": "stream",
          "text": [
            "language:  nan precision:  0.998 recall:  0.998 f1:  0.99799997\n"
          ],
          "name": "stdout"
        }
      ]
    },
    {
      "cell_type": "code",
      "metadata": {
        "id": "055O0JPJ-2DB",
        "colab_type": "code",
        "outputId": "7e543379-d0ab-4ba0-88fa-2d02bf06e819",
        "colab": {
          "base_uri": "https://localhost:8080/",
          "height": 419
        }
      },
      "source": [
        "x_t"
      ],
      "execution_count": 0,
      "outputs": [
        {
          "output_type": "execute_result",
          "data": {
            "text/html": [
              "<div>\n",
              "<style scoped>\n",
              "    .dataframe tbody tr th:only-of-type {\n",
              "        vertical-align: middle;\n",
              "    }\n",
              "\n",
              "    .dataframe tbody tr th {\n",
              "        vertical-align: top;\n",
              "    }\n",
              "\n",
              "    .dataframe thead th {\n",
              "        text-align: right;\n",
              "    }\n",
              "</style>\n",
              "<table border=\"1\" class=\"dataframe\">\n",
              "  <thead>\n",
              "    <tr style=\"text-align: right;\">\n",
              "      <th></th>\n",
              "      <th>sent</th>\n",
              "      <th>sc</th>\n",
              "    </tr>\n",
              "  </thead>\n",
              "  <tbody>\n",
              "    <tr>\n",
              "      <th>9</th>\n",
              "      <td>Tī Feigneux ê sì-ûi ū Béthancourt-en-Valois, C...</td>\n",
              "      <td>198</td>\n",
              "    </tr>\n",
              "    <tr>\n",
              "      <th>309</th>\n",
              "      <td>Tāi-sêng Hóe-chai Hái-siōng Pó-hiám Tu-sek Hōe...</td>\n",
              "      <td>198</td>\n",
              "    </tr>\n",
              "    <tr>\n",
              "      <th>719</th>\n",
              "      <td>Só·-í, chí-iàu chai-iáⁿ chi̍t-khai-sí ê ūi-tì ...</td>\n",
              "      <td>198</td>\n",
              "    </tr>\n",
              "    <tr>\n",
              "      <th>855</th>\n",
              "      <td>Tī Mossa ê sì-ûi ū Farra d'Isonzo, Gorizia, Sa...</td>\n",
              "      <td>198</td>\n",
              "    </tr>\n",
              "    <tr>\n",
              "      <th>1479</th>\n",
              "      <td>Bí-chiu ê chē-chē lâng kap chèng-tī jîn-bu̍t l...</td>\n",
              "      <td>198</td>\n",
              "    </tr>\n",
              "    <tr>\n",
              "      <th>...</th>\n",
              "      <td>...</td>\n",
              "      <td>...</td>\n",
              "    </tr>\n",
              "    <tr>\n",
              "      <th>115700</th>\n",
              "      <td>Chhùi-koà-kut (Lat: Os palatinum) sī thâu-koà-...</td>\n",
              "      <td>198</td>\n",
              "    </tr>\n",
              "    <tr>\n",
              "      <th>116223</th>\n",
              "      <td>Tī Robbiate ê sì-ûi ū Calusco d'Adda, Imbersag...</td>\n",
              "      <td>198</td>\n",
              "    </tr>\n",
              "    <tr>\n",
              "      <th>116483</th>\n",
              "      <td>Chit phiⁿ bûn-chiuⁿ kài-siāu 1807 nî im-ga̍k l...</td>\n",
              "      <td>198</td>\n",
              "    </tr>\n",
              "    <tr>\n",
              "      <th>116590</th>\n",
              "      <td>\"Só͘-í lín m̄-thang kap in kāng-khóan; in-ūi l...</td>\n",
              "      <td>198</td>\n",
              "    </tr>\n",
              "    <tr>\n",
              "      <th>117231</th>\n",
              "      <td>Kok-chè hong-keh (Eng-gí: International style)...</td>\n",
              "      <td>198</td>\n",
              "    </tr>\n",
              "  </tbody>\n",
              "</table>\n",
              "<p>500 rows × 2 columns</p>\n",
              "</div>"
            ],
            "text/plain": [
              "                                                     sent   sc\n",
              "9       Tī Feigneux ê sì-ûi ū Béthancourt-en-Valois, C...  198\n",
              "309     Tāi-sêng Hóe-chai Hái-siōng Pó-hiám Tu-sek Hōe...  198\n",
              "719     Só·-í, chí-iàu chai-iáⁿ chi̍t-khai-sí ê ūi-tì ...  198\n",
              "855     Tī Mossa ê sì-ûi ū Farra d'Isonzo, Gorizia, Sa...  198\n",
              "1479    Bí-chiu ê chē-chē lâng kap chèng-tī jîn-bu̍t l...  198\n",
              "...                                                   ...  ...\n",
              "115700  Chhùi-koà-kut (Lat: Os palatinum) sī thâu-koà-...  198\n",
              "116223  Tī Robbiate ê sì-ûi ū Calusco d'Adda, Imbersag...  198\n",
              "116483  Chit phiⁿ bûn-chiuⁿ kài-siāu 1807 nî im-ga̍k l...  198\n",
              "116590  \"Só͘-í lín m̄-thang kap in kāng-khóan; in-ūi l...  198\n",
              "117231  Kok-chè hong-keh (Eng-gí: International style)...  198\n",
              "\n",
              "[500 rows x 2 columns]"
            ]
          },
          "metadata": {
            "tags": []
          },
          "execution_count": 248
        }
      ]
    },
    {
      "cell_type": "markdown",
      "metadata": {
        "id": "O3WzbUVB_1SV",
        "colab_type": "text"
      },
      "source": [
        "# Ниже еще чувааки из семейства Sino-Tibetan"
      ]
    },
    {
      "cell_type": "markdown",
      "metadata": {
        "id": "RvE-nlNRAuuN",
        "colab_type": "text"
      },
      "source": [
        "### zh-yue"
      ]
    },
    {
      "cell_type": "code",
      "metadata": {
        "colab_type": "code",
        "id": "ZUn4llT3_4Y0",
        "colab": {}
      },
      "source": [
        "# zh-yue"
      ],
      "execution_count": 0,
      "outputs": []
    },
    {
      "cell_type": "code",
      "metadata": {
        "colab_type": "code",
        "outputId": "bfed2dd9-3a2f-4c38-8670-3e9cfa9e4e34",
        "id": "UVmW3C7N_4Y6",
        "colab": {
          "base_uri": "https://localhost:8080/",
          "height": 34
        }
      },
      "source": [
        "language_to_class['zh-yue']"
      ],
      "execution_count": 0,
      "outputs": [
        {
          "output_type": "execute_result",
          "data": {
            "text/plain": [
              "164"
            ]
          },
          "metadata": {
            "tags": []
          },
          "execution_count": 249
        }
      ]
    },
    {
      "cell_type": "code",
      "metadata": {
        "colab_type": "code",
        "outputId": "bcad00db-7d4b-4b90-beb6-16be44604305",
        "id": "-jBsHtqC_4Y9",
        "colab": {
          "base_uri": "https://localhost:8080/",
          "height": 34
        }
      },
      "source": [
        "lan = 164\n",
        "x_t = x_test[x_test['sc'] == lan]\n",
        "x = convert(x_t)\n",
        "y = np.zeros((x.shape[0], len(languages)))\n",
        "y[:, lan] = 1\n",
        "y = y.astype('float32')\n",
        "y_pred = model.predict(x)\n",
        "p, r, f = metr(y, y_pred)\n",
        "print(\"language: \", class_to_language[lan], \"precision: \", p.numpy(), \"recall: \", r.numpy(), \"f1: \", f.numpy())"
      ],
      "execution_count": 0,
      "outputs": [
        {
          "output_type": "stream",
          "text": [
            "language:  zh-yue precision:  0.0 recall:  0.0 f1:  0.0\n"
          ],
          "name": "stdout"
        }
      ]
    },
    {
      "cell_type": "code",
      "metadata": {
        "id": "nrtA9M8mAMeT",
        "colab_type": "code",
        "outputId": "345738b3-8a49-418c-c8de-5712a9e27773",
        "colab": {
          "base_uri": "https://localhost:8080/",
          "height": 419
        }
      },
      "source": [
        "x_t"
      ],
      "execution_count": 0,
      "outputs": [
        {
          "output_type": "execute_result",
          "data": {
            "text/html": [
              "<div>\n",
              "<style scoped>\n",
              "    .dataframe tbody tr th:only-of-type {\n",
              "        vertical-align: middle;\n",
              "    }\n",
              "\n",
              "    .dataframe tbody tr th {\n",
              "        vertical-align: top;\n",
              "    }\n",
              "\n",
              "    .dataframe thead th {\n",
              "        text-align: right;\n",
              "    }\n",
              "</style>\n",
              "<table border=\"1\" class=\"dataframe\">\n",
              "  <thead>\n",
              "    <tr style=\"text-align: right;\">\n",
              "      <th></th>\n",
              "      <th>sent</th>\n",
              "      <th>sc</th>\n",
              "    </tr>\n",
              "  </thead>\n",
              "  <tbody>\n",
              "    <tr>\n",
              "      <th>66</th>\n",
              "      <td>2008年3月31號至9月26號，逢星期一至五上晝6:40至6:45由東京電視台播出，共10...</td>\n",
              "      <td>164</td>\n",
              "    </tr>\n",
              "    <tr>\n",
              "      <th>87</th>\n",
              "      <td>1994年，喺朋友聚會上俾人用啤酒樽整傷左眼，從此左眼睇唔到嘢。後隨住事業嘅成功，佢喺22歲...</td>\n",
              "      <td>164</td>\n",
              "    </tr>\n",
              "    <tr>\n",
              "      <th>249</th>\n",
              "      <td>「1918年9月漢陽鐵廠技術人員名單」(華員)：制鋼股副股長楊卓，雲巖，江蘇上海，32歲，民...</td>\n",
              "      <td>164</td>\n",
              "    </tr>\n",
              "    <tr>\n",
              "      <th>596</th>\n",
              "      <td>唐傑忠自細就開始表演相聲，1949年參軍做部隊文工團團員後參加過好多場表演藝術。1964年調...</td>\n",
              "      <td>164</td>\n",
              "    </tr>\n",
              "    <tr>\n",
              "      <th>690</th>\n",
              "      <td>廣東省第二中醫院（粵拼：gwong2 dung1 saang2 dai6 ji6 zung1...</td>\n",
              "      <td>164</td>\n",
              "    </tr>\n",
              "    <tr>\n",
              "      <th>...</th>\n",
              "      <td>...</td>\n",
              "      <td>...</td>\n",
              "    </tr>\n",
              "    <tr>\n",
              "      <th>115401</th>\n",
              "      <td>荷蘭人同西班牙人喺東亞勾心鬥角，荷蘭人喺日本話西班牙企圖顛覆日本政府，引起日本鎖國，只准同中...</td>\n",
              "      <td>164</td>\n",
              "    </tr>\n",
              "    <tr>\n",
              "      <th>115567</th>\n",
              "      <td>粵語代表作有：《明日話今天》《春雨弯刀》《奮鬥》《東方之珠》《無敵是愛》《命運》《心曲》《播...</td>\n",
              "      <td>164</td>\n",
              "    </tr>\n",
              "    <tr>\n",
              "      <th>116797</th>\n",
              "      <td>比賽時間10分鐘，時間到空杯多為勝。 但空杯少方有最後投球權，最後比賽結束。 最後投球時可有...</td>\n",
              "      <td>164</td>\n",
              "    </tr>\n",
              "    <tr>\n",
              "      <th>117081</th>\n",
              "      <td>華僑將領胡文虎喺1931年返到中國內地之後，搵咗海珠石附近嘅長堤地區起咗間樓做工廠，直到19...</td>\n",
              "      <td>164</td>\n",
              "    </tr>\n",
              "    <tr>\n",
              "      <th>117157</th>\n",
              "      <td>檀香山座落喺北緯21度18分32秒西經157度49分34秒（21.308950 - 157....</td>\n",
              "      <td>164</td>\n",
              "    </tr>\n",
              "  </tbody>\n",
              "</table>\n",
              "<p>500 rows × 2 columns</p>\n",
              "</div>"
            ],
            "text/plain": [
              "                                                     sent   sc\n",
              "66      2008年3月31號至9月26號，逢星期一至五上晝6:40至6:45由東京電視台播出，共10...  164\n",
              "87      1994年，喺朋友聚會上俾人用啤酒樽整傷左眼，從此左眼睇唔到嘢。後隨住事業嘅成功，佢喺22歲...  164\n",
              "249     「1918年9月漢陽鐵廠技術人員名單」(華員)：制鋼股副股長楊卓，雲巖，江蘇上海，32歲，民...  164\n",
              "596     唐傑忠自細就開始表演相聲，1949年參軍做部隊文工團團員後參加過好多場表演藝術。1964年調...  164\n",
              "690     廣東省第二中醫院（粵拼：gwong2 dung1 saang2 dai6 ji6 zung1...  164\n",
              "...                                                   ...  ...\n",
              "115401  荷蘭人同西班牙人喺東亞勾心鬥角，荷蘭人喺日本話西班牙企圖顛覆日本政府，引起日本鎖國，只准同中...  164\n",
              "115567  粵語代表作有：《明日話今天》《春雨弯刀》《奮鬥》《東方之珠》《無敵是愛》《命運》《心曲》《播...  164\n",
              "116797  比賽時間10分鐘，時間到空杯多為勝。 但空杯少方有最後投球權，最後比賽結束。 最後投球時可有...  164\n",
              "117081  華僑將領胡文虎喺1931年返到中國內地之後，搵咗海珠石附近嘅長堤地區起咗間樓做工廠，直到19...  164\n",
              "117157  檀香山座落喺北緯21度18分32秒西經157度49分34秒（21.308950 - 157....  164\n",
              "\n",
              "[500 rows x 2 columns]"
            ]
          },
          "metadata": {
            "tags": []
          },
          "execution_count": 253
        }
      ]
    },
    {
      "cell_type": "markdown",
      "metadata": {
        "id": "pNCgzsWZAJJQ",
        "colab_type": "text"
      },
      "source": [
        "О да, нашла еще одного братюню к ним"
      ]
    },
    {
      "cell_type": "code",
      "metadata": {
        "id": "scmXF5d4--TE",
        "colab_type": "code",
        "colab": {}
      },
      "source": [
        ""
      ],
      "execution_count": 0,
      "outputs": []
    },
    {
      "cell_type": "markdown",
      "metadata": {
        "id": "TU4VLqpvAxOD",
        "colab_type": "text"
      },
      "source": [
        "### new"
      ]
    },
    {
      "cell_type": "code",
      "metadata": {
        "colab_type": "code",
        "id": "sRdJzqyeAQC4",
        "colab": {}
      },
      "source": [
        "# new"
      ],
      "execution_count": 0,
      "outputs": []
    },
    {
      "cell_type": "code",
      "metadata": {
        "colab_type": "code",
        "outputId": "a5f1b3ac-e8c2-48f5-eca6-05c33d706294",
        "id": "bgpzM_uGAQC7",
        "colab": {
          "base_uri": "https://localhost:8080/",
          "height": 34
        }
      },
      "source": [
        "language_to_class['new']"
      ],
      "execution_count": 0,
      "outputs": [
        {
          "output_type": "execute_result",
          "data": {
            "text/plain": [
              "71"
            ]
          },
          "metadata": {
            "tags": []
          },
          "execution_count": 255
        }
      ]
    },
    {
      "cell_type": "code",
      "metadata": {
        "colab_type": "code",
        "outputId": "59402fff-33ec-4abb-8421-15c72277ca9a",
        "id": "xgUFRPGNAQC-",
        "colab": {
          "base_uri": "https://localhost:8080/",
          "height": 34
        }
      },
      "source": [
        "lan = 71\n",
        "x_t = x_test[x_test['sc'] == lan]\n",
        "x = convert(x_t)\n",
        "y = np.zeros((x.shape[0], len(languages)))\n",
        "y[:, lan] = 1\n",
        "y = y.astype('float32')\n",
        "y_pred = model.predict(x)\n",
        "p, r, f = metr(y, y_pred)\n",
        "print(\"language: \", class_to_language[lan], \"precision: \", p.numpy(), \"recall: \", r.numpy(), \"f1: \", f.numpy())"
      ],
      "execution_count": 0,
      "outputs": [
        {
          "output_type": "stream",
          "text": [
            "language:  new precision:  0.9918033 recall:  0.968 f1:  0.979757\n"
          ],
          "name": "stdout"
        }
      ]
    },
    {
      "cell_type": "code",
      "metadata": {
        "colab_type": "code",
        "outputId": "b1db5d9d-4e4d-46fb-a27e-76f6a4a30a24",
        "id": "dvUjIdEiAQDB",
        "colab": {
          "base_uri": "https://localhost:8080/",
          "height": 419
        }
      },
      "source": [
        "x_t"
      ],
      "execution_count": 0,
      "outputs": [
        {
          "output_type": "execute_result",
          "data": {
            "text/html": [
              "<div>\n",
              "<style scoped>\n",
              "    .dataframe tbody tr th:only-of-type {\n",
              "        vertical-align: middle;\n",
              "    }\n",
              "\n",
              "    .dataframe tbody tr th {\n",
              "        vertical-align: top;\n",
              "    }\n",
              "\n",
              "    .dataframe thead th {\n",
              "        text-align: right;\n",
              "    }\n",
              "</style>\n",
              "<table border=\"1\" class=\"dataframe\">\n",
              "  <thead>\n",
              "    <tr style=\"text-align: right;\">\n",
              "      <th></th>\n",
              "      <th>sent</th>\n",
              "      <th>sc</th>\n",
              "    </tr>\n",
              "  </thead>\n",
              "  <tbody>\n",
              "    <tr>\n",
              "      <th>237</th>\n",
              "      <td>थ्व थाय्‌ भारतया उत्तराखण्ड राज्यया कुमाँउ मण्...</td>\n",
              "      <td>71</td>\n",
              "    </tr>\n",
              "    <tr>\n",
              "      <th>315</th>\n",
              "      <td>भाषिक रुपय् थ्व थासय्‌ भारोपेली भाषा परिवारया ...</td>\n",
              "      <td>71</td>\n",
              "    </tr>\n",
              "    <tr>\n",
              "      <th>458</th>\n",
              "      <td>थ्व गां दूगु थाय्‌ थी-थी कालय् विभिन्न जुजुतये...</td>\n",
              "      <td>71</td>\n",
              "    </tr>\n",
              "    <tr>\n",
              "      <th>827</th>\n",
              "      <td>थ्व शहरयागु अक्षांश ३९.१२८९५२ उत्तर व देशान्तर...</td>\n",
              "      <td>71</td>\n",
              "    </tr>\n",
              "    <tr>\n",
              "      <th>947</th>\n",
              "      <td>थ्व थाय्‌ पौराणिक काल निसें हिन्दू धर्मया ग्रन...</td>\n",
              "      <td>71</td>\n",
              "    </tr>\n",
              "    <tr>\n",
              "      <th>...</th>\n",
              "      <td>...</td>\n",
              "      <td>...</td>\n",
              "    </tr>\n",
              "    <tr>\n",
              "      <th>116312</th>\n",
              "      <td>हिन्दू धर्मया ग्रन्थय् थ्व थाय् दूगु थाय्यात न...</td>\n",
              "      <td>71</td>\n",
              "    </tr>\n",
              "    <tr>\n",
              "      <th>116977</th>\n",
              "      <td>थ्व थाय्‌या अर्थतन्त्रय् बुंज्याया तःधंगु ल्हा...</td>\n",
              "      <td>71</td>\n",
              "    </tr>\n",
              "    <tr>\n",
              "      <th>117124</th>\n",
              "      <td>पञ्जाबी भाषा छ्गु भाषा खः। थ्व भाय् भारत व पाक...</td>\n",
              "      <td>71</td>\n",
              "    </tr>\n",
              "    <tr>\n",
              "      <th>117368</th>\n",
              "      <td>थ्व थाय्‌ भारतया उत्तराखण्ड राज्यया गढवाल मण्ड...</td>\n",
              "      <td>71</td>\n",
              "    </tr>\n",
              "    <tr>\n",
              "      <th>117401</th>\n",
              "      <td>कृष्णा जिल्लायागु अक्षांश १५.४३' निसें १६.१०' ...</td>\n",
              "      <td>71</td>\n",
              "    </tr>\n",
              "  </tbody>\n",
              "</table>\n",
              "<p>500 rows × 2 columns</p>\n",
              "</div>"
            ],
            "text/plain": [
              "                                                     sent  sc\n",
              "237     थ्व थाय्‌ भारतया उत्तराखण्ड राज्यया कुमाँउ मण्...  71\n",
              "315     भाषिक रुपय् थ्व थासय्‌ भारोपेली भाषा परिवारया ...  71\n",
              "458     थ्व गां दूगु थाय्‌ थी-थी कालय् विभिन्न जुजुतये...  71\n",
              "827     थ्व शहरयागु अक्षांश ३९.१२८९५२ उत्तर व देशान्तर...  71\n",
              "947     थ्व थाय्‌ पौराणिक काल निसें हिन्दू धर्मया ग्रन...  71\n",
              "...                                                   ...  ..\n",
              "116312  हिन्दू धर्मया ग्रन्थय् थ्व थाय् दूगु थाय्यात न...  71\n",
              "116977  थ्व थाय्‌या अर्थतन्त्रय् बुंज्याया तःधंगु ल्हा...  71\n",
              "117124  पञ्जाबी भाषा छ्गु भाषा खः। थ्व भाय् भारत व पाक...  71\n",
              "117368  थ्व थाय्‌ भारतया उत्तराखण्ड राज्यया गढवाल मण्ड...  71\n",
              "117401  कृष्णा जिल्लायागु अक्षांश १५.४३' निसें १६.१०' ...  71\n",
              "\n",
              "[500 rows x 2 columns]"
            ]
          },
          "metadata": {
            "tags": []
          },
          "execution_count": 257
        }
      ]
    },
    {
      "cell_type": "code",
      "metadata": {
        "id": "H5XFp8J3AdMX",
        "colab_type": "code",
        "colab": {}
      },
      "source": [
        ""
      ],
      "execution_count": 0,
      "outputs": []
    },
    {
      "cell_type": "markdown",
      "metadata": {
        "id": "t4-tTFMqAzce",
        "colab_type": "text"
      },
      "source": [
        "### mya"
      ]
    },
    {
      "cell_type": "code",
      "metadata": {
        "colab_type": "code",
        "id": "cbtEhunbAdVu",
        "colab": {}
      },
      "source": [
        "# mya"
      ],
      "execution_count": 0,
      "outputs": []
    },
    {
      "cell_type": "code",
      "metadata": {
        "colab_type": "code",
        "outputId": "ef92745e-bdc4-44ad-88c4-05cab572dd45",
        "id": "rXq1hceaAdVy",
        "colab": {
          "base_uri": "https://localhost:8080/",
          "height": 34
        }
      },
      "source": [
        "language_to_class['mya']"
      ],
      "execution_count": 0,
      "outputs": [
        {
          "output_type": "execute_result",
          "data": {
            "text/plain": [
              "114"
            ]
          },
          "metadata": {
            "tags": []
          },
          "execution_count": 260
        }
      ]
    },
    {
      "cell_type": "code",
      "metadata": {
        "colab_type": "code",
        "outputId": "b1d33986-d03c-45a0-ffb4-b0ece4e07b47",
        "id": "9XWwUe1ZAdV1",
        "colab": {
          "base_uri": "https://localhost:8080/",
          "height": 34
        }
      },
      "source": [
        "lan = 114\n",
        "x_t = x_test[x_test['sc'] == lan]\n",
        "x = convert(x_t)\n",
        "y = np.zeros((x.shape[0], len(languages)))\n",
        "y[:, lan] = 1\n",
        "y = y.astype('float32')\n",
        "y_pred = model.predict(x)\n",
        "p, r, f = metr(y, y_pred)\n",
        "print(\"language: \", class_to_language[lan], \"precision: \", p.numpy(), \"recall: \", r.numpy(), \"f1: \", f.numpy())"
      ],
      "execution_count": 0,
      "outputs": [
        {
          "output_type": "stream",
          "text": [
            "language:  mya precision:  0.984252 recall:  0.75 f1:  0.8513053\n"
          ],
          "name": "stdout"
        }
      ]
    },
    {
      "cell_type": "code",
      "metadata": {
        "colab_type": "code",
        "outputId": "64835d39-f3b9-4d58-ecca-6b19408ece9c",
        "id": "g-dsntBOAdV3",
        "colab": {
          "base_uri": "https://localhost:8080/",
          "height": 419
        }
      },
      "source": [
        "x_t"
      ],
      "execution_count": 0,
      "outputs": [
        {
          "output_type": "execute_result",
          "data": {
            "text/html": [
              "<div>\n",
              "<style scoped>\n",
              "    .dataframe tbody tr th:only-of-type {\n",
              "        vertical-align: middle;\n",
              "    }\n",
              "\n",
              "    .dataframe tbody tr th {\n",
              "        vertical-align: top;\n",
              "    }\n",
              "\n",
              "    .dataframe thead th {\n",
              "        text-align: right;\n",
              "    }\n",
              "</style>\n",
              "<table border=\"1\" class=\"dataframe\">\n",
              "  <thead>\n",
              "    <tr style=\"text-align: right;\">\n",
              "      <th></th>\n",
              "      <th>sent</th>\n",
              "      <th>sc</th>\n",
              "    </tr>\n",
              "  </thead>\n",
              "  <tbody>\n",
              "    <tr>\n",
              "      <th>24</th>\n",
              "      <td>၂၀၁ဝ မတ် Forbes စာရင်းအရ သူ၏ကြွယ်ဝချမ်းသာမှုမှ...</td>\n",
              "      <td>114</td>\n",
              "    </tr>\n",
              "    <tr>\n",
              "      <th>379</th>\n",
              "      <td>က‌ဆုန်လပြည့်နေ့တွင် မြတ်ဗုဒ္ဓ၏ အဖြစ်တော်လေးမျိ...</td>\n",
              "      <td>114</td>\n",
              "    </tr>\n",
              "    <tr>\n",
              "      <th>914</th>\n",
              "      <td>သပိတ်ကံဆောင်မှုကို ဘုရားရှင် လက်ထက်က တကြိမ်၊ သ...</td>\n",
              "      <td>114</td>\n",
              "    </tr>\n",
              "    <tr>\n",
              "      <th>1296</th>\n",
              "      <td>ပထမ ၃ မျိုးမှာ လက္ခဏာများကိုလိုက်၍ ခေါ်ဝေါ်ခြင...</td>\n",
              "      <td>114</td>\n",
              "    </tr>\n",
              "    <tr>\n",
              "      <th>1383</th>\n",
              "      <td>ဟိတ်မြို့သည် မြောက်ပင်လယ် ကမ်းခြေမှ နှစ်မိုင် ...</td>\n",
              "      <td>114</td>\n",
              "    </tr>\n",
              "    <tr>\n",
              "      <th>...</th>\n",
              "      <td>...</td>\n",
              "      <td>...</td>\n",
              "    </tr>\n",
              "    <tr>\n",
              "      <th>116508</th>\n",
              "      <td>၁၉၄၅ - ဂျာနယ်ကျော်- ဩဂုတ်လထုတ်တွင် အခုရေစက်ဝတ္...</td>\n",
              "      <td>114</td>\n",
              "    </tr>\n",
              "    <tr>\n",
              "      <th>116562</th>\n",
              "      <td>Actinium အား ယူရေနီယမ် သတ္ထုရိုင်းများ ထဲတွင် ...</td>\n",
              "      <td>114</td>\n",
              "    </tr>\n",
              "    <tr>\n",
              "      <th>116989</th>\n",
              "      <td>\"ငါ့သမီးတော့ ဒီရန်သူရဲ့လက်အောက်မှာ အခိုင်းအစေ ...</td>\n",
              "      <td>114</td>\n",
              "    </tr>\n",
              "    <tr>\n",
              "      <th>117210</th>\n",
              "      <td>ယောမင်းကြီး ဦးဘိုးလှိုင် ဟုခေါ်သော ယောအတွင်းဝန...</td>\n",
              "      <td>114</td>\n",
              "    </tr>\n",
              "    <tr>\n",
              "      <th>117313</th>\n",
              "      <td>အဲလ်ဘတ်ဗွန်ဆင့်ဂျော်ဂျီ (အင်္ဂလိပ် : Albert vo...</td>\n",
              "      <td>114</td>\n",
              "    </tr>\n",
              "  </tbody>\n",
              "</table>\n",
              "<p>500 rows × 2 columns</p>\n",
              "</div>"
            ],
            "text/plain": [
              "                                                     sent   sc\n",
              "24      ၂၀၁ဝ မတ် Forbes စာရင်းအရ သူ၏ကြွယ်ဝချမ်းသာမှုမှ...  114\n",
              "379     က‌ဆုန်လပြည့်နေ့တွင် မြတ်ဗုဒ္ဓ၏ အဖြစ်တော်လေးမျိ...  114\n",
              "914     သပိတ်ကံဆောင်မှုကို ဘုရားရှင် လက်ထက်က တကြိမ်၊ သ...  114\n",
              "1296    ပထမ ၃ မျိုးမှာ လက္ခဏာများကိုလိုက်၍ ခေါ်ဝေါ်ခြင...  114\n",
              "1383    ဟိတ်မြို့သည် မြောက်ပင်လယ် ကမ်းခြေမှ နှစ်မိုင် ...  114\n",
              "...                                                   ...  ...\n",
              "116508  ၁၉၄၅ - ဂျာနယ်ကျော်- ဩဂုတ်လထုတ်တွင် အခုရေစက်ဝတ္...  114\n",
              "116562  Actinium အား ယူရေနီယမ် သတ္ထုရိုင်းများ ထဲတွင် ...  114\n",
              "116989  \"ငါ့သမီးတော့ ဒီရန်သူရဲ့လက်အောက်မှာ အခိုင်းအစေ ...  114\n",
              "117210  ယောမင်းကြီး ဦးဘိုးလှိုင် ဟုခေါ်သော ယောအတွင်းဝန...  114\n",
              "117313  အဲလ်ဘတ်ဗွန်ဆင့်ဂျော်ဂျီ (အင်္ဂလိပ် : Albert vo...  114\n",
              "\n",
              "[500 rows x 2 columns]"
            ]
          },
          "metadata": {
            "tags": []
          },
          "execution_count": 262
        }
      ]
    },
    {
      "cell_type": "code",
      "metadata": {
        "id": "eFaNTjzMAjsJ",
        "colab_type": "code",
        "colab": {}
      },
      "source": [
        ""
      ],
      "execution_count": 0,
      "outputs": []
    },
    {
      "cell_type": "markdown",
      "metadata": {
        "id": "V_z09kUAA-eF",
        "colab_type": "text"
      },
      "source": [
        "### cdo"
      ]
    },
    {
      "cell_type": "code",
      "metadata": {
        "colab_type": "code",
        "id": "IRNNmke-A1-Y",
        "colab": {}
      },
      "source": [
        "# cdo"
      ],
      "execution_count": 0,
      "outputs": []
    },
    {
      "cell_type": "code",
      "metadata": {
        "colab_type": "code",
        "outputId": "6ae6453b-2353-49f2-99ff-b6e672c95c15",
        "id": "YrBkg9sWA1-c",
        "colab": {
          "base_uri": "https://localhost:8080/",
          "height": 34
        }
      },
      "source": [
        "language_to_class['cdo']"
      ],
      "execution_count": 0,
      "outputs": [
        {
          "output_type": "execute_result",
          "data": {
            "text/plain": [
              "229"
            ]
          },
          "metadata": {
            "tags": []
          },
          "execution_count": 263
        }
      ]
    },
    {
      "cell_type": "code",
      "metadata": {
        "colab_type": "code",
        "outputId": "d25d4b27-6197-46f5-a0d9-6eac3ca13cd6",
        "id": "Ej5IkP4AA1-f",
        "colab": {
          "base_uri": "https://localhost:8080/",
          "height": 34
        }
      },
      "source": [
        "lan = 229\n",
        "x_t = x_test[x_test['sc'] == lan]\n",
        "x = convert(x_t)\n",
        "y = np.zeros((x.shape[0], len(languages)))\n",
        "y[:, lan] = 1\n",
        "y = y.astype('float32')\n",
        "y_pred = model.predict(x)\n",
        "p, r, f = metr(y, y_pred)\n",
        "print(\"language: \", class_to_language[lan], \"precision: \", p.numpy(), \"recall: \", r.numpy(), \"f1: \", f.numpy())"
      ],
      "execution_count": 0,
      "outputs": [
        {
          "output_type": "stream",
          "text": [
            "language:  cdo precision:  0.99788135 recall:  0.942 f1:  0.96913576\n"
          ],
          "name": "stdout"
        }
      ]
    },
    {
      "cell_type": "code",
      "metadata": {
        "colab_type": "code",
        "outputId": "496205bb-f575-4924-c895-82770fc7f0aa",
        "id": "wLf24wo7A1-j",
        "colab": {
          "base_uri": "https://localhost:8080/",
          "height": 419
        }
      },
      "source": [
        "x_t"
      ],
      "execution_count": 0,
      "outputs": [
        {
          "output_type": "execute_result",
          "data": {
            "text/html": [
              "<div>\n",
              "<style scoped>\n",
              "    .dataframe tbody tr th:only-of-type {\n",
              "        vertical-align: middle;\n",
              "    }\n",
              "\n",
              "    .dataframe tbody tr th {\n",
              "        vertical-align: top;\n",
              "    }\n",
              "\n",
              "    .dataframe thead th {\n",
              "        text-align: right;\n",
              "    }\n",
              "</style>\n",
              "<table border=\"1\" class=\"dataframe\">\n",
              "  <thead>\n",
              "    <tr style=\"text-align: right;\">\n",
              "      <th></th>\n",
              "      <th>sent</th>\n",
              "      <th>sc</th>\n",
              "    </tr>\n",
              "  </thead>\n",
              "  <tbody>\n",
              "    <tr>\n",
              "      <th>681</th>\n",
              "      <td>Huá-hŏk nguòng-só (化學元素) sê cī sié-gái dâi-dŏn...</td>\n",
              "      <td>229</td>\n",
              "    </tr>\n",
              "    <tr>\n",
              "      <th>772</th>\n",
              "      <td>YouTube sê siŏh ciáh ké̤ṳk nè̤ng hŭng-hiōng di...</td>\n",
              "      <td>229</td>\n",
              "    </tr>\n",
              "    <tr>\n",
              "      <th>905</th>\n",
              "      <td>Găk gĭ-dók-gáu gì ùng-huá diē-sié, siông-dá̤ d...</td>\n",
              "      <td>229</td>\n",
              "    </tr>\n",
              "    <tr>\n",
              "      <th>1061</th>\n",
              "      <td>Wikisource (Wiki Dù-cṳ̆-guāng) sê Wikimedia gì...</td>\n",
              "      <td>229</td>\n",
              "    </tr>\n",
              "    <tr>\n",
              "      <th>1232</th>\n",
              "      <td>Gô-dā̤ (舊底) sê siŏh ciáh tiŭ-chiông gì sì-găng...</td>\n",
              "      <td>229</td>\n",
              "    </tr>\n",
              "    <tr>\n",
              "      <th>...</th>\n",
              "      <td>...</td>\n",
              "      <td>...</td>\n",
              "    </tr>\n",
              "    <tr>\n",
              "      <th>116150</th>\n",
              "      <td>Uòng-dô̤ Sĕk-nê Sĭng-cô̤ sê uòng-dô̤ gà̤-dēng ...</td>\n",
              "      <td>229</td>\n",
              "    </tr>\n",
              "    <tr>\n",
              "      <th>116286</th>\n",
              "      <td>Hĕ̤ng-ngṳ̀ (魟魚) sê náe̤ng-gáuk-ngṳ̀ gŏng diē-s...</td>\n",
              "      <td>229</td>\n",
              "    </tr>\n",
              "    <tr>\n",
              "      <th>116545</th>\n",
              "      <td>Iù-tái-gáu, Gĭ-dók-gáu gâe̤ng Ĭ-sṳ̆-làng-gáu d...</td>\n",
              "      <td>229</td>\n",
              "    </tr>\n",
              "    <tr>\n",
              "      <th>116600</th>\n",
              "      <td>Lìng Sié-gŭng diŏh Giū-mī-chŏng chók-sĕng, ĭ s...</td>\n",
              "      <td>229</td>\n",
              "    </tr>\n",
              "    <tr>\n",
              "      <th>116877</th>\n",
              "      <td>Alben W. Barkley (1877 nièng 11 nguŏk 24 hô̤ –...</td>\n",
              "      <td>229</td>\n",
              "    </tr>\n",
              "  </tbody>\n",
              "</table>\n",
              "<p>500 rows × 2 columns</p>\n",
              "</div>"
            ],
            "text/plain": [
              "                                                     sent   sc\n",
              "681     Huá-hŏk nguòng-só (化學元素) sê cī sié-gái dâi-dŏn...  229\n",
              "772     YouTube sê siŏh ciáh ké̤ṳk nè̤ng hŭng-hiōng di...  229\n",
              "905     Găk gĭ-dók-gáu gì ùng-huá diē-sié, siông-dá̤ d...  229\n",
              "1061    Wikisource (Wiki Dù-cṳ̆-guāng) sê Wikimedia gì...  229\n",
              "1232    Gô-dā̤ (舊底) sê siŏh ciáh tiŭ-chiông gì sì-găng...  229\n",
              "...                                                   ...  ...\n",
              "116150  Uòng-dô̤ Sĕk-nê Sĭng-cô̤ sê uòng-dô̤ gà̤-dēng ...  229\n",
              "116286  Hĕ̤ng-ngṳ̀ (魟魚) sê náe̤ng-gáuk-ngṳ̀ gŏng diē-s...  229\n",
              "116545  Iù-tái-gáu, Gĭ-dók-gáu gâe̤ng Ĭ-sṳ̆-làng-gáu d...  229\n",
              "116600  Lìng Sié-gŭng diŏh Giū-mī-chŏng chók-sĕng, ĭ s...  229\n",
              "116877  Alben W. Barkley (1877 nièng 11 nguŏk 24 hô̤ –...  229\n",
              "\n",
              "[500 rows x 2 columns]"
            ]
          },
          "metadata": {
            "tags": []
          },
          "execution_count": 265
        }
      ]
    },
    {
      "cell_type": "code",
      "metadata": {
        "id": "2B84qlWRA57k",
        "colab_type": "code",
        "colab": {}
      },
      "source": [
        ""
      ],
      "execution_count": 0,
      "outputs": []
    },
    {
      "cell_type": "markdown",
      "metadata": {
        "id": "ihYL8LHFA82L",
        "colab_type": "text"
      },
      "source": [
        "### bod"
      ]
    },
    {
      "cell_type": "code",
      "metadata": {
        "id": "CKSOTWitA9sy",
        "colab_type": "code",
        "colab": {}
      },
      "source": [
        ""
      ],
      "execution_count": 0,
      "outputs": []
    },
    {
      "cell_type": "code",
      "metadata": {
        "colab_type": "code",
        "id": "tzqXT2V7BAB-",
        "colab": {}
      },
      "source": [
        "# zh-yue"
      ],
      "execution_count": 0,
      "outputs": []
    },
    {
      "cell_type": "code",
      "metadata": {
        "colab_type": "code",
        "outputId": "37e17b3a-5d93-4459-f49c-e16020ed1a89",
        "id": "npw1h9JZBACB",
        "colab": {
          "base_uri": "https://localhost:8080/",
          "height": 34
        }
      },
      "source": [
        "language_to_class['bod']"
      ],
      "execution_count": 0,
      "outputs": [
        {
          "output_type": "execute_result",
          "data": {
            "text/plain": [
              "53"
            ]
          },
          "metadata": {
            "tags": []
          },
          "execution_count": 266
        }
      ]
    },
    {
      "cell_type": "code",
      "metadata": {
        "colab_type": "code",
        "outputId": "9b5099a7-4379-48f4-a5d8-e53d955418a8",
        "id": "tM6L56Q2BACD",
        "colab": {
          "base_uri": "https://localhost:8080/",
          "height": 34
        }
      },
      "source": [
        "lan = 53\n",
        "x_t = x_test[x_test['sc'] == lan]\n",
        "x = convert(x_t)\n",
        "y = np.zeros((x.shape[0], len(languages)))\n",
        "y[:, lan] = 1\n",
        "y = y.astype('float32')\n",
        "y_pred = model.predict(x)\n",
        "p, r, f = metr(y, y_pred)\n",
        "print(\"language: \", class_to_language[lan], \"precision: \", p.numpy(), \"recall: \", r.numpy(), \"f1: \", f.numpy())"
      ],
      "execution_count": 0,
      "outputs": [
        {
          "output_type": "stream",
          "text": [
            "language:  bod precision:  0.95862067 recall:  0.278 f1:  0.4310077\n"
          ],
          "name": "stdout"
        }
      ]
    },
    {
      "cell_type": "code",
      "metadata": {
        "colab_type": "code",
        "outputId": "2dee01e9-0ed6-4f71-f1a5-8e02b0755cda",
        "id": "evAHd-WOBACG",
        "colab": {
          "base_uri": "https://localhost:8080/",
          "height": 419
        }
      },
      "source": [
        "x_t"
      ],
      "execution_count": 0,
      "outputs": [
        {
          "output_type": "execute_result",
          "data": {
            "text/html": [
              "<div>\n",
              "<style scoped>\n",
              "    .dataframe tbody tr th:only-of-type {\n",
              "        vertical-align: middle;\n",
              "    }\n",
              "\n",
              "    .dataframe tbody tr th {\n",
              "        vertical-align: top;\n",
              "    }\n",
              "\n",
              "    .dataframe thead th {\n",
              "        text-align: right;\n",
              "    }\n",
              "</style>\n",
              "<table border=\"1\" class=\"dataframe\">\n",
              "  <thead>\n",
              "    <tr style=\"text-align: right;\">\n",
              "      <th></th>\n",
              "      <th>sent</th>\n",
              "      <th>sc</th>\n",
              "    </tr>\n",
              "  </thead>\n",
              "  <tbody>\n",
              "    <tr>\n",
              "      <th>133</th>\n",
              "      <td>(༡) ཐེག་པ་ཆེན་པོའི་ལུགས་ཀྱི་ཞིང་ཁམས་ཀྱི་རྣམ་གཞ...</td>\n",
              "      <td>53</td>\n",
              "    </tr>\n",
              "    <tr>\n",
              "      <th>148</th>\n",
              "      <td>༡༩༤༢ ལོ་ནས་བཟུང་བོད་ཀྱི་ལོ་རྒྱུས་ལ་སྤྲོ་བ་རྒྱས...</td>\n",
              "      <td>53</td>\n",
              "    </tr>\n",
              "    <tr>\n",
              "      <th>339</th>\n",
              "      <td>ལུགས་རྙིང་བོད་བཀའ་ཤག་སྲིད་གཞུང་གི་དམག་སྤྱི་ཆེན...</td>\n",
              "      <td>53</td>\n",
              "    </tr>\n",
              "    <tr>\n",
              "      <th>633</th>\n",
              "      <td>གྲོགས་པོ་ལ་ཕུལ་བ། རིང་ནས་འགྲོགས་པའི་ཉེ་བའི་གྲོ...</td>\n",
              "      <td>53</td>\n",
              "    </tr>\n",
              "    <tr>\n",
              "      <th>834</th>\n",
              "      <td>ལུ་ཡི་སེ་མི་ཤེལ་(ཧྥ་རན་སིའི་སྐད།: Louise Miche...</td>\n",
              "      <td>53</td>\n",
              "    </tr>\n",
              "    <tr>\n",
              "      <th>...</th>\n",
              "      <td>...</td>\n",
              "      <td>...</td>\n",
              "    </tr>\n",
              "    <tr>\n",
              "      <th>117009</th>\n",
              "      <td>སེམས་ཀྱི་རྨ་ཁའི་ན་ཟུག་ཁོག་ན་བཅུམ།། དགའ་སྐྱོ་བས...</td>\n",
              "      <td>53</td>\n",
              "    </tr>\n",
              "    <tr>\n",
              "      <th>117217</th>\n",
              "      <td>གནད་དོན་འདིས་མེན་ཌི་ལི་ཧྤེ་ཡི་དུས་འཁོར་རེའུ་མི...</td>\n",
              "      <td>53</td>\n",
              "    </tr>\n",
              "    <tr>\n",
              "      <th>117226</th>\n",
              "      <td>༁ྃ༔ ཟབ་ཆོས་ཞི་ཁྲོ་དགོངས་པ་རང་གྲོལ་ལས། བསྐྱེད་ར...</td>\n",
              "      <td>53</td>\n",
              "    </tr>\n",
              "    <tr>\n",
              "      <th>117242</th>\n",
              "      <td>སྐྲ། སྤུ། སེན་མོ། སོ། དྲི་མ། པགས་པ། ཤ། རུས་པ། ...</td>\n",
              "      <td>53</td>\n",
              "    </tr>\n",
              "    <tr>\n",
              "      <th>117333</th>\n",
              "      <td>བོད་རྗེ་གཉིས་པ་མུ་ཁྲི་བཙན་པོ་ནི། ཡབ་གཉའ་ཁྲི་བཙ...</td>\n",
              "      <td>53</td>\n",
              "    </tr>\n",
              "  </tbody>\n",
              "</table>\n",
              "<p>500 rows × 2 columns</p>\n",
              "</div>"
            ],
            "text/plain": [
              "                                                     sent  sc\n",
              "133     (༡) ཐེག་པ་ཆེན་པོའི་ལུགས་ཀྱི་ཞིང་ཁམས་ཀྱི་རྣམ་གཞ...  53\n",
              "148     ༡༩༤༢ ལོ་ནས་བཟུང་བོད་ཀྱི་ལོ་རྒྱུས་ལ་སྤྲོ་བ་རྒྱས...  53\n",
              "339     ལུགས་རྙིང་བོད་བཀའ་ཤག་སྲིད་གཞུང་གི་དམག་སྤྱི་ཆེན...  53\n",
              "633     གྲོགས་པོ་ལ་ཕུལ་བ། རིང་ནས་འགྲོགས་པའི་ཉེ་བའི་གྲོ...  53\n",
              "834     ལུ་ཡི་སེ་མི་ཤེལ་(ཧྥ་རན་སིའི་སྐད།: Louise Miche...  53\n",
              "...                                                   ...  ..\n",
              "117009  སེམས་ཀྱི་རྨ་ཁའི་ན་ཟུག་ཁོག་ན་བཅུམ།། དགའ་སྐྱོ་བས...  53\n",
              "117217  གནད་དོན་འདིས་མེན་ཌི་ལི་ཧྤེ་ཡི་དུས་འཁོར་རེའུ་མི...  53\n",
              "117226  ༁ྃ༔ ཟབ་ཆོས་ཞི་ཁྲོ་དགོངས་པ་རང་གྲོལ་ལས། བསྐྱེད་ར...  53\n",
              "117242  སྐྲ། སྤུ། སེན་མོ། སོ། དྲི་མ། པགས་པ། ཤ། རུས་པ། ...  53\n",
              "117333  བོད་རྗེ་གཉིས་པ་མུ་ཁྲི་བཙན་པོ་ནི། ཡབ་གཉའ་ཁྲི་བཙ...  53\n",
              "\n",
              "[500 rows x 2 columns]"
            ]
          },
          "metadata": {
            "tags": []
          },
          "execution_count": 268
        }
      ]
    }
  ]
}